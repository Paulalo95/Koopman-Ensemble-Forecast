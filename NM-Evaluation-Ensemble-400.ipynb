{
 "cells": [
  {
   "cell_type": "markdown",
   "id": "ffc5fd61-d456-43c3-8ae9-b3f39279e40a",
   "metadata": {},
   "source": [
    "# Libraries"
   ]
  },
  {
   "cell_type": "code",
   "execution_count": 1,
   "id": "984e34c3-e4df-4736-91ed-c7fe25de7ad3",
   "metadata": {},
   "outputs": [
    {
     "data": {
      "text/plain": [
       "svmem(total=540408913920, available=524722941952, percent=2.9, used=11455774720, free=526349234176, active=1145196544, inactive=4194275328, buffers=4370432, cached=2599534592, shared=1185026048, slab=1190862848)"
      ]
     },
     "execution_count": 1,
     "metadata": {},
     "output_type": "execute_result"
    }
   ],
   "source": [
    "import psutil\n",
    "psutil.virtual_memory() "
   ]
  },
  {
   "cell_type": "code",
   "execution_count": null,
   "id": "119949cf-2dc3-4a4c-a98e-b6f7ce01b4e1",
   "metadata": {},
   "outputs": [],
   "source": [
    "from datetime import datetime\n",
    "\n",
    "import numpy as np\n",
    "import pandas as pd\n",
    "from numpy import array\n",
    "\n",
    "from os import listdir\n",
    "from os.path import isfile, join\n",
    "import glob\n",
    "\n",
    "import pickle\n",
    "\n",
    "import cartopy.crs as ccrs\n",
    "import cartopy.feature as cfeature\n",
    "from cartopy.mpl.ticker import LongitudeFormatter, LatitudeFormatter\n",
    "#import cmocean\n",
    "##from mpl_toolkits.basemap import Basemap\n",
    "\n",
    "from matplotlib import ticker\n",
    "import matplotlib.pyplot as plt\n",
    "%matplotlib inline\n",
    "import matplotlib.colors as colors\n",
    "import matplotlib.pyplot as plt\n",
    "\n",
    "from matplotlib.colors import LogNorm\n",
    "from matplotlib.lines import Line2D\n",
    "from cartopy.mpl.ticker import LongitudeFormatter\n",
    "\n",
    "\n",
    "import metpy.calc as mpcalc\n",
    "from metpy.units import units\n",
    "import numpy as np\n",
    "from scipy.ndimage import gaussian_filter\n",
    "import xarray as xr\n",
    "import scipy as _sp\n",
    "\n",
    "import random"
   ]
  },
  {
   "cell_type": "code",
   "execution_count": 2,
   "id": "16d07603-b772-4121-be14-ad3867441e03",
   "metadata": {},
   "outputs": [],
   "source": [
    "import klus.algorithms as al\n",
    "# import d3s.domain as domain\n",
    "import klus.kernels as kernels\n",
    "# import d3s.tools as tools\n",
    "\n",
    "import zapata.computation as zcom\n",
    "import zapata.data as zdat\n",
    "import zapata.lib as zlib\n",
    "import zapata.mapping as zmap\n",
    "import zapata.koopman as zkop\n",
    "\n",
    "from scipy.spatial import distance\n",
    "\n",
    "from scipy.signal import argrelextrema\n",
    "from sklearn.model_selection import GridSearchCV\n",
    "from sklearn.neighbors import KernelDensity\n",
    "\n",
    "#%pdb\n",
    "%load_ext autoreload\n",
    "%autoreload 2\n",
    "%matplotlib inline\n"
   ]
  },
  {
   "cell_type": "code",
   "execution_count": 3,
   "id": "d9560f4b-d1a2-4d44-9686-7293b8acc503",
   "metadata": {},
   "outputs": [],
   "source": [
    "import scipy.linalg as sc\n",
    "import numpy.linalg as lin"
   ]
  },
  {
   "cell_type": "markdown",
   "id": "5d14974a-0d1f-475e-aefc-b360830e9f68",
   "metadata": {
    "jp-MarkdownHeadingCollapsed": true,
    "tags": []
   },
   "source": [
    "# Definition of functions"
   ]
  },
  {
   "cell_type": "markdown",
   "id": "cad10e11-bc64-413c-9166-0cf67d0ed34b",
   "metadata": {
    "jp-MarkdownHeadingCollapsed": true,
    "tags": []
   },
   "source": [
    "## Definition order_w"
   ]
  },
  {
   "cell_type": "code",
   "execution_count": null,
   "id": "3e259a6a-a960-4c8c-a277-914dd99d1162",
   "metadata": {},
   "outputs": [],
   "source": [
    "def order_w(w,option='magnitude',direction='up'):\n",
    "    '''\n",
    "    Order Eigenvalues according to \n",
    "    option\n",
    "    'magnitude'         abs(w)\n",
    "    'frequency'         w.imag\n",
    "    'growth'            w.real\n",
    "    'ones'              abs(w) closest to 1.0\n",
    "    \n",
    "    direction\n",
    "    'up'               descending\n",
    "    'down'             ascending\n",
    "    \n",
    "    '''\n",
    "    print(' Ordering Eigenvalues as ', option, ' with direction ',direction)\n",
    "    w_cont = np.log(w)\n",
    "    if option == 'magnitude':\n",
    "        ind=abs(w).argsort()\n",
    "    elif option == 'frequency':\n",
    "        ind=abs(w_cont.imag).argsort()\n",
    "    elif option == 'growth':\n",
    "        ind=np.abs(w_cont.real - 0.0).argsort()\n",
    "    elif option == 'one':\n",
    "        ind=np.abs(np.abs(w) - 1.0).argsort()\n",
    "    else:\n",
    "        print(' Error in oder_w', option, direction)\n",
    "# Choose direction\n",
    "    if direction == 'up':\n",
    "        indu=ind[::-1]\n",
    "    else:\n",
    "        indu=ind\n",
    "\n",
    "    w0=w[indu]\n",
    "    w1=w_cont[indu]\n",
    "    return w0,w1,indu\n"
   ]
  },
  {
   "cell_type": "markdown",
   "id": "3f945469-9a4f-480b-83cc-46d180d5e84a",
   "metadata": {},
   "source": [
    "## Definition function evolve and verify"
   ]
  },
  {
   "cell_type": "code",
   "execution_count": null,
   "id": "d9991af2-d130-4a88-979e-f25462cd7cae",
   "metadata": {},
   "outputs": [],
   "source": [
    "def evolve(tim_level,tstep,init_date):\n",
    "    #tim_level=[0,1,2,3,4,5,6]\n",
    "    #cases =  216,228,240, 36,48,60,  360,372,384\n",
    "    #tstep=3\n",
    "    #nstart=360\n",
    "    x0=PsiX[:,init_date]\n",
    "    ht=np.zeros([x0.shape[0],len(tim_level)],dtype='complex')\n",
    "    for j in tim_level:\n",
    "        D = np.diag(vw_s[:nmode]**(j*tstep))                  # w --> vw_s\n",
    "        ht[:,j]=alpha@D@vcut.T@Gxx[init_date,:] \n",
    "    return ht\n",
    "\n",
    "#verify to EOF expansion  (spatial correlation)\n",
    "def verify(tim_level,tstep,init_date,PCs,ht,verbose=False):\n",
    "    sstcor=np.zeros([len(tim_level)])\n",
    "    sstlab=np.zeros([len(tim_level)],dtype='int')\n",
    "    for neig in range(len(tim_level)):\n",
    "        kaz1=ht[:,neig].real \n",
    "        kaz2=PCs[:,int(init_date+neig*tstep)]\n",
    "        ytmp = np.expand_dims(udat_tot[:,0:nEOF_SST]@kaz1, axis=1)\n",
    "        ztmp = np.expand_dims(udat_tot[:,0:nEOF_SST]@kaz2, axis=1)\n",
    "        #ICcase=lib.year2date(years,nstart)\n",
    "        #ICdat=lib.year2date(years,tstep*neig+nstart)\n",
    "        #label1 = ' at {}, IC at {}'.format(ICdat,ICcase)\n",
    "        val=np.corrcoef(ytmp[:,0],ztmp[:,0])[0,1]\n",
    "        if verbose : print(' Correlation at {}    {}'.format(label1,val))\n",
    "        sstcor[neig]=val\n",
    "        sstlab[neig]=int(tstep*neig+init_date)\n",
    "    return sstcor,sstlab\n",
    "\n",
    "\n",
    "#verify to total data\n",
    "def verify_tot(tim_level,tstep,init_date,X,ht,verbose=False):\n",
    "    sstcor=np.zeros([len(tim_level)])\n",
    "    sstlab=np.zeros([len(tim_level)],dtype='int')\n",
    "    for neig in range(len(tim_level)):\n",
    "        kaz1=ht[:,neig].real \n",
    "        ytmp = np.expand_dims(udat_tot[:,0:nEOF_SST]@kaz1, axis=1)\n",
    "        ztmp = X.A.data[:, int(init_date+neig*tstep)]\n",
    "        #ICcase=lib.year2date(years,nstart)\n",
    "        #ICdat=lib.year2date(years,tstep*neig+nstart)\n",
    "        #label1 = ' at {}, IC at {}'.format(ICdat,ICcase)\n",
    "        val=np.corrcoef(ytmp[:,0],ztmp)[0,1]\n",
    "        if verbose : print(' Correlation at {}    {}'.format(label1,val))\n",
    "        sstcor[neig]=val\n",
    "        sstlab[neig]=int(tstep*neig+init_date)\n",
    "    return sstcor,sstlab"
   ]
  },
  {
   "cell_type": "markdown",
   "id": "3819b7d5-c9c6-46e6-a020-9a444826d498",
   "metadata": {},
   "source": [
    "## Definition dates2years"
   ]
  },
  {
   "cell_type": "code",
   "execution_count": null,
   "id": "3e279dad-3e5c-4c3c-9879-7fee9fd61a15",
   "metadata": {},
   "outputs": [],
   "source": [
    "def date2year(years,init_year,date):\n",
    "    \"\"\"Transform index date ['Jan' '1989' ] in index i.\n",
    "    \n",
    "    Years are from np.arange(1960,2020, 1/12)\n",
    "    \"\"\"\n",
    "    mon=['JAN','FEB','MAR','APR','MAY','JUN','JUL','AUG','SEP','OCT','NOV','DEC']\n",
    "    y=float(date[4:8])\n",
    "    m=mon.index(str(date[0:3]))\n",
    "    index = (y-init_year)*12 + m\n",
    "    return int(index)"
   ]
  },
  {
   "cell_type": "code",
   "execution_count": null,
   "id": "dd5b598b-6748-41de-9e2d-08acda0aff16",
   "metadata": {},
   "outputs": [],
   "source": [
    "def year2date(years,i):\n",
    "    \"\"\" Transform index i in string date yy/mm.\n",
    "    \n",
    "    Rounding requires the small shift\n",
    "    Years are obtained from np.arange(1920,2018, 1/12)\n",
    "    \"\"\"\n",
    "    mon=['JAN','FEB','MAR','APR','MAY','JUN','JUL','AUG','SEP','OCT','NOV','DEC']\n",
    "    y=str(int(years[i]+0.001))\n",
    "    m=np.mod(int(round((years[i]-int(years[i]))*12)),12)\n",
    "    date = mon[m] + ' ' + y\n",
    "    return date"
   ]
  },
  {
   "cell_type": "markdown",
   "id": "0a016492-a4a6-4665-8f2a-238ee235164e",
   "metadata": {},
   "source": [
    "## Definition eigenvalues on points"
   ]
  },
  {
   "cell_type": "code",
   "execution_count": null,
   "id": "9b662ccf-53c7-4a22-8a44-028a2c1aa197",
   "metadata": {},
   "outputs": [],
   "source": [
    "def eigenfunction_value(cc, KK_tot, x, mode ):\n",
    "    '''\n",
    "    Compute eigenfunction value at point x\n",
    "\n",
    "    Parameters\n",
    "    ----------\n",
    "    x: Point at which eigenfunction is computed\n",
    "    mode: Mode number\n",
    "\n",
    "    Returns\n",
    "    -------\n",
    "    eigenfunction value\n",
    "    '''\n",
    "    k = KK_tot.ker\n",
    "    f = 0\n",
    "    for i in range(KK_tot.ntime):\n",
    "        f +=  cc[i,mode]*k(x, KK_tot.PsiX[:, i])       #somma per tutti i tempo: componente del modo (colonna) per kernel(initial condition x, fila PsiX)\n",
    "    return f"
   ]
  },
  {
   "cell_type": "code",
   "execution_count": null,
   "id": "f43799f9-fac1-49c0-a73f-0994707bbd1d",
   "metadata": {},
   "outputs": [],
   "source": [
    "def eigenfunction_value_opt(cc, KK_tot, x, mode):\n",
    "    '''\n",
    "    Compute eigenfunction value at point x\n",
    "\n",
    "    Parameters\n",
    "    ----------\n",
    "    x: Point at which eigenfunction is computed\n",
    "    mode: Mode number\n",
    "\n",
    "    Returns\n",
    "    -------\n",
    "    eigenfunction value\n",
    "    '''\n",
    "    k = KK_tot.ker\n",
    "    ntime = KK_tot.ntime\n",
    "    PsiX = KK_tot.PsiX\n",
    "    mode_cc = cc[:, mode]  # Extract the mode component once\n",
    "\n",
    "    # Precompute k(x, PsiX) to avoid redundant calculations\n",
    "    k_values = np.array([k(x, PsiX[:, i]) for i in range(ntime)])\n",
    "\n",
    "    f = np.dot(mode_cc, k_values)  # Use NumPy dot product for summation\n",
    "    return f"
   ]
  },
  {
   "cell_type": "markdown",
   "id": "9d368da2-fc1e-4831-9ad2-f20c5a736c05",
   "metadata": {},
   "source": [
    "## Definition sigma cost function"
   ]
  },
  {
   "cell_type": "code",
   "execution_count": null,
   "id": "bfb7ef2b-6110-4c0a-bf15-d3f2ebc1249a",
   "metadata": {},
   "outputs": [],
   "source": [
    "from scipy.optimize import minimize_scalar"
   ]
  },
  {
   "cell_type": "code",
   "execution_count": null,
   "id": "5897734e-aaf9-4454-8000-fa2b1fb1be5c",
   "metadata": {},
   "outputs": [],
   "source": [
    "def cost(x):\n",
    "    ss = str(x)\n",
    "    KK_tot.fit(bandwidth=ss)\n",
    "    KMM = sc.pinv(KK_tot.vv)@(KK_tot.PsiX.T)\n",
    "    return sum(lin.norm(KK_tot.vv@KMM-KK_tot.PsiX.T, axis=0))"
   ]
  },
  {
   "cell_type": "markdown",
   "id": "31ec7d7c-3ebe-44d9-b8e0-a15ef0ef4cdf",
   "metadata": {
    "jp-MarkdownHeadingCollapsed": true,
    "tags": []
   },
   "source": [
    "# Load and regrid data"
   ]
  },
  {
   "cell_type": "code",
   "execution_count": 6,
   "id": "e4f4b41d-99c4-4754-a690-901ab86dd42c",
   "metadata": {},
   "outputs": [],
   "source": [
    "#CMIP Jakob\n",
    "ds_tos = xr.open_dataarray(\"CESM_data/regridded_tos.nc\")\n",
    "ds_ssh = xr.open_dataarray(\"CESM_data/regridded_ssh.nc\")"
   ]
  },
  {
   "cell_type": "code",
   "execution_count": 7,
   "id": "241727ed-8a01-4a6b-81ca-3f4668c5da4e",
   "metadata": {},
   "outputs": [
    {
     "data": {
      "text/plain": [
       "<matplotlib.collections.QuadMesh at 0x147340eff610>"
      ]
     },
     "execution_count": 7,
     "metadata": {},
     "output_type": "execute_result"
    },
    {
     "data": {
      "image/png": "[encoded data removed]",
      "text/plain": [
       "<Figure size 640x480 with 2 Axes>"
      ]
     },
     "metadata": {},
     "output_type": "display_data"
    }
   ],
   "source": [
    "ds_tos.isel(time=0).plot()"
   ]
  },
  {
   "cell_type": "raw",
   "id": "550f410d-a477-4239-bc5e-8d24cc2f253f",
   "metadata": {},
   "source": [
    "ds_ssh.isel(time=0).plot()"
   ]
  },
  {
   "cell_type": "markdown",
   "id": "ccebe9b6-b5ae-493c-befe-c1716135fe1a",
   "metadata": {},
   "source": [
    "## Subset data"
   ]
  },
  {
   "cell_type": "code",
   "execution_count": 8,
   "id": "4aa7cb82-7cb9-4722-8c1a-7f3abcea6efc",
   "metadata": {},
   "outputs": [],
   "source": [
    "#  Read Variable\n",
    "area='Jakob'\n",
    "if area == 'TROPIC':\n",
    "    # central pacific coordinates\n",
    "    arealat=(35,-35)\n",
    "    arealon=[-180, 180.]\n",
    "elif area == 'GLOBAL':\n",
    "    arealat=(60,-60)\n",
    "    arealon=[-160,110.]\n",
    "elif area == 'WORLD':\n",
    "    arealat=(60,-60)\n",
    "    arealon=[-180,180.]\n",
    "elif area == 'NAVARRA_2021':\n",
    "    arealat=(-15,15)\n",
    "    arealon=[140,290.]\n",
    "elif area == 'Jakob':\n",
    "    arealat=(-31,32)\n",
    "    arealon=[130,290.]\n",
    "else:\n",
    "    Print(f'No area ')\n",
    "    \n",
    "case = 'UNIT'    \n",
    "data_name= 'CESM'\n",
    "variable='SST'\n",
    "lev = 'SURF'\n",
    "shift = 'ERA5'\n",
    "period = 'ANN'\n",
    "normalization = 'anom'\n",
    "\n",
    "# Use SVD encoding\n",
    "encode_svd = True\n",
    "#Choose number of SVD to ratain\n",
    "var_retained = None #None# Variance retained or None for full rank\n",
    "#Option to write files\n",
    "write_files = False"
   ]
  },
  {
   "cell_type": "code",
   "execution_count": 9,
   "id": "e065fdbe-4d7b-4a0d-9b08-b698fee58a81",
   "metadata": {},
   "outputs": [],
   "source": [
    "S_tos = ds_tos.sel(lat=slice(arealat[0],arealat[1]),lon=slice(arealon[0],arealon[1]))\n",
    "S_ssh = ds_ssh.sel(lat=slice(arealat[0],arealat[1]),lon=slice(arealon[0],arealon[1]))"
   ]
  },
  {
   "cell_type": "code",
   "execution_count": 10,
   "id": "706e1aa8-846f-4a0e-a254-3ed431febff0",
   "metadata": {},
   "outputs": [
    {
     "data": {
      "text/plain": [
       "<matplotlib.collections.QuadMesh at 0x14734093d690>"
      ]
     },
     "execution_count": 10,
     "metadata": {},
     "output_type": "execute_result"
    },
    {
     "data": {
      "image/png": "[encoded data removed]",
      "text/plain": [
       "<Figure size 640x480 with 2 Axes>"
      ]
     },
     "metadata": {},
     "output_type": "display_data"
    }
   ],
   "source": [
    "S_tos.isel(time=0).plot()"
   ]
  },
  {
   "cell_type": "code",
   "execution_count": 11,
   "id": "99ef3d65-6817-45fb-abf3-0818dfa1a6f1",
   "metadata": {},
   "outputs": [],
   "source": [
    "del(ds_tos, ds_ssh)"
   ]
  },
  {
   "cell_type": "code",
   "execution_count": 12,
   "id": "392a4776-bcff-46b9-9c3d-d682e66431de",
   "metadata": {},
   "outputs": [
    {
     "data": {
      "text/plain": [
       "svmem(total=540409159680, available=517487669248, percent=4.2, used=18795081728, free=519004053504, active=1204117504, inactive=11596787712, buffers=5447680, cached=2604576768, shared=1156976640, slab=1226641408)"
      ]
     },
     "execution_count": 12,
     "metadata": {},
     "output_type": "execute_result"
    }
   ],
   "source": [
    "import psutil\n",
    "psutil.virtual_memory() "
   ]
  },
  {
   "cell_type": "markdown",
   "id": "d1bd008a-8b9c-4535-a18c-b52ec5abf9e9",
   "metadata": {},
   "source": [
    "## Create matrices, de-trending data and anomalies"
   ]
  },
  {
   "cell_type": "code",
   "execution_count": 13,
   "id": "bef88f8d-fc26-4ffc-8fc8-9a2fe3b2190c",
   "metadata": {},
   "outputs": [
    {
     "name": "stdout",
     "output_type": "stream",
     "text": [
      " Created mathematical matrix A, \n",
      "                 stacked along dimensions ('lat', 'lon') \n"
     ]
    }
   ],
   "source": [
    "#Create Xmats\n",
    "X_tos=zcom.Xmat(S_tos,dims=('lat','lon'))\n",
    "X_tos.A = X_tos.A.dropna(dim='z')"
   ]
  },
  {
   "cell_type": "code",
   "execution_count": 14,
   "id": "0d6d56aa-ce85-4534-8c8a-34a68386c802",
   "metadata": {},
   "outputs": [
    {
     "name": "stdout",
     "output_type": "stream",
     "text": [
      " Created mathematical matrix A, \n",
      "                 stacked along dimensions ('lat', 'lon') \n"
     ]
    }
   ],
   "source": [
    "X_ssh=zcom.Xmat(S_ssh,dims=('lat','lon'))\n",
    "X_ssh.A = X_ssh.A.dropna(dim='z')"
   ]
  },
  {
   "cell_type": "code",
   "execution_count": 15,
   "id": "5740919d-2332-4b9c-8051-b11c126f5441",
   "metadata": {},
   "outputs": [],
   "source": [
    "del(S_tos,S_ssh)"
   ]
  },
  {
   "cell_type": "code",
   "execution_count": 16,
   "id": "af3d2d2c-a7bf-42a7-bdfc-7874407349e2",
   "metadata": {},
   "outputs": [
    {
     "name": "stdout",
     "output_type": "stream",
     "text": [
      "Detrending data with options -->  {'axis': 1}\n",
      "Detrending data with options -->  {'axis': 1}\n"
     ]
    }
   ],
   "source": [
    "#Detrending\n",
    "X_tos.detrend(axis=1)\n",
    "X_ssh.detrend(axis=1)"
   ]
  },
  {
   "cell_type": "code",
   "execution_count": 17,
   "id": "d9c66dcb-b811-43e1-b23b-f9788e55e368",
   "metadata": {},
   "outputs": [],
   "source": [
    "#Anomalies\n",
    "X_tos.anom(option='anomstd',freq='month')\n",
    "X_ssh.anom(option='anomstd',freq='month')"
   ]
  },
  {
   "cell_type": "code",
   "execution_count": 18,
   "id": "41ab427e-0dcb-4701-8dec-acabe9a0e556",
   "metadata": {},
   "outputs": [],
   "source": [
    "del(X_ssh)"
   ]
  },
  {
   "cell_type": "markdown",
   "id": "06d9edd4-43f3-487a-895b-b7f57aa8a294",
   "metadata": {},
   "source": [
    "# Evaluation"
   ]
  },
  {
   "cell_type": "markdown",
   "id": "a6964acb-75be-4283-bf3d-bab76206e342",
   "metadata": {},
   "source": [
    "### Tools for the plots"
   ]
  },
  {
   "cell_type": "code",
   "execution_count": 5,
   "id": "84ead5bf-61ba-422b-b872-a89b96706184",
   "metadata": {},
   "outputs": [],
   "source": [
    "import nc_time_axis"
   ]
  },
  {
   "cell_type": "code",
   "execution_count": 6,
   "id": "9c134dc8-a881-4abe-bb53-eca6d363cecd",
   "metadata": {},
   "outputs": [],
   "source": [
    "flabel = {'fontsize':14,'fontweight':'bold'}   #,'fontfamily':'Futura'\n",
    "ftitle = {'fontsize':18,'fontweight':'bold'}   #,'fontfamily':'Futura',"
   ]
  },
  {
   "cell_type": "markdown",
   "id": "5de1003b-bac3-4562-a10d-794ffd4e0252",
   "metadata": {},
   "source": [
    "### Data preparation"
   ]
  },
  {
   "cell_type": "code",
   "execution_count": 7,
   "id": "ed41ff9b-c3df-4a48-9472-d963e9c64c41",
   "metadata": {},
   "outputs": [],
   "source": [
    "## Load EOFs\n",
    "PCs=np.load('Processed_data/PCs_CESM_845SST_1000SSH.npy')\n",
    "EOFs=np.load('Processed_data/EOFs_CESM_845SST_1000SSH.npy')"
   ]
  },
  {
   "cell_type": "code",
   "execution_count": 8,
   "id": "bb2aaf83-326a-40a0-b8a7-b1a07c667c8d",
   "metadata": {},
   "outputs": [],
   "source": [
    "#for_levels=[0,1,2,3,4,5,6,7,8,9,10,11,12,13,14,15,16,17,18]\n",
    "operators=[0,1,2,3,4,5,6]\n",
    "periods=[0,1,2,3,4,5,6,7,8,9,10,11,12,13,14,15,16,17,18,19]\n",
    "lead_times=[0,1,2,3,4,5,6,7,8,9,10,11,12,13,14,15,16,17,18,19,20,21,22,23]"
   ]
  },
  {
   "cell_type": "markdown",
   "id": "de929c40-1fb3-497b-ac14-32e9b57d3d2a",
   "metadata": {
    "jp-MarkdownHeadingCollapsed": true
   },
   "source": [
    "# Overlap"
   ]
  },
  {
   "cell_type": "markdown",
   "id": "5d41df0a-abe4-42ba-9f81-cfb9e491d88e",
   "metadata": {},
   "source": [
    "## ALL GAUSS"
   ]
  },
  {
   "cell_type": "code",
   "execution_count": null,
   "id": "004ada75-6cb3-439c-b86c-3acd0a039784",
   "metadata": {},
   "outputs": [],
   "source": [
    "#Select EOFs\n",
    "udat_sst=EOFs[:,0:845]"
   ]
  },
  {
   "cell_type": "code",
   "execution_count": null,
   "id": "5cda4eb9-36a3-4fa6-acb3-98c3fe955780",
   "metadata": {},
   "outputs": [],
   "source": [
    "## Compute observations NON truncated to PCs\n",
    "Xindex=X_tos.A.unstack().sel(lat=slice(-5,5),lon=slice(170,220)).mean(dim=('lat','lon'))#[:-1]\n",
    "Xindex"
   ]
  },
  {
   "cell_type": "markdown",
   "id": "3ea71ed2-acb5-4748-9c98-63935c6ee478",
   "metadata": {},
   "source": [
    "### Load data"
   ]
  },
  {
   "cell_type": "code",
   "execution_count": null,
   "id": "0988666d-4ce8-4659-a0f4-ebbf205ea3e8",
   "metadata": {},
   "outputs": [],
   "source": [
    "tot_for=np.zeros((20, 7, 1845, 24, 1176))"
   ]
  },
  {
   "cell_type": "code",
   "execution_count": null,
   "id": "b851a443-5b8a-485c-91aa-52e0b33ec0b4",
   "metadata": {},
   "outputs": [],
   "source": [
    "operators=[0,1,2,3,4,5,6]"
   ]
  },
  {
   "cell_type": "code",
   "execution_count": null,
   "id": "afe1c33a-a16c-40f7-8eec-602cea70612d",
   "metadata": {},
   "outputs": [],
   "source": [
    "for n in range(len(periods)):\n",
    "    tot_for[n,:,:,:,:]= np.load(f'Forecasts 400/ALLEOFs_forecast_p{n}.npy')"
   ]
  },
  {
   "cell_type": "code",
   "execution_count": null,
   "id": "82386ebf-833f-40cc-967e-8a3ab6ccff7b",
   "metadata": {},
   "outputs": [],
   "source": [
    "tot_for_union=np.empty((7, 1845, 24, 24000))\n",
    "tot_for_union.fill(np.NaN)"
   ]
  },
  {
   "cell_type": "code",
   "execution_count": null,
   "id": "93d0d626-c834-4275-b2fb-02d02588c50c",
   "metadata": {},
   "outputs": [],
   "source": [
    "for m in lead_times:\n",
    "    for n in periods:\n",
    "        tot_for_union[:,:,m, m + n*1200 : m + n*1200 +1176]=tot_for[n,:,:,m,:]"
   ]
  },
  {
   "cell_type": "code",
   "execution_count": null,
   "id": "693a6e5b-9c0a-422a-9fe6-f3fea2d65a9c",
   "metadata": {},
   "outputs": [],
   "source": [
    "del(tot_for)"
   ]
  },
  {
   "cell_type": "code",
   "execution_count": null,
   "id": "b842e144-49d8-499e-8832-d8ef54034020",
   "metadata": {},
   "outputs": [],
   "source": [
    "import psutil\n",
    "psutil.virtual_memory()"
   ]
  },
  {
   "cell_type": "markdown",
   "id": "4f7b44e4-672c-4aca-844b-55f36aa9a3d0",
   "metadata": {},
   "source": [
    "### Correlations"
   ]
  },
  {
   "cell_type": "code",
   "execution_count": null,
   "id": "d8089c3d-e5ba-4216-904f-5908ad53708e",
   "metadata": {},
   "outputs": [],
   "source": [
    "mean_av=np.zeros(24)"
   ]
  },
  {
   "cell_type": "code",
   "execution_count": null,
   "id": "efa9dc4e-c5fd-4ae7-8352-868cda54d7e1",
   "metadata": {},
   "outputs": [],
   "source": [
    "import random"
   ]
  },
  {
   "cell_type": "code",
   "execution_count": null,
   "id": "03a79b08-0e6c-4c0b-824c-8215e7f41ae4",
   "metadata": {},
   "outputs": [],
   "source": [
    "diff_gaussALL_lead=np.zeros((7,10))\n",
    "lead=15\n",
    "\n",
    "\n",
    "for m in range(10):\n",
    "\n",
    "    for i in operators:\n",
    "        \n",
    "        num=i+1\n",
    "    \n",
    "        mean_av=np.zeros(24)\n",
    "        mean_ind=np.zeros((24,num))\n",
    "        \n",
    "        chosen=random.sample(operators, k=num)\n",
    "        tot_for_union_sel=tot_for_union[chosen, :,:,:]\n",
    "        \n",
    "        ## Compute average forecast\n",
    "        av_for=np.mean(tot_for_union_sel, axis=0)\n",
    "        av_for_geo_array=udat_sst @ av_for[0:845,lead,:]            \n",
    "        av_for_geo = xr.full_like(X_tos.A[:,:],0)\n",
    "        av_for_geo.data=av_for_geo_array.real\n",
    "        Avindex=av_for_geo.unstack().sel(lat=slice(-5,5),lon=slice(170,220)).mean(dim=('lat','lon'))\n",
    "        \n",
    "        #Correlation average forecast and observations\n",
    "        mean_av[lead]=np.corrcoef(Xindex[np.invert(np.isnan(Avindex))],Avindex[np.invert(np.isnan(Avindex))])[0,1]\n",
    "        #RMSE_mean_av[lead]=1-np.sqrt(np.square(np.subtract(Xindex[np.invert(np.isnan(Avindex))],Avindex[np.invert(np.isnan(Avindex))])).mean()) / np.std(Xindex[np.invert(np.isnan(Avindex))])\n",
    "        #print(mean_av[lead])\n",
    "        \n",
    "        #Average correlation between individual forecast and observations\n",
    "        for i in range(num):  \n",
    "            phix_geo_array=udat_sst @ tot_for_union_sel[i,0:845,lead,:]  \n",
    "            phix_geo = xr.full_like(X_tos.A[:,:],0)\n",
    "            phix_geo.data=phix_geo_array.real\n",
    "            Phiindex=phix_geo.unstack().sel(lat=slice(-5,5),lon=slice(170,220)).mean(dim=('lat','lon'))\n",
    "        \n",
    "            mean_ind[lead,i]=np.corrcoef(Xindex[np.invert(np.isnan(Phiindex))],Phiindex[np.invert(np.isnan(Phiindex))])[0,1]\n",
    "            #RMSE_mean_ind[lead,i]= 1-np.sqrt(np.square(np.subtract(Xindex[np.invert(np.isnan(Phiindex))],Phiindex[np.invert(np.isnan(Phiindex))])).mean()) / np.std(Xindex[np.invert(np.isnan(Phiindex))])\n",
    "            \n",
    "        av_corr=np.mean(mean_ind, axis=1)[lead]\n",
    "        diff_gaussALL_lead[i,m]=mean_av[lead]-av_corr\n",
    "        print(m, \" \", num, \"   \", mean_av[lead]-av_corr, \"  \", chosen)"
   ]
  },
  {
   "cell_type": "code",
   "execution_count": null,
   "id": "a335d4db-110f-4f4e-b21b-b43a03c9168d",
   "metadata": {},
   "outputs": [],
   "source": []
  },
  {
   "cell_type": "code",
   "execution_count": null,
   "id": "8d848781-43e3-49c5-a48a-e57eb5f74a2f",
   "metadata": {},
   "outputs": [],
   "source": [
    "np.save('Forecasts 400/Skill metrics/diff_gaussALL_lead5.npy', diff_gaussALL_lead, allow_pickle=True, fix_imports=True)"
   ]
  },
  {
   "cell_type": "code",
   "execution_count": null,
   "id": "76927ae8-a9a5-493d-b974-4d493a22a509",
   "metadata": {},
   "outputs": [],
   "source": [
    "np.save('Forecasts 400/Skill metrics/diff_gaussALL_lead10.npy', diff_gaussALL_lead, allow_pickle=True, fix_imports=True)"
   ]
  },
  {
   "cell_type": "code",
   "execution_count": null,
   "id": "d9264f13-cecf-4f5c-8f3d-3ebd0e4904fa",
   "metadata": {},
   "outputs": [],
   "source": [
    "np.save('Forecasts 400/Skill metrics/diff_gaussALL_lead15.npy', diff_gaussALL_lead, allow_pickle=True, fix_imports=True)"
   ]
  },
  {
   "cell_type": "markdown",
   "id": "5f89f326-0855-4547-9383-80689d5c2d58",
   "metadata": {
    "jp-MarkdownHeadingCollapsed": true
   },
   "source": [
    "## 30 GAUSS"
   ]
  },
  {
   "cell_type": "code",
   "execution_count": null,
   "id": "8198821c-668a-415d-b82e-6f8b38ef24c3",
   "metadata": {},
   "outputs": [],
   "source": [
    "#Select EOFs\n",
    "udat_sst=EOFs[:,0:20]"
   ]
  },
  {
   "cell_type": "code",
   "execution_count": null,
   "id": "c8adfaca-0f63-461c-9f3f-55710b81d0e5",
   "metadata": {},
   "outputs": [],
   "source": [
    "#Vector with all correlations (First ensemble then member)\n",
    "GAUSS_corr_tot=np.zeros((24,20,2))"
   ]
  },
  {
   "cell_type": "code",
   "execution_count": null,
   "id": "c74e8686-1419-4c5f-aa49-cb4edffb8c7f",
   "metadata": {},
   "outputs": [],
   "source": [
    "## Compute observations NON truncated to PCs\n",
    "Xindex=X_tos.A.unstack().sel(lat=slice(-5,5),lon=slice(170,220)).mean(dim=('lat','lon'))#[:-1]\n",
    "Xindex"
   ]
  },
  {
   "cell_type": "markdown",
   "id": "a3f2ef4f-1b1a-463d-964f-8502910875d1",
   "metadata": {},
   "source": [
    "### Load data"
   ]
  },
  {
   "cell_type": "code",
   "execution_count": null,
   "id": "ade6ec45-94e5-418b-b3ef-41390f822eb1",
   "metadata": {},
   "outputs": [],
   "source": [
    "tot_for=np.zeros((20, 7, 30, 24, 1176))"
   ]
  },
  {
   "cell_type": "code",
   "execution_count": null,
   "id": "24d37b55-634f-4c38-9b9d-33e967bef226",
   "metadata": {},
   "outputs": [],
   "source": [
    "for n in range(len(periods)):\n",
    "    tot_for[n,:,:,:,:]= np.load(f'Forecasts 400/30EOFs_forecast_p{n}.npy')"
   ]
  },
  {
   "cell_type": "code",
   "execution_count": null,
   "id": "499e1b9f-c56f-4d26-b026-603254776205",
   "metadata": {},
   "outputs": [],
   "source": [
    "tot_for_union=np.empty((7, 30, 24, 24000))\n",
    "tot_for_union.fill(np.NaN)"
   ]
  },
  {
   "cell_type": "code",
   "execution_count": null,
   "id": "26dbecee-ce80-40fd-9261-56f3a79374bc",
   "metadata": {},
   "outputs": [],
   "source": [
    "for m in lead_times:\n",
    "    for n in periods:\n",
    "        tot_for_union[:,:,m, m + n*1200 : m + n*1200 +1176]=tot_for[n,:,:,m,:]\n"
   ]
  },
  {
   "cell_type": "code",
   "execution_count": null,
   "id": "22e8080f-d719-4e31-8ae0-41e2b4f398f2",
   "metadata": {},
   "outputs": [],
   "source": [
    "del(tot_for)"
   ]
  },
  {
   "cell_type": "markdown",
   "id": "78a749ce-b357-482c-8704-d61e0bbc91d6",
   "metadata": {},
   "source": [
    "### Correlations"
   ]
  },
  {
   "cell_type": "code",
   "execution_count": null,
   "id": "92228c32-d3a9-4886-8239-efac07adeb40",
   "metadata": {},
   "outputs": [],
   "source": [
    "mean_av=np.zeros(24)"
   ]
  },
  {
   "cell_type": "code",
   "execution_count": null,
   "id": "23235de1-2451-4619-9dd7-8fdd1241337e",
   "metadata": {},
   "outputs": [],
   "source": [
    "import random"
   ]
  },
  {
   "cell_type": "code",
   "execution_count": null,
   "id": "4b84cc4d-ddb6-47f2-9650-4e7d2d111741",
   "metadata": {},
   "outputs": [],
   "source": [
    "diff_gauss30_lead=np.zeros((7,10))\n",
    "lead=15\n",
    "\n",
    "\n",
    "for m in range(10):\n",
    "\n",
    "    for i in operators:\n",
    "        \n",
    "        num=i+1\n",
    "    \n",
    "        mean_av=np.zeros(24)\n",
    "        mean_ind=np.zeros((24,num))\n",
    "        \n",
    "        chosen=random.sample(operators, k=num)\n",
    "        tot_for_union_sel=tot_for_union[chosen, :,:,:]\n",
    "        \n",
    "        ## Compute average forecast\n",
    "        av_for=np.mean(tot_for_union_sel, axis=0)\n",
    "        av_for_geo_array=udat_sst @ av_for[0:20,lead,:]            \n",
    "        av_for_geo = xr.full_like(X_tos.A[:,:],0)\n",
    "        av_for_geo.data=av_for_geo_array.real\n",
    "        Avindex=av_for_geo.unstack().sel(lat=slice(-5,5),lon=slice(170,220)).mean(dim=('lat','lon'))\n",
    "        \n",
    "        #Correlation average forecast and observations\n",
    "        mean_av[lead]=np.corrcoef(Xindex[np.invert(np.isnan(Avindex))],Avindex[np.invert(np.isnan(Avindex))])[0,1]\n",
    "        #RMSE_mean_av[lead]=1-np.sqrt(np.square(np.subtract(Xindex[np.invert(np.isnan(Avindex))],Avindex[np.invert(np.isnan(Avindex))])).mean()) / np.std(Xindex[np.invert(np.isnan(Avindex))])\n",
    "        #print(mean_av[lead])\n",
    "        \n",
    "        #Average correlation between individual forecast and observations\n",
    "        for i in range(num):  \n",
    "            phix_geo_array=udat_sst @ tot_for_union_sel[i,0:20,lead,:]  \n",
    "            phix_geo = xr.full_like(X_tos.A[:,:],0)\n",
    "            phix_geo.data=phix_geo_array.real\n",
    "            Phiindex=phix_geo.unstack().sel(lat=slice(-5,5),lon=slice(170,220)).mean(dim=('lat','lon'))\n",
    "        \n",
    "            mean_ind[lead,i]=np.corrcoef(Xindex[np.invert(np.isnan(Phiindex))],Phiindex[np.invert(np.isnan(Phiindex))])[0,1]\n",
    "            #RMSE_mean_ind[lead,i]= 1-np.sqrt(np.square(np.subtract(Xindex[np.invert(np.isnan(Phiindex))],Phiindex[np.invert(np.isnan(Phiindex))])).mean()) / np.std(Xindex[np.invert(np.isnan(Phiindex))])\n",
    "            \n",
    "        av_corr=np.mean(mean_ind, axis=1)[lead]\n",
    "        diff_gauss30_lead[i,m]=mean_av[lead]-av_corr\n",
    "        print(m, \" \", num, \"   \", mean_av[lead]-av_corr)"
   ]
  },
  {
   "cell_type": "code",
   "execution_count": null,
   "id": "6332f5c2-26e3-4951-bce5-3f009498ee82",
   "metadata": {},
   "outputs": [],
   "source": []
  },
  {
   "cell_type": "code",
   "execution_count": null,
   "id": "1e5f160a-48a7-4fe6-9342-6388f04a5465",
   "metadata": {},
   "outputs": [],
   "source": [
    "np.save('Forecasts 400/Skill metrics/diff_gauss30_lead5.npy', diff_gauss30_lead, allow_pickle=True, fix_imports=True)"
   ]
  },
  {
   "cell_type": "code",
   "execution_count": null,
   "id": "e6eae145-3066-4a1e-9a75-16c32eea9a91",
   "metadata": {},
   "outputs": [],
   "source": [
    "np.save('Forecasts 400/Skill metrics/diff_gauss30_lead10.npy', diff_gauss30_lead, allow_pickle=True, fix_imports=True)"
   ]
  },
  {
   "cell_type": "code",
   "execution_count": null,
   "id": "271551eb-89e2-487d-a122-11fff6740fd3",
   "metadata": {},
   "outputs": [],
   "source": [
    "np.save('Forecasts 400/Skill metrics/diff_gauss30_lead15.npy', diff_gauss30_lead, allow_pickle=True, fix_imports=True)"
   ]
  },
  {
   "cell_type": "code",
   "execution_count": null,
   "id": "1103f580-17ee-4bd6-b94c-f700d3b45c6e",
   "metadata": {},
   "outputs": [],
   "source": []
  },
  {
   "cell_type": "markdown",
   "id": "3f58a30c-636b-4af8-a116-04b34535d9ee",
   "metadata": {
    "jp-MarkdownHeadingCollapsed": true
   },
   "source": [
    "## 30 POLY"
   ]
  },
  {
   "cell_type": "code",
   "execution_count": null,
   "id": "74836f65-698b-40fd-92dd-dcb23b6cd09f",
   "metadata": {},
   "outputs": [],
   "source": [
    "#Select EOFs\n",
    "udat_sst=EOFs[:,0:20]"
   ]
  },
  {
   "cell_type": "code",
   "execution_count": null,
   "id": "64fa0942-85af-457f-b21c-0b4c4c4f8500",
   "metadata": {},
   "outputs": [],
   "source": [
    "## Compute observations NON truncated to PCs\n",
    "Xindex=X_tos.A.unstack().sel(lat=slice(-5,5),lon=slice(170,220)).mean(dim=('lat','lon'))#[:-1]\n",
    "Xindex"
   ]
  },
  {
   "cell_type": "markdown",
   "id": "56650225-2130-4057-a0c8-4ae67da5fcb5",
   "metadata": {},
   "source": [
    "### Load data"
   ]
  },
  {
   "cell_type": "code",
   "execution_count": null,
   "id": "e25b2ce8-0396-4e8c-8347-7bcccb0fad75",
   "metadata": {},
   "outputs": [],
   "source": [
    "tot_for=np.zeros((20, 7, 30, 24, 1176))"
   ]
  },
  {
   "cell_type": "code",
   "execution_count": null,
   "id": "834c857b-6509-420f-b357-6298106a5356",
   "metadata": {},
   "outputs": [],
   "source": [
    "for n in range(len(periods)):\n",
    "    tot_for[n,:,:,:,:]= np.load(f'Forecasts 400/POLY_forecast_p{n}.npy')"
   ]
  },
  {
   "cell_type": "code",
   "execution_count": null,
   "id": "83070eca-d0ab-4e41-9046-2cec78e328aa",
   "metadata": {},
   "outputs": [],
   "source": [
    "tot_for_union=np.empty((7, 30, 24, 24000))\n",
    "tot_for_union.fill(np.NaN)"
   ]
  },
  {
   "cell_type": "code",
   "execution_count": null,
   "id": "c0b45ae6-29ff-4f53-8412-42ae2bbbbaef",
   "metadata": {},
   "outputs": [],
   "source": [
    "for m in lead_times:\n",
    "    for n in periods:\n",
    "        tot_for_union[:,:,m, m + n*1200 : m + n*1200 +1176]=tot_for[n,:,:,m,:]\n"
   ]
  },
  {
   "cell_type": "code",
   "execution_count": null,
   "id": "3068bff2-9edd-465c-9471-3dfd90ed43d6",
   "metadata": {},
   "outputs": [],
   "source": [
    "del(tot_for)"
   ]
  },
  {
   "cell_type": "markdown",
   "id": "b34cffa5-8481-464a-9928-186e75c3616c",
   "metadata": {},
   "source": [
    "### Correlations"
   ]
  },
  {
   "cell_type": "code",
   "execution_count": null,
   "id": "f87d1725-e0ff-43f5-ba13-771b8d87d5a4",
   "metadata": {},
   "outputs": [],
   "source": [
    "mean_av=np.zeros(24)"
   ]
  },
  {
   "cell_type": "code",
   "execution_count": null,
   "id": "d4060338-7f12-4ac1-ab4e-805033b3e455",
   "metadata": {},
   "outputs": [],
   "source": [
    "import random"
   ]
  },
  {
   "cell_type": "code",
   "execution_count": null,
   "id": "2ba7e663-a2d6-47e2-87b8-473245fa4c7f",
   "metadata": {},
   "outputs": [],
   "source": [
    "diff_poly_lead=np.zeros((7,10))\n",
    "lead=15\n",
    "\n",
    "\n",
    "for m in range(10):\n",
    "\n",
    "    for i in operators:\n",
    "        \n",
    "        num=i+1\n",
    "    \n",
    "        mean_av=np.zeros(24)\n",
    "        mean_ind=np.zeros((24,num))\n",
    "        \n",
    "        chosen=random.sample(operators, k=num)\n",
    "        tot_for_union_sel=tot_for_union[chosen, :,:,:]\n",
    "        \n",
    "        ## Compute average forecast\n",
    "        av_for=np.mean(tot_for_union_sel, axis=0)\n",
    "        av_for_geo_array=udat_sst @ av_for[0:20,lead,:]            \n",
    "        av_for_geo = xr.full_like(X_tos.A[:,:],0)\n",
    "        av_for_geo.data=av_for_geo_array.real\n",
    "        Avindex=av_for_geo.unstack().sel(lat=slice(-5,5),lon=slice(170,220)).mean(dim=('lat','lon'))\n",
    "        \n",
    "        #Correlation average forecast and observations\n",
    "        mean_av[lead]=np.corrcoef(Xindex[np.invert(np.isnan(Avindex))],Avindex[np.invert(np.isnan(Avindex))])[0,1]\n",
    "        #RMSE_mean_av[lead]=1-np.sqrt(np.square(np.subtract(Xindex[np.invert(np.isnan(Avindex))],Avindex[np.invert(np.isnan(Avindex))])).mean()) / np.std(Xindex[np.invert(np.isnan(Avindex))])\n",
    "        #print(mean_av[lead])\n",
    "        \n",
    "        #Average correlation between individual forecast and observations\n",
    "        for i in range(num):  \n",
    "            phix_geo_array=udat_sst @ tot_for_union_sel[i,0:20,lead,:]  \n",
    "            phix_geo = xr.full_like(X_tos.A[:,:],0)\n",
    "            phix_geo.data=phix_geo_array.real\n",
    "            Phiindex=phix_geo.unstack().sel(lat=slice(-5,5),lon=slice(170,220)).mean(dim=('lat','lon'))\n",
    "        \n",
    "            mean_ind[lead,i]=np.corrcoef(Xindex[np.invert(np.isnan(Phiindex))],Phiindex[np.invert(np.isnan(Phiindex))])[0,1]\n",
    "            #RMSE_mean_ind[lead,i]= 1-np.sqrt(np.square(np.subtract(Xindex[np.invert(np.isnan(Phiindex))],Phiindex[np.invert(np.isnan(Phiindex))])).mean()) / np.std(Xindex[np.invert(np.isnan(Phiindex))])\n",
    "            \n",
    "        av_corr=np.mean(mean_ind, axis=1)[lead]\n",
    "        diff_poly_lead[i,m]=mean_av[lead]-av_corr\n",
    "        print(m, \" \", num, \"   \", mean_av[lead]-av_corr, \"  \", chosen)"
   ]
  },
  {
   "cell_type": "code",
   "execution_count": null,
   "id": "f79acbd7-8e08-49de-a447-2dec3e1a4db3",
   "metadata": {},
   "outputs": [],
   "source": [
    "np.save('Forecasts 400/Skill metrics/diff_poly_lead5.npy', diff_poly_lead, allow_pickle=True, fix_imports=True)"
   ]
  },
  {
   "cell_type": "code",
   "execution_count": null,
   "id": "4ccebd41-615a-4bb5-8314-70120fced248",
   "metadata": {},
   "outputs": [],
   "source": [
    "np.save('Forecasts 400/Skill metrics/diff_poly_lead10.npy', diff_poly_lead, allow_pickle=True, fix_imports=True)"
   ]
  },
  {
   "cell_type": "code",
   "execution_count": null,
   "id": "1dda46f0-dd0e-42e3-a7c6-b87b764be91d",
   "metadata": {},
   "outputs": [],
   "source": [
    "np.save('Forecasts 400/Skill metrics/diff_poly_lead15.npy', diff_poly_lead, allow_pickle=True, fix_imports=True)"
   ]
  },
  {
   "cell_type": "markdown",
   "id": "cb7841e4-b43e-47fd-98b9-cc30cb7c10f9",
   "metadata": {},
   "source": [
    "## TOT GRAPH"
   ]
  },
  {
   "cell_type": "code",
   "execution_count": 5,
   "id": "ce8dbbb3-55a0-4af6-b699-f98bc0e682de",
   "metadata": {},
   "outputs": [],
   "source": [
    "diff_gauss30_lead5=np.load('Forecasts 400/Skill metrics/diff_gauss30_lead5.npy')\n",
    "diff_gauss30_lead10=np.load('Forecasts 400/Skill metrics/diff_gauss30_lead10.npy')\n",
    "diff_gauss30_lead15=np.load('Forecasts 400/Skill metrics/diff_gauss30_lead15.npy')"
   ]
  },
  {
   "cell_type": "code",
   "execution_count": 6,
   "id": "4dfdf984-9b0c-4ecc-9698-e60a493f8964",
   "metadata": {},
   "outputs": [],
   "source": [
    "diff_gaussALL_lead5=np.load('Forecasts 400/Skill metrics/diff_gaussALL_lead5.npy')\n",
    "diff_gaussALL_lead10=np.load('Forecasts 400/Skill metrics/diff_gaussALL_lead10.npy')\n",
    "diff_gaussALL_lead15=np.load('Forecasts 400/Skill metrics/diff_gaussALL_lead15.npy')"
   ]
  },
  {
   "cell_type": "code",
   "execution_count": 7,
   "id": "39e66aff-77b2-48a9-b5a3-c6ab53054bb2",
   "metadata": {},
   "outputs": [],
   "source": [
    "diff_poly_lead5=np.load('Forecasts 400/Skill metrics/diff_poly_lead5.npy')\n",
    "diff_poly_lead10=np.load('Forecasts 400/Skill metrics/diff_poly_lead10.npy')\n",
    "diff_poly_lead15=np.load('Forecasts 400/Skill metrics/diff_poly_lead15.npy')"
   ]
  },
  {
   "cell_type": "code",
   "execution_count": 8,
   "id": "1e191317-8013-448c-8baa-b9d827978258",
   "metadata": {},
   "outputs": [
    {
     "data": {
      "image/png": "[encoded data removed]",
      "text/plain": [
       "<Figure size 800x600 with 1 Axes>"
      ]
     },
     "metadata": {},
     "output_type": "display_data"
    }
   ],
   "source": [
    "fig, ax = plt.subplots(nrows=1, ncols=1,figsize=(8,6))\n",
    "\n",
    "xval=range(0,7)\n",
    "\n",
    "ax.axhline(0.6, linestyle='--',color='black')\n",
    "ax.set_xlabel('Number of members')\n",
    "ax.set_ylabel('Diff.')\n",
    "ax.set_ylim([0,0.2])\n",
    "ax.set_title('',loc='left')\n",
    "\n",
    "ax.plot(xval, np.mean(diff_gaussALL_lead5, axis=1), lw=1.5, label='Gauss ALL Lead 5', linestyle='dotted', color='green')\n",
    "ax.plot(xval, np.mean(diff_gaussALL_lead10, axis=1), lw=1.5, label='Gauss ALL Lead 10', linestyle='dashed', color='green')\n",
    "ax.plot(xval, np.mean(diff_gaussALL_lead15, axis=1), lw=1.5, label='Gauss ALL Lead 15', color='green')\n",
    "\n",
    "ax.plot(xval, np.mean(diff_gauss30_lead5, axis=1), lw=1.5, label='Gauss 30 Lead 5', linestyle='dotted', color='orange')\n",
    "ax.plot(xval, np.mean(diff_gauss30_lead10, axis=1), lw=1.5, label='Gauss 30 Lead 10', linestyle='dashed', color='orange')\n",
    "ax.plot(xval, np.mean(diff_gauss30_lead15, axis=1), lw=1.5, label='Gauss 30 Lead 15', color='orange')\n",
    "\n",
    "ax.plot(xval, np.mean(diff_poly_lead5, axis=1), lw=1.5, label='Poly Lead 5', linestyle='dotted', color='blue')\n",
    "ax.plot(xval, np.mean(diff_poly_lead10, axis=1), lw=1.5, label='Poly Lead 10', linestyle='dashed', color='blue')\n",
    "ax.plot(xval, np.mean(diff_poly_lead15, axis=1), lw=1.5, label='Poly 30 Lead 15', color='blue')\n",
    "\n",
    "\n",
    "\n",
    "bigtitle = 'Niño 3.4 Evaluation' \n",
    "ax.set_title(bigtitle,fontsize=16)\n",
    "ax.yaxis.grid(color='gray', linestyle='dashed')\n",
    "ax.xaxis.grid(color='gray', linestyle='dashed')\n",
    "\n",
    "plt.legend()\n",
    "plt.suptitle('',fontsize='xx-large')\n",
    "labfile = 'due metodi forecasting MONTHS' + '.pdf'\n",
    "#plt.savefig(labfile, orientation='landscape',  format='pdf')\n",
    "plt.show() "
   ]
  },
  {
   "cell_type": "code",
   "execution_count": null,
   "id": "32ac8fae-3dac-4ce4-a6ed-c2cdd195eee8",
   "metadata": {},
   "outputs": [],
   "source": []
  },
  {
   "cell_type": "code",
   "execution_count": null,
   "id": "1ca7ce85-1cda-4a59-b259-48abb4efdee2",
   "metadata": {},
   "outputs": [],
   "source": [
    "for m in lead_times:\n",
    "    for n in periods:\n",
    "        tot_for_union[:,:,m, m + n*1200 : m + n*1200 +1176]=tot_for[n,:,:,m,:]\n"
   ]
  },
  {
   "cell_type": "code",
   "execution_count": null,
   "id": "fdb61a27-6f91-402a-b392-955a9bc7f8b5",
   "metadata": {},
   "outputs": [],
   "source": [
    "del(tot_for)"
   ]
  },
  {
   "cell_type": "code",
   "execution_count": null,
   "id": "0bf34a1b-2745-47b2-9ca3-8e1095eb2c1d",
   "metadata": {},
   "outputs": [],
   "source": []
  },
  {
   "cell_type": "code",
   "execution_count": null,
   "id": "c2760721-798c-4974-96ed-15ff729605a9",
   "metadata": {},
   "outputs": [],
   "source": []
  },
  {
   "cell_type": "code",
   "execution_count": null,
   "id": "67b9e99c-bad7-4e7a-8a94-a93c2cc9c72f",
   "metadata": {},
   "outputs": [],
   "source": []
  },
  {
   "cell_type": "markdown",
   "id": "535a7e02-58a7-47c2-82d6-e8f9440365db",
   "metadata": {},
   "source": [
    "# Non-overlap"
   ]
  },
  {
   "cell_type": "markdown",
   "id": "c528489a-1607-429c-8c6a-1d2ffbfe9763",
   "metadata": {
    "jp-MarkdownHeadingCollapsed": true
   },
   "source": [
    "## ALL GAUSS"
   ]
  },
  {
   "cell_type": "code",
   "execution_count": 23,
   "id": "9df224ca-1b1f-451d-af25-4ce4e70ea0f3",
   "metadata": {},
   "outputs": [],
   "source": [
    "#Select EOFs\n",
    "udat_sst=EOFs[:,0:845]"
   ]
  },
  {
   "cell_type": "code",
   "execution_count": 24,
   "id": "99973876-f348-48fa-94cf-c6cda1df493f",
   "metadata": {},
   "outputs": [
    {
     "data": {
      "text/html": [
       "<div><svg style=\"position: absolute; width: 0; height: 0; overflow: hidden\">\n",
       "<defs>\n",
       "<symbol id=\"icon-database\" viewBox=\"0 0 32 32\">\n",
       "<path d=\"M16 0c-8.837 0-16 2.239-16 5v4c0 2.761 7.163 5 16 5s16-2.239 16-5v-4c0-2.761-7.163-5-16-5z\"></path>\n",
       "<path d=\"M16 17c-8.837 0-16-2.239-16-5v6c0 2.761 7.163 5 16 5s16-2.239 16-5v-6c0 2.761-7.163 5-16 5z\"></path>\n",
       "<path d=\"M16 26c-8.837 0-16-2.239-16-5v6c0 2.761 7.163 5 16 5s16-2.239 16-5v-6c0 2.761-7.163 5-16 5z\"></path>\n",
       "</symbol>\n",
       "<symbol id=\"icon-file-text2\" viewBox=\"0 0 32 32\">\n",
       "<path d=\"M28.681 7.159c-0.694-0.947-1.662-2.053-2.724-3.116s-2.169-2.030-3.116-2.724c-1.612-1.182-2.393-1.319-2.841-1.319h-15.5c-1.378 0-2.5 1.121-2.5 2.5v27c0 1.378 1.122 2.5 2.5 2.5h23c1.378 0 2.5-1.122 2.5-2.5v-19.5c0-0.448-0.137-1.23-1.319-2.841zM24.543 5.457c0.959 0.959 1.712 1.825 2.268 2.543h-4.811v-4.811c0.718 0.556 1.584 1.309 2.543 2.268zM28 29.5c0 0.271-0.229 0.5-0.5 0.5h-23c-0.271 0-0.5-0.229-0.5-0.5v-27c0-0.271 0.229-0.5 0.5-0.5 0 0 15.499-0 15.5 0v7c0 0.552 0.448 1 1 1h7v19.5z\"></path>\n",
       "<path d=\"M23 26h-14c-0.552 0-1-0.448-1-1s0.448-1 1-1h14c0.552 0 1 0.448 1 1s-0.448 1-1 1z\"></path>\n",
       "<path d=\"M23 22h-14c-0.552 0-1-0.448-1-1s0.448-1 1-1h14c0.552 0 1 0.448 1 1s-0.448 1-1 1z\"></path>\n",
       "<path d=\"M23 18h-14c-0.552 0-1-0.448-1-1s0.448-1 1-1h14c0.552 0 1 0.448 1 1s-0.448 1-1 1z\"></path>\n",
       "</symbol>\n",
       "</defs>\n",
       "</svg>\n",
       "<style>/* CSS stylesheet for displaying xarray objects in jupyterlab.\n",
       " *\n",
       " */\n",
       "\n",
       ":root {\n",
       "  --xr-font-color0: var(--jp-content-font-color0, rgba(0, 0, 0, 1));\n",
       "  --xr-font-color2: var(--jp-content-font-color2, rgba(0, 0, 0, 0.54));\n",
       "  --xr-font-color3: var(--jp-content-font-color3, rgba(0, 0, 0, 0.38));\n",
       "  --xr-border-color: var(--jp-border-color2, #e0e0e0);\n",
       "  --xr-disabled-color: var(--jp-layout-color3, #bdbdbd);\n",
       "  --xr-background-color: var(--jp-layout-color0, white);\n",
       "  --xr-background-color-row-even: var(--jp-layout-color1, white);\n",
       "  --xr-background-color-row-odd: var(--jp-layout-color2, #eeeeee);\n",
       "}\n",
       "\n",
       "html[theme=dark],\n",
       "body[data-theme=dark],\n",
       "body.vscode-dark {\n",
       "  --xr-font-color0: rgba(255, 255, 255, 1);\n",
       "  --xr-font-color2: rgba(255, 255, 255, 0.54);\n",
       "  --xr-font-color3: rgba(255, 255, 255, 0.38);\n",
       "  --xr-border-color: #1F1F1F;\n",
       "  --xr-disabled-color: #515151;\n",
       "  --xr-background-color: #111111;\n",
       "  --xr-background-color-row-even: #111111;\n",
       "  --xr-background-color-row-odd: #313131;\n",
       "}\n",
       "\n",
       ".xr-wrap {\n",
       "  display: block !important;\n",
       "  min-width: 300px;\n",
       "  max-width: 700px;\n",
       "}\n",
       "\n",
       ".xr-text-repr-fallback {\n",
       "  /* fallback to plain text repr when CSS is not injected (untrusted notebook) */\n",
       "  display: none;\n",
       "}\n",
       "\n",
       ".xr-header {\n",
       "  padding-top: 6px;\n",
       "  padding-bottom: 6px;\n",
       "  margin-bottom: 4px;\n",
       "  border-bottom: solid 1px var(--xr-border-color);\n",
       "}\n",
       "\n",
       ".xr-header > div,\n",
       ".xr-header > ul {\n",
       "  display: inline;\n",
       "  margin-top: 0;\n",
       "  margin-bottom: 0;\n",
       "}\n",
       "\n",
       ".xr-obj-type,\n",
       ".xr-array-name {\n",
       "  margin-left: 2px;\n",
       "  margin-right: 10px;\n",
       "}\n",
       "\n",
       ".xr-obj-type {\n",
       "  color: var(--xr-font-color2);\n",
       "}\n",
       "\n",
       ".xr-sections {\n",
       "  padding-left: 0 !important;\n",
       "  display: grid;\n",
       "  grid-template-columns: 150px auto auto 1fr 20px 20px;\n",
       "}\n",
       "\n",
       ".xr-section-item {\n",
       "  display: contents;\n",
       "}\n",
       "\n",
       ".xr-section-item input {\n",
       "  display: none;\n",
       "}\n",
       "\n",
       ".xr-section-item input + label {\n",
       "  color: var(--xr-disabled-color);\n",
       "}\n",
       "\n",
       ".xr-section-item input:enabled + label {\n",
       "  cursor: pointer;\n",
       "  color: var(--xr-font-color2);\n",
       "}\n",
       "\n",
       ".xr-section-item input:enabled + label:hover {\n",
       "  color: var(--xr-font-color0);\n",
       "}\n",
       "\n",
       ".xr-section-summary {\n",
       "  grid-column: 1;\n",
       "  color: var(--xr-font-color2);\n",
       "  font-weight: 500;\n",
       "}\n",
       "\n",
       ".xr-section-summary > span {\n",
       "  display: inline-block;\n",
       "  padding-left: 0.5em;\n",
       "}\n",
       "\n",
       ".xr-section-summary-in:disabled + label {\n",
       "  color: var(--xr-font-color2);\n",
       "}\n",
       "\n",
       ".xr-section-summary-in + label:before {\n",
       "  display: inline-block;\n",
       "  content: '►';\n",
       "  font-size: 11px;\n",
       "  width: 15px;\n",
       "  text-align: center;\n",
       "}\n",
       "\n",
       ".xr-section-summary-in:disabled + label:before {\n",
       "  color: var(--xr-disabled-color);\n",
       "}\n",
       "\n",
       ".xr-section-summary-in:checked + label:before {\n",
       "  content: '▼';\n",
       "}\n",
       "\n",
       ".xr-section-summary-in:checked + label > span {\n",
       "  display: none;\n",
       "}\n",
       "\n",
       ".xr-section-summary,\n",
       ".xr-section-inline-details {\n",
       "  padding-top: 4px;\n",
       "  padding-bottom: 4px;\n",
       "}\n",
       "\n",
       ".xr-section-inline-details {\n",
       "  grid-column: 2 / -1;\n",
       "}\n",
       "\n",
       ".xr-section-details {\n",
       "  display: none;\n",
       "  grid-column: 1 / -1;\n",
       "  margin-bottom: 5px;\n",
       "}\n",
       "\n",
       ".xr-section-summary-in:checked ~ .xr-section-details {\n",
       "  display: contents;\n",
       "}\n",
       "\n",
       ".xr-array-wrap {\n",
       "  grid-column: 1 / -1;\n",
       "  display: grid;\n",
       "  grid-template-columns: 20px auto;\n",
       "}\n",
       "\n",
       ".xr-array-wrap > label {\n",
       "  grid-column: 1;\n",
       "  vertical-align: top;\n",
       "}\n",
       "\n",
       ".xr-preview {\n",
       "  color: var(--xr-font-color3);\n",
       "}\n",
       "\n",
       ".xr-array-preview,\n",
       ".xr-array-data {\n",
       "  padding: 0 5px !important;\n",
       "  grid-column: 2;\n",
       "}\n",
       "\n",
       ".xr-array-data,\n",
       ".xr-array-in:checked ~ .xr-array-preview {\n",
       "  display: none;\n",
       "}\n",
       "\n",
       ".xr-array-in:checked ~ .xr-array-data,\n",
       ".xr-array-preview {\n",
       "  display: inline-block;\n",
       "}\n",
       "\n",
       ".xr-dim-list {\n",
       "  display: inline-block !important;\n",
       "  list-style: none;\n",
       "  padding: 0 !important;\n",
       "  margin: 0;\n",
       "}\n",
       "\n",
       ".xr-dim-list li {\n",
       "  display: inline-block;\n",
       "  padding: 0;\n",
       "  margin: 0;\n",
       "}\n",
       "\n",
       ".xr-dim-list:before {\n",
       "  content: '(';\n",
       "}\n",
       "\n",
       ".xr-dim-list:after {\n",
       "  content: ')';\n",
       "}\n",
       "\n",
       ".xr-dim-list li:not(:last-child):after {\n",
       "  content: ',';\n",
       "  padding-right: 5px;\n",
       "}\n",
       "\n",
       ".xr-has-index {\n",
       "  font-weight: bold;\n",
       "}\n",
       "\n",
       ".xr-var-list,\n",
       ".xr-var-item {\n",
       "  display: contents;\n",
       "}\n",
       "\n",
       ".xr-var-item > div,\n",
       ".xr-var-item label,\n",
       ".xr-var-item > .xr-var-name span {\n",
       "  background-color: var(--xr-background-color-row-even);\n",
       "  margin-bottom: 0;\n",
       "}\n",
       "\n",
       ".xr-var-item > .xr-var-name:hover span {\n",
       "  padding-right: 5px;\n",
       "}\n",
       "\n",
       ".xr-var-list > li:nth-child(odd) > div,\n",
       ".xr-var-list > li:nth-child(odd) > label,\n",
       ".xr-var-list > li:nth-child(odd) > .xr-var-name span {\n",
       "  background-color: var(--xr-background-color-row-odd);\n",
       "}\n",
       "\n",
       ".xr-var-name {\n",
       "  grid-column: 1;\n",
       "}\n",
       "\n",
       ".xr-var-dims {\n",
       "  grid-column: 2;\n",
       "}\n",
       "\n",
       ".xr-var-dtype {\n",
       "  grid-column: 3;\n",
       "  text-align: right;\n",
       "  color: var(--xr-font-color2);\n",
       "}\n",
       "\n",
       ".xr-var-preview {\n",
       "  grid-column: 4;\n",
       "}\n",
       "\n",
       ".xr-index-preview {\n",
       "  grid-column: 2 / 5;\n",
       "  color: var(--xr-font-color2);\n",
       "}\n",
       "\n",
       ".xr-var-name,\n",
       ".xr-var-dims,\n",
       ".xr-var-dtype,\n",
       ".xr-preview,\n",
       ".xr-attrs dt {\n",
       "  white-space: nowrap;\n",
       "  overflow: hidden;\n",
       "  text-overflow: ellipsis;\n",
       "  padding-right: 10px;\n",
       "}\n",
       "\n",
       ".xr-var-name:hover,\n",
       ".xr-var-dims:hover,\n",
       ".xr-var-dtype:hover,\n",
       ".xr-attrs dt:hover {\n",
       "  overflow: visible;\n",
       "  width: auto;\n",
       "  z-index: 1;\n",
       "}\n",
       "\n",
       ".xr-var-attrs,\n",
       ".xr-var-data,\n",
       ".xr-index-data {\n",
       "  display: none;\n",
       "  background-color: var(--xr-background-color) !important;\n",
       "  padding-bottom: 5px !important;\n",
       "}\n",
       "\n",
       ".xr-var-attrs-in:checked ~ .xr-var-attrs,\n",
       ".xr-var-data-in:checked ~ .xr-var-data,\n",
       ".xr-index-data-in:checked ~ .xr-index-data {\n",
       "  display: block;\n",
       "}\n",
       "\n",
       ".xr-var-data > table {\n",
       "  float: right;\n",
       "}\n",
       "\n",
       ".xr-var-name span,\n",
       ".xr-var-data,\n",
       ".xr-index-name div,\n",
       ".xr-index-data,\n",
       ".xr-attrs {\n",
       "  padding-left: 25px !important;\n",
       "}\n",
       "\n",
       ".xr-attrs,\n",
       ".xr-var-attrs,\n",
       ".xr-var-data,\n",
       ".xr-index-data {\n",
       "  grid-column: 1 / -1;\n",
       "}\n",
       "\n",
       "dl.xr-attrs {\n",
       "  padding: 0;\n",
       "  margin: 0;\n",
       "  display: grid;\n",
       "  grid-template-columns: 125px auto;\n",
       "}\n",
       "\n",
       ".xr-attrs dt,\n",
       ".xr-attrs dd {\n",
       "  padding: 0;\n",
       "  margin: 0;\n",
       "  float: left;\n",
       "  padding-right: 10px;\n",
       "  width: auto;\n",
       "}\n",
       "\n",
       ".xr-attrs dt {\n",
       "  font-weight: normal;\n",
       "  grid-column: 1;\n",
       "}\n",
       "\n",
       ".xr-attrs dt:hover span {\n",
       "  display: inline-block;\n",
       "  background: var(--xr-background-color);\n",
       "  padding-right: 10px;\n",
       "}\n",
       "\n",
       ".xr-attrs dd {\n",
       "  grid-column: 2;\n",
       "  white-space: pre-wrap;\n",
       "  word-break: break-all;\n",
       "}\n",
       "\n",
       ".xr-icon-database,\n",
       ".xr-icon-file-text2,\n",
       ".xr-no-icon {\n",
       "  display: inline-block;\n",
       "  vertical-align: middle;\n",
       "  width: 1em;\n",
       "  height: 1.5em !important;\n",
       "  stroke-width: 0;\n",
       "  stroke: currentColor;\n",
       "  fill: currentColor;\n",
       "}\n",
       "</style><pre class='xr-text-repr-fallback'>&lt;xarray.DataArray (time: 24000)&gt;\n",
       "array([-0.07060546,  0.05650981,  0.28544343, ..., -0.9016017 ,\n",
       "       -0.9271781 , -0.89309406], dtype=float32)\n",
       "Coordinates:\n",
       "  * time     (time) object 0001-02-01 00:00:00 ... 2001-01-01 00:00:00\n",
       "    z_t      float32 500.0\n",
       "    month    (time) int64 2 3 4 5 6 7 8 9 10 11 12 ... 3 4 5 6 7 8 9 10 11 12 1</pre><div class='xr-wrap' style='display:none'><div class='xr-header'><div class='xr-obj-type'>xarray.DataArray</div><div class='xr-array-name'></div><ul class='xr-dim-list'><li><span class='xr-has-index'>time</span>: 24000</li></ul></div><ul class='xr-sections'><li class='xr-section-item'><div class='xr-array-wrap'><input id='section-8dddaad7-69af-4ab2-8b01-f2773204c44f' class='xr-array-in' type='checkbox' checked><label for='section-8dddaad7-69af-4ab2-8b01-f2773204c44f' title='Show/hide data repr'><svg class='icon xr-icon-database'><use xlink:href='#icon-database'></use></svg></label><div class='xr-array-preview xr-preview'><span>-0.07061 0.05651 0.2854 0.3252 0.6967 ... -1.1 -0.9016 -0.9272 -0.8931</span></div><div class='xr-array-data'><pre>array([-0.07060546,  0.05650981,  0.28544343, ..., -0.9016017 ,\n",
       "       -0.9271781 , -0.89309406], dtype=float32)</pre></div></div></li><li class='xr-section-item'><input id='section-b9b6f201-15e0-4b79-b9d6-f89cfecbab06' class='xr-section-summary-in' type='checkbox'  checked><label for='section-b9b6f201-15e0-4b79-b9d6-f89cfecbab06' class='xr-section-summary' >Coordinates: <span>(3)</span></label><div class='xr-section-inline-details'></div><div class='xr-section-details'><ul class='xr-var-list'><li class='xr-var-item'><div class='xr-var-name'><span class='xr-has-index'>time</span></div><div class='xr-var-dims'>(time)</div><div class='xr-var-dtype'>object</div><div class='xr-var-preview xr-preview'>0001-02-01 00:00:00 ... 2001-01-...</div><input id='attrs-42ea48f4-3ef5-4815-b9f7-4e99a0dc0225' class='xr-var-attrs-in' type='checkbox' disabled><label for='attrs-42ea48f4-3ef5-4815-b9f7-4e99a0dc0225' title='Show/Hide attributes'><svg class='icon xr-icon-file-text2'><use xlink:href='#icon-file-text2'></use></svg></label><input id='data-94ef4892-f45b-472a-b8ee-097ff842c761' class='xr-var-data-in' type='checkbox'><label for='data-94ef4892-f45b-472a-b8ee-097ff842c761' title='Show/Hide data repr'><svg class='icon xr-icon-database'><use xlink:href='#icon-database'></use></svg></label><div class='xr-var-attrs'><dl class='xr-attrs'></dl></div><div class='xr-var-data'><pre>array([cftime.DatetimeNoLeap(1, 2, 1, 0, 0, 0, 0, has_year_zero=True),\n",
       "       cftime.DatetimeNoLeap(1, 3, 1, 0, 0, 0, 0, has_year_zero=True),\n",
       "       cftime.DatetimeNoLeap(1, 4, 1, 0, 0, 0, 0, has_year_zero=True), ...,\n",
       "       cftime.DatetimeNoLeap(2000, 11, 1, 0, 0, 0, 0, has_year_zero=True),\n",
       "       cftime.DatetimeNoLeap(2000, 12, 1, 0, 0, 0, 0, has_year_zero=True),\n",
       "       cftime.DatetimeNoLeap(2001, 1, 1, 0, 0, 0, 0, has_year_zero=True)],\n",
       "      dtype=object)</pre></div></li><li class='xr-var-item'><div class='xr-var-name'><span>z_t</span></div><div class='xr-var-dims'>()</div><div class='xr-var-dtype'>float32</div><div class='xr-var-preview xr-preview'>500.0</div><input id='attrs-a345736d-5ee8-4847-88da-9e21812ce859' class='xr-var-attrs-in' type='checkbox' disabled><label for='attrs-a345736d-5ee8-4847-88da-9e21812ce859' title='Show/Hide attributes'><svg class='icon xr-icon-file-text2'><use xlink:href='#icon-file-text2'></use></svg></label><input id='data-c6a8cfc3-f909-4a22-96c9-6ea3110f5bbe' class='xr-var-data-in' type='checkbox'><label for='data-c6a8cfc3-f909-4a22-96c9-6ea3110f5bbe' title='Show/Hide data repr'><svg class='icon xr-icon-database'><use xlink:href='#icon-database'></use></svg></label><div class='xr-var-attrs'><dl class='xr-attrs'></dl></div><div class='xr-var-data'><pre>array(500., dtype=float32)</pre></div></li><li class='xr-var-item'><div class='xr-var-name'><span>month</span></div><div class='xr-var-dims'>(time)</div><div class='xr-var-dtype'>int64</div><div class='xr-var-preview xr-preview'>2 3 4 5 6 7 8 ... 7 8 9 10 11 12 1</div><input id='attrs-1d05812c-3310-4732-9d0c-5ec3eb302d1a' class='xr-var-attrs-in' type='checkbox' disabled><label for='attrs-1d05812c-3310-4732-9d0c-5ec3eb302d1a' title='Show/Hide attributes'><svg class='icon xr-icon-file-text2'><use xlink:href='#icon-file-text2'></use></svg></label><input id='data-f4ae6f30-1cd0-4266-acbb-4ad2249ac1bd' class='xr-var-data-in' type='checkbox'><label for='data-f4ae6f30-1cd0-4266-acbb-4ad2249ac1bd' title='Show/Hide data repr'><svg class='icon xr-icon-database'><use xlink:href='#icon-database'></use></svg></label><div class='xr-var-attrs'><dl class='xr-attrs'></dl></div><div class='xr-var-data'><pre>array([ 2,  3,  4, ..., 11, 12,  1])</pre></div></li></ul></div></li><li class='xr-section-item'><input id='section-3ddfb135-ef76-4023-8b29-b83aa9bdd44c' class='xr-section-summary-in' type='checkbox'  ><label for='section-3ddfb135-ef76-4023-8b29-b83aa9bdd44c' class='xr-section-summary' >Indexes: <span>(1)</span></label><div class='xr-section-inline-details'></div><div class='xr-section-details'><ul class='xr-var-list'><li class='xr-var-item'><div class='xr-index-name'><div>time</div></div><div class='xr-index-preview'>PandasIndex</div><div></div><input id='index-703b020e-78bb-4412-b695-8f49c2d25442' class='xr-index-data-in' type='checkbox'/><label for='index-703b020e-78bb-4412-b695-8f49c2d25442' title='Show/Hide index repr'><svg class='icon xr-icon-database'><use xlink:href='#icon-database'></use></svg></label><div class='xr-index-data'><pre>PandasIndex(CFTimeIndex([0001-02-01 00:00:00, 0001-03-01 00:00:00, 0001-04-01 00:00:00,\n",
       "             0001-05-01 00:00:00, 0001-06-01 00:00:00, 0001-07-01 00:00:00,\n",
       "             0001-08-01 00:00:00, 0001-09-01 00:00:00, 0001-10-01 00:00:00,\n",
       "             0001-11-01 00:00:00,\n",
       "             ...\n",
       "             2000-04-01 00:00:00, 2000-05-01 00:00:00, 2000-06-01 00:00:00,\n",
       "             2000-07-01 00:00:00, 2000-08-01 00:00:00, 2000-09-01 00:00:00,\n",
       "             2000-10-01 00:00:00, 2000-11-01 00:00:00, 2000-12-01 00:00:00,\n",
       "             2001-01-01 00:00:00],\n",
       "            dtype=&#x27;object&#x27;, length=24000, calendar=&#x27;noleap&#x27;, freq=&#x27;MS&#x27;))</pre></div></li></ul></div></li><li class='xr-section-item'><input id='section-44f6941f-5cde-469f-9aff-d5acfb712132' class='xr-section-summary-in' type='checkbox' disabled ><label for='section-44f6941f-5cde-469f-9aff-d5acfb712132' class='xr-section-summary'  title='Expand/collapse section'>Attributes: <span>(0)</span></label><div class='xr-section-inline-details'></div><div class='xr-section-details'><dl class='xr-attrs'></dl></div></li></ul></div></div>"
      ],
      "text/plain": [
       "<xarray.DataArray (time: 24000)>\n",
       "array([-0.07060546,  0.05650981,  0.28544343, ..., -0.9016017 ,\n",
       "       -0.9271781 , -0.89309406], dtype=float32)\n",
       "Coordinates:\n",
       "  * time     (time) object 0001-02-01 00:00:00 ... 2001-01-01 00:00:00\n",
       "    z_t      float32 500.0\n",
       "    month    (time) int64 2 3 4 5 6 7 8 9 10 11 12 ... 3 4 5 6 7 8 9 10 11 12 1"
      ]
     },
     "execution_count": 24,
     "metadata": {},
     "output_type": "execute_result"
    }
   ],
   "source": [
    "## Compute observations NON truncated to PCs\n",
    "Xindex=X_tos.A.unstack().sel(lat=slice(-5,5),lon=slice(170,220)).mean(dim=('lat','lon'))#[:-1]\n",
    "Xindex"
   ]
  },
  {
   "cell_type": "markdown",
   "id": "331fa263-0f6b-4827-8ecf-490281323abd",
   "metadata": {},
   "source": [
    "### Load data"
   ]
  },
  {
   "cell_type": "code",
   "execution_count": 25,
   "id": "d61052fe-72e1-4981-8f59-178da247851c",
   "metadata": {},
   "outputs": [],
   "source": [
    "tot_for=np.zeros((20, 7, 1845, 24, 1176))"
   ]
  },
  {
   "cell_type": "code",
   "execution_count": 35,
   "id": "41c233a4-b936-4da2-a7c6-c8115306172a",
   "metadata": {},
   "outputs": [],
   "source": [
    "operators=[0,1,2,3]"
   ]
  },
  {
   "cell_type": "code",
   "execution_count": 27,
   "id": "a7e24c09-f5ef-4ddc-9434-63ffad7f38b6",
   "metadata": {},
   "outputs": [],
   "source": [
    "for n in range(len(periods)):\n",
    "    tot_for[n,:,:,:,:]= np.load(f'Forecasts 400/ALLEOFs_forecast_p{n}.npy')"
   ]
  },
  {
   "cell_type": "code",
   "execution_count": 28,
   "id": "38b7d59b-49b9-4f89-a969-d7a8a6af5dad",
   "metadata": {},
   "outputs": [],
   "source": [
    "tot_for_union=np.empty((7, 1845, 24, 24000))\n",
    "tot_for_union.fill(np.NaN)"
   ]
  },
  {
   "cell_type": "code",
   "execution_count": 29,
   "id": "e5ef8392-a917-4f0c-8fe0-622e02208540",
   "metadata": {},
   "outputs": [],
   "source": [
    "for m in lead_times:\n",
    "    for n in periods:\n",
    "        tot_for_union[:,:,m, m + n*1200 : m + n*1200 +1176]=tot_for[n,:,:,m,:]"
   ]
  },
  {
   "cell_type": "code",
   "execution_count": 30,
   "id": "8d420d78-6d4d-4cc3-aa7d-39ff6543f1f8",
   "metadata": {},
   "outputs": [
    {
     "data": {
      "text/plain": [
       "(4, 1845, 24, 24000)"
      ]
     },
     "execution_count": 30,
     "metadata": {},
     "output_type": "execute_result"
    }
   ],
   "source": [
    "tot_for_union=tot_for_union[(0,2,4,6),:,:,:]\n",
    "tot_for_union.shape"
   ]
  },
  {
   "cell_type": "code",
   "execution_count": 31,
   "id": "eead6f44-f5f3-42f5-9ad3-1d0df8fe1e9b",
   "metadata": {},
   "outputs": [],
   "source": [
    "del(tot_for)"
   ]
  },
  {
   "cell_type": "code",
   "execution_count": 32,
   "id": "0a212636-95d9-4951-a383-10f4080545ee",
   "metadata": {},
   "outputs": [
    {
     "data": {
      "text/plain": [
       "svmem(total=540409159680, available=480086720512, percent=11.2, used=56196083712, free=481603158016, active=1204121600, inactive=48921403392, buffers=5447680, cached=2604470272, shared=1156976640, slab=1227833344)"
      ]
     },
     "execution_count": 32,
     "metadata": {},
     "output_type": "execute_result"
    }
   ],
   "source": [
    "import psutil\n",
    "psutil.virtual_memory()"
   ]
  },
  {
   "cell_type": "markdown",
   "id": "b2f35740-e152-47b5-8a62-7fa7e81e2cfb",
   "metadata": {},
   "source": [
    "### Correlations"
   ]
  },
  {
   "cell_type": "code",
   "execution_count": 33,
   "id": "60d6fa9a-de18-4b55-ae26-59cfdb69b9d1",
   "metadata": {},
   "outputs": [],
   "source": [
    "mean_av=np.zeros(24)"
   ]
  },
  {
   "cell_type": "code",
   "execution_count": 34,
   "id": "5358e36e-58b4-40c6-98b8-85cc721dc646",
   "metadata": {},
   "outputs": [],
   "source": [
    "import random"
   ]
  },
  {
   "cell_type": "code",
   "execution_count": 40,
   "id": "3b0be6de-60c8-49dd-8c74-6c3cfe54cbef",
   "metadata": {},
   "outputs": [
    {
     "name": "stdout",
     "output_type": "stream",
     "text": [
      "0   1     0.0    [2]\n",
      "0   2     0.01405659253887781    [2, 0]\n",
      "0   3     0.01896638947895868    [0, 3, 2]\n",
      "0   4     0.02106201501646976    [2, 0, 3, 1]\n",
      "1   1     0.0    [0]\n",
      "1   2     0.014225723774406784    [2, 1]\n",
      "1   3     0.018092583299089138    [0, 1, 3]\n",
      "1   4     0.02106201501646976    [1, 2, 3, 0]\n",
      "2   1     0.0    [3]\n",
      "2   2     0.01405659253887781    [2, 0]\n",
      "2   3     0.018615048138663992    [0, 1, 2]\n",
      "2   4     0.02106201501646976    [1, 3, 2, 0]\n",
      "3   1     0.0    [1]\n",
      "3   2     0.014225723774406784    [2, 1]\n",
      "3   3     0.018092583299089138    [3, 1, 0]\n",
      "3   4     0.02106201501646976    [1, 2, 0, 3]\n",
      "4   1     0.0    [2]\n",
      "4   2     0.01405659253887781    [0, 2]\n",
      "4   3     0.018092583299089138    [1, 0, 3]\n",
      "4   4     0.02106201501646987    [3, 2, 0, 1]\n",
      "5   1     0.0    [1]\n",
      "5   2     0.013713322106399972    [0, 3]\n",
      "5   3     0.01890835923084433    [3, 1, 2]\n",
      "5   4     0.02106201501646976    [1, 2, 3, 0]\n",
      "6   1     0.0    [0]\n",
      "6   2     0.013713322106399972    [3, 0]\n",
      "6   3     0.018615048138663992    [0, 1, 2]\n",
      "6   4     0.02106201501646987    [1, 0, 2, 3]\n",
      "7   1     0.0    [3]\n",
      "7   2     0.014225723774406784    [1, 2]\n",
      "7   3     0.01890835923084444    [1, 2, 3]\n",
      "7   4     0.02106201501646976    [1, 2, 3, 0]\n",
      "8   1     0.0    [3]\n",
      "8   2     0.013261733314453017    [0, 1]\n",
      "8   3     0.018615048138663992    [0, 1, 2]\n",
      "8   4     0.02106201501646976    [0, 3, 2, 1]\n",
      "9   1     0.0    [2]\n",
      "9   2     0.013713322106399972    [0, 3]\n",
      "9   3     0.01896638947895868    [0, 3, 2]\n",
      "9   4     0.021062015016469537    [1, 0, 3, 2]\n"
     ]
    }
   ],
   "source": [
    "diff_gaussALL_lead=np.zeros((4,10))\n",
    "lead=5\n",
    "\n",
    "\n",
    "for m in range(10):\n",
    "\n",
    "    for i in operators:\n",
    "        \n",
    "        num=i+1\n",
    "    \n",
    "        mean_av=np.zeros(24)\n",
    "        mean_ind=np.zeros((24,num))\n",
    "        \n",
    "        chosen=random.sample(operators, k=num)\n",
    "        tot_for_union_sel=tot_for_union[chosen, :,:,:]\n",
    "        \n",
    "        ## Compute average forecast\n",
    "        av_for=np.mean(tot_for_union_sel, axis=0)\n",
    "        av_for_geo_array=udat_sst @ av_for[0:845,lead,:]            \n",
    "        av_for_geo = xr.full_like(X_tos.A[:,:],0)\n",
    "        av_for_geo.data=av_for_geo_array.real\n",
    "        Avindex=av_for_geo.unstack().sel(lat=slice(-5,5),lon=slice(170,220)).mean(dim=('lat','lon'))\n",
    "        \n",
    "        #Correlation average forecast and observations\n",
    "        mean_av[lead]=np.corrcoef(Xindex[np.invert(np.isnan(Avindex))],Avindex[np.invert(np.isnan(Avindex))])[0,1]\n",
    "        #RMSE_mean_av[lead]=1-np.sqrt(np.square(np.subtract(Xindex[np.invert(np.isnan(Avindex))],Avindex[np.invert(np.isnan(Avindex))])).mean()) / np.std(Xindex[np.invert(np.isnan(Avindex))])\n",
    "        #print(mean_av[lead])\n",
    "        \n",
    "        #Average correlation between individual forecast and observations\n",
    "        for i in range(num):  \n",
    "            phix_geo_array=udat_sst @ tot_for_union_sel[i,0:845,lead,:]  \n",
    "            phix_geo = xr.full_like(X_tos.A[:,:],0)\n",
    "            phix_geo.data=phix_geo_array.real\n",
    "            Phiindex=phix_geo.unstack().sel(lat=slice(-5,5),lon=slice(170,220)).mean(dim=('lat','lon'))\n",
    "        \n",
    "            mean_ind[lead,i]=np.corrcoef(Xindex[np.invert(np.isnan(Phiindex))],Phiindex[np.invert(np.isnan(Phiindex))])[0,1]\n",
    "            #RMSE_mean_ind[lead,i]= 1-np.sqrt(np.square(np.subtract(Xindex[np.invert(np.isnan(Phiindex))],Phiindex[np.invert(np.isnan(Phiindex))])).mean()) / np.std(Xindex[np.invert(np.isnan(Phiindex))])\n",
    "            \n",
    "        av_corr=np.mean(mean_ind, axis=1)[lead]\n",
    "        diff_gaussALL_lead[i,m]=mean_av[lead]-av_corr\n",
    "        print(m, \" \", num, \"   \", mean_av[lead]-av_corr, \"  \", chosen)"
   ]
  },
  {
   "cell_type": "code",
   "execution_count": null,
   "id": "a730b0e0-06b1-4dbf-9c35-5883b11e02b2",
   "metadata": {},
   "outputs": [],
   "source": []
  },
  {
   "cell_type": "code",
   "execution_count": 41,
   "id": "1de8ad7c-df28-475d-b261-848dfdf546a7",
   "metadata": {},
   "outputs": [],
   "source": [
    "np.save('Forecasts 400/Skill metrics/diff_gaussALL_lead5.npy', diff_gaussALL_lead, allow_pickle=True, fix_imports=True)"
   ]
  },
  {
   "cell_type": "code",
   "execution_count": 39,
   "id": "32c67615-dcc4-4066-8947-48444bc1dfa0",
   "metadata": {},
   "outputs": [],
   "source": [
    "np.save('Forecasts 400/Skill metrics/diff_gaussALL_lead10.npy', diff_gaussALL_lead, allow_pickle=True, fix_imports=True)"
   ]
  },
  {
   "cell_type": "code",
   "execution_count": 37,
   "id": "af5a2107-108a-4096-a323-d11df97351cc",
   "metadata": {},
   "outputs": [],
   "source": [
    "np.save('Forecasts 400/Skill metrics/diff_gaussALL_lead15.npy', diff_gaussALL_lead, allow_pickle=True, fix_imports=True)"
   ]
  },
  {
   "cell_type": "markdown",
   "id": "3aae50d5-99dd-4255-af81-5c3e89ffccd1",
   "metadata": {},
   "source": [
    "## 30 GAUSS"
   ]
  },
  {
   "cell_type": "code",
   "execution_count": 42,
   "id": "258f449d-81a8-4368-976c-f41929500504",
   "metadata": {},
   "outputs": [],
   "source": [
    "#Select EOFs\n",
    "udat_sst=EOFs[:,0:20]"
   ]
  },
  {
   "cell_type": "code",
   "execution_count": 43,
   "id": "bdcd5ed9-11c3-4b7f-911d-cd3a7c4493b2",
   "metadata": {},
   "outputs": [],
   "source": [
    "#Vector with all correlations (First ensemble then member)\n",
    "GAUSS_corr_tot=np.zeros((24,20,2))"
   ]
  },
  {
   "cell_type": "code",
   "execution_count": 44,
   "id": "fe6b0a43-f878-4e6e-9d37-67ecab97cdcb",
   "metadata": {},
   "outputs": [
    {
     "data": {
      "text/html": [
       "<div><svg style=\"position: absolute; width: 0; height: 0; overflow: hidden\">\n",
       "<defs>\n",
       "<symbol id=\"icon-database\" viewBox=\"0 0 32 32\">\n",
       "<path d=\"M16 0c-8.837 0-16 2.239-16 5v4c0 2.761 7.163 5 16 5s16-2.239 16-5v-4c0-2.761-7.163-5-16-5z\"></path>\n",
       "<path d=\"M16 17c-8.837 0-16-2.239-16-5v6c0 2.761 7.163 5 16 5s16-2.239 16-5v-6c0 2.761-7.163 5-16 5z\"></path>\n",
       "<path d=\"M16 26c-8.837 0-16-2.239-16-5v6c0 2.761 7.163 5 16 5s16-2.239 16-5v-6c0 2.761-7.163 5-16 5z\"></path>\n",
       "</symbol>\n",
       "<symbol id=\"icon-file-text2\" viewBox=\"0 0 32 32\">\n",
       "<path d=\"M28.681 7.159c-0.694-0.947-1.662-2.053-2.724-3.116s-2.169-2.030-3.116-2.724c-1.612-1.182-2.393-1.319-2.841-1.319h-15.5c-1.378 0-2.5 1.121-2.5 2.5v27c0 1.378 1.122 2.5 2.5 2.5h23c1.378 0 2.5-1.122 2.5-2.5v-19.5c0-0.448-0.137-1.23-1.319-2.841zM24.543 5.457c0.959 0.959 1.712 1.825 2.268 2.543h-4.811v-4.811c0.718 0.556 1.584 1.309 2.543 2.268zM28 29.5c0 0.271-0.229 0.5-0.5 0.5h-23c-0.271 0-0.5-0.229-0.5-0.5v-27c0-0.271 0.229-0.5 0.5-0.5 0 0 15.499-0 15.5 0v7c0 0.552 0.448 1 1 1h7v19.5z\"></path>\n",
       "<path d=\"M23 26h-14c-0.552 0-1-0.448-1-1s0.448-1 1-1h14c0.552 0 1 0.448 1 1s-0.448 1-1 1z\"></path>\n",
       "<path d=\"M23 22h-14c-0.552 0-1-0.448-1-1s0.448-1 1-1h14c0.552 0 1 0.448 1 1s-0.448 1-1 1z\"></path>\n",
       "<path d=\"M23 18h-14c-0.552 0-1-0.448-1-1s0.448-1 1-1h14c0.552 0 1 0.448 1 1s-0.448 1-1 1z\"></path>\n",
       "</symbol>\n",
       "</defs>\n",
       "</svg>\n",
       "<style>/* CSS stylesheet for displaying xarray objects in jupyterlab.\n",
       " *\n",
       " */\n",
       "\n",
       ":root {\n",
       "  --xr-font-color0: var(--jp-content-font-color0, rgba(0, 0, 0, 1));\n",
       "  --xr-font-color2: var(--jp-content-font-color2, rgba(0, 0, 0, 0.54));\n",
       "  --xr-font-color3: var(--jp-content-font-color3, rgba(0, 0, 0, 0.38));\n",
       "  --xr-border-color: var(--jp-border-color2, #e0e0e0);\n",
       "  --xr-disabled-color: var(--jp-layout-color3, #bdbdbd);\n",
       "  --xr-background-color: var(--jp-layout-color0, white);\n",
       "  --xr-background-color-row-even: var(--jp-layout-color1, white);\n",
       "  --xr-background-color-row-odd: var(--jp-layout-color2, #eeeeee);\n",
       "}\n",
       "\n",
       "html[theme=dark],\n",
       "body[data-theme=dark],\n",
       "body.vscode-dark {\n",
       "  --xr-font-color0: rgba(255, 255, 255, 1);\n",
       "  --xr-font-color2: rgba(255, 255, 255, 0.54);\n",
       "  --xr-font-color3: rgba(255, 255, 255, 0.38);\n",
       "  --xr-border-color: #1F1F1F;\n",
       "  --xr-disabled-color: #515151;\n",
       "  --xr-background-color: #111111;\n",
       "  --xr-background-color-row-even: #111111;\n",
       "  --xr-background-color-row-odd: #313131;\n",
       "}\n",
       "\n",
       ".xr-wrap {\n",
       "  display: block !important;\n",
       "  min-width: 300px;\n",
       "  max-width: 700px;\n",
       "}\n",
       "\n",
       ".xr-text-repr-fallback {\n",
       "  /* fallback to plain text repr when CSS is not injected (untrusted notebook) */\n",
       "  display: none;\n",
       "}\n",
       "\n",
       ".xr-header {\n",
       "  padding-top: 6px;\n",
       "  padding-bottom: 6px;\n",
       "  margin-bottom: 4px;\n",
       "  border-bottom: solid 1px var(--xr-border-color);\n",
       "}\n",
       "\n",
       ".xr-header > div,\n",
       ".xr-header > ul {\n",
       "  display: inline;\n",
       "  margin-top: 0;\n",
       "  margin-bottom: 0;\n",
       "}\n",
       "\n",
       ".xr-obj-type,\n",
       ".xr-array-name {\n",
       "  margin-left: 2px;\n",
       "  margin-right: 10px;\n",
       "}\n",
       "\n",
       ".xr-obj-type {\n",
       "  color: var(--xr-font-color2);\n",
       "}\n",
       "\n",
       ".xr-sections {\n",
       "  padding-left: 0 !important;\n",
       "  display: grid;\n",
       "  grid-template-columns: 150px auto auto 1fr 20px 20px;\n",
       "}\n",
       "\n",
       ".xr-section-item {\n",
       "  display: contents;\n",
       "}\n",
       "\n",
       ".xr-section-item input {\n",
       "  display: none;\n",
       "}\n",
       "\n",
       ".xr-section-item input + label {\n",
       "  color: var(--xr-disabled-color);\n",
       "}\n",
       "\n",
       ".xr-section-item input:enabled + label {\n",
       "  cursor: pointer;\n",
       "  color: var(--xr-font-color2);\n",
       "}\n",
       "\n",
       ".xr-section-item input:enabled + label:hover {\n",
       "  color: var(--xr-font-color0);\n",
       "}\n",
       "\n",
       ".xr-section-summary {\n",
       "  grid-column: 1;\n",
       "  color: var(--xr-font-color2);\n",
       "  font-weight: 500;\n",
       "}\n",
       "\n",
       ".xr-section-summary > span {\n",
       "  display: inline-block;\n",
       "  padding-left: 0.5em;\n",
       "}\n",
       "\n",
       ".xr-section-summary-in:disabled + label {\n",
       "  color: var(--xr-font-color2);\n",
       "}\n",
       "\n",
       ".xr-section-summary-in + label:before {\n",
       "  display: inline-block;\n",
       "  content: '►';\n",
       "  font-size: 11px;\n",
       "  width: 15px;\n",
       "  text-align: center;\n",
       "}\n",
       "\n",
       ".xr-section-summary-in:disabled + label:before {\n",
       "  color: var(--xr-disabled-color);\n",
       "}\n",
       "\n",
       ".xr-section-summary-in:checked + label:before {\n",
       "  content: '▼';\n",
       "}\n",
       "\n",
       ".xr-section-summary-in:checked + label > span {\n",
       "  display: none;\n",
       "}\n",
       "\n",
       ".xr-section-summary,\n",
       ".xr-section-inline-details {\n",
       "  padding-top: 4px;\n",
       "  padding-bottom: 4px;\n",
       "}\n",
       "\n",
       ".xr-section-inline-details {\n",
       "  grid-column: 2 / -1;\n",
       "}\n",
       "\n",
       ".xr-section-details {\n",
       "  display: none;\n",
       "  grid-column: 1 / -1;\n",
       "  margin-bottom: 5px;\n",
       "}\n",
       "\n",
       ".xr-section-summary-in:checked ~ .xr-section-details {\n",
       "  display: contents;\n",
       "}\n",
       "\n",
       ".xr-array-wrap {\n",
       "  grid-column: 1 / -1;\n",
       "  display: grid;\n",
       "  grid-template-columns: 20px auto;\n",
       "}\n",
       "\n",
       ".xr-array-wrap > label {\n",
       "  grid-column: 1;\n",
       "  vertical-align: top;\n",
       "}\n",
       "\n",
       ".xr-preview {\n",
       "  color: var(--xr-font-color3);\n",
       "}\n",
       "\n",
       ".xr-array-preview,\n",
       ".xr-array-data {\n",
       "  padding: 0 5px !important;\n",
       "  grid-column: 2;\n",
       "}\n",
       "\n",
       ".xr-array-data,\n",
       ".xr-array-in:checked ~ .xr-array-preview {\n",
       "  display: none;\n",
       "}\n",
       "\n",
       ".xr-array-in:checked ~ .xr-array-data,\n",
       ".xr-array-preview {\n",
       "  display: inline-block;\n",
       "}\n",
       "\n",
       ".xr-dim-list {\n",
       "  display: inline-block !important;\n",
       "  list-style: none;\n",
       "  padding: 0 !important;\n",
       "  margin: 0;\n",
       "}\n",
       "\n",
       ".xr-dim-list li {\n",
       "  display: inline-block;\n",
       "  padding: 0;\n",
       "  margin: 0;\n",
       "}\n",
       "\n",
       ".xr-dim-list:before {\n",
       "  content: '(';\n",
       "}\n",
       "\n",
       ".xr-dim-list:after {\n",
       "  content: ')';\n",
       "}\n",
       "\n",
       ".xr-dim-list li:not(:last-child):after {\n",
       "  content: ',';\n",
       "  padding-right: 5px;\n",
       "}\n",
       "\n",
       ".xr-has-index {\n",
       "  font-weight: bold;\n",
       "}\n",
       "\n",
       ".xr-var-list,\n",
       ".xr-var-item {\n",
       "  display: contents;\n",
       "}\n",
       "\n",
       ".xr-var-item > div,\n",
       ".xr-var-item label,\n",
       ".xr-var-item > .xr-var-name span {\n",
       "  background-color: var(--xr-background-color-row-even);\n",
       "  margin-bottom: 0;\n",
       "}\n",
       "\n",
       ".xr-var-item > .xr-var-name:hover span {\n",
       "  padding-right: 5px;\n",
       "}\n",
       "\n",
       ".xr-var-list > li:nth-child(odd) > div,\n",
       ".xr-var-list > li:nth-child(odd) > label,\n",
       ".xr-var-list > li:nth-child(odd) > .xr-var-name span {\n",
       "  background-color: var(--xr-background-color-row-odd);\n",
       "}\n",
       "\n",
       ".xr-var-name {\n",
       "  grid-column: 1;\n",
       "}\n",
       "\n",
       ".xr-var-dims {\n",
       "  grid-column: 2;\n",
       "}\n",
       "\n",
       ".xr-var-dtype {\n",
       "  grid-column: 3;\n",
       "  text-align: right;\n",
       "  color: var(--xr-font-color2);\n",
       "}\n",
       "\n",
       ".xr-var-preview {\n",
       "  grid-column: 4;\n",
       "}\n",
       "\n",
       ".xr-index-preview {\n",
       "  grid-column: 2 / 5;\n",
       "  color: var(--xr-font-color2);\n",
       "}\n",
       "\n",
       ".xr-var-name,\n",
       ".xr-var-dims,\n",
       ".xr-var-dtype,\n",
       ".xr-preview,\n",
       ".xr-attrs dt {\n",
       "  white-space: nowrap;\n",
       "  overflow: hidden;\n",
       "  text-overflow: ellipsis;\n",
       "  padding-right: 10px;\n",
       "}\n",
       "\n",
       ".xr-var-name:hover,\n",
       ".xr-var-dims:hover,\n",
       ".xr-var-dtype:hover,\n",
       ".xr-attrs dt:hover {\n",
       "  overflow: visible;\n",
       "  width: auto;\n",
       "  z-index: 1;\n",
       "}\n",
       "\n",
       ".xr-var-attrs,\n",
       ".xr-var-data,\n",
       ".xr-index-data {\n",
       "  display: none;\n",
       "  background-color: var(--xr-background-color) !important;\n",
       "  padding-bottom: 5px !important;\n",
       "}\n",
       "\n",
       ".xr-var-attrs-in:checked ~ .xr-var-attrs,\n",
       ".xr-var-data-in:checked ~ .xr-var-data,\n",
       ".xr-index-data-in:checked ~ .xr-index-data {\n",
       "  display: block;\n",
       "}\n",
       "\n",
       ".xr-var-data > table {\n",
       "  float: right;\n",
       "}\n",
       "\n",
       ".xr-var-name span,\n",
       ".xr-var-data,\n",
       ".xr-index-name div,\n",
       ".xr-index-data,\n",
       ".xr-attrs {\n",
       "  padding-left: 25px !important;\n",
       "}\n",
       "\n",
       ".xr-attrs,\n",
       ".xr-var-attrs,\n",
       ".xr-var-data,\n",
       ".xr-index-data {\n",
       "  grid-column: 1 / -1;\n",
       "}\n",
       "\n",
       "dl.xr-attrs {\n",
       "  padding: 0;\n",
       "  margin: 0;\n",
       "  display: grid;\n",
       "  grid-template-columns: 125px auto;\n",
       "}\n",
       "\n",
       ".xr-attrs dt,\n",
       ".xr-attrs dd {\n",
       "  padding: 0;\n",
       "  margin: 0;\n",
       "  float: left;\n",
       "  padding-right: 10px;\n",
       "  width: auto;\n",
       "}\n",
       "\n",
       ".xr-attrs dt {\n",
       "  font-weight: normal;\n",
       "  grid-column: 1;\n",
       "}\n",
       "\n",
       ".xr-attrs dt:hover span {\n",
       "  display: inline-block;\n",
       "  background: var(--xr-background-color);\n",
       "  padding-right: 10px;\n",
       "}\n",
       "\n",
       ".xr-attrs dd {\n",
       "  grid-column: 2;\n",
       "  white-space: pre-wrap;\n",
       "  word-break: break-all;\n",
       "}\n",
       "\n",
       ".xr-icon-database,\n",
       ".xr-icon-file-text2,\n",
       ".xr-no-icon {\n",
       "  display: inline-block;\n",
       "  vertical-align: middle;\n",
       "  width: 1em;\n",
       "  height: 1.5em !important;\n",
       "  stroke-width: 0;\n",
       "  stroke: currentColor;\n",
       "  fill: currentColor;\n",
       "}\n",
       "</style><pre class='xr-text-repr-fallback'>&lt;xarray.DataArray (time: 24000)&gt;\n",
       "array([-0.07060546,  0.05650981,  0.28544343, ..., -0.9016017 ,\n",
       "       -0.9271781 , -0.89309406], dtype=float32)\n",
       "Coordinates:\n",
       "  * time     (time) object 0001-02-01 00:00:00 ... 2001-01-01 00:00:00\n",
       "    z_t      float32 500.0\n",
       "    month    (time) int64 2 3 4 5 6 7 8 9 10 11 12 ... 3 4 5 6 7 8 9 10 11 12 1</pre><div class='xr-wrap' style='display:none'><div class='xr-header'><div class='xr-obj-type'>xarray.DataArray</div><div class='xr-array-name'></div><ul class='xr-dim-list'><li><span class='xr-has-index'>time</span>: 24000</li></ul></div><ul class='xr-sections'><li class='xr-section-item'><div class='xr-array-wrap'><input id='section-faff19f7-a684-437b-8b9e-e97074a67a05' class='xr-array-in' type='checkbox' checked><label for='section-faff19f7-a684-437b-8b9e-e97074a67a05' title='Show/hide data repr'><svg class='icon xr-icon-database'><use xlink:href='#icon-database'></use></svg></label><div class='xr-array-preview xr-preview'><span>-0.07061 0.05651 0.2854 0.3252 0.6967 ... -1.1 -0.9016 -0.9272 -0.8931</span></div><div class='xr-array-data'><pre>array([-0.07060546,  0.05650981,  0.28544343, ..., -0.9016017 ,\n",
       "       -0.9271781 , -0.89309406], dtype=float32)</pre></div></div></li><li class='xr-section-item'><input id='section-e6f2d764-8c3c-4500-98d2-8a24e3abdf1a' class='xr-section-summary-in' type='checkbox'  checked><label for='section-e6f2d764-8c3c-4500-98d2-8a24e3abdf1a' class='xr-section-summary' >Coordinates: <span>(3)</span></label><div class='xr-section-inline-details'></div><div class='xr-section-details'><ul class='xr-var-list'><li class='xr-var-item'><div class='xr-var-name'><span class='xr-has-index'>time</span></div><div class='xr-var-dims'>(time)</div><div class='xr-var-dtype'>object</div><div class='xr-var-preview xr-preview'>0001-02-01 00:00:00 ... 2001-01-...</div><input id='attrs-dd937fe9-d969-4730-93c9-31a3761c9c3b' class='xr-var-attrs-in' type='checkbox' disabled><label for='attrs-dd937fe9-d969-4730-93c9-31a3761c9c3b' title='Show/Hide attributes'><svg class='icon xr-icon-file-text2'><use xlink:href='#icon-file-text2'></use></svg></label><input id='data-d7fb3efb-c55d-49b1-95f8-967d67dec352' class='xr-var-data-in' type='checkbox'><label for='data-d7fb3efb-c55d-49b1-95f8-967d67dec352' title='Show/Hide data repr'><svg class='icon xr-icon-database'><use xlink:href='#icon-database'></use></svg></label><div class='xr-var-attrs'><dl class='xr-attrs'></dl></div><div class='xr-var-data'><pre>array([cftime.DatetimeNoLeap(1, 2, 1, 0, 0, 0, 0, has_year_zero=True),\n",
       "       cftime.DatetimeNoLeap(1, 3, 1, 0, 0, 0, 0, has_year_zero=True),\n",
       "       cftime.DatetimeNoLeap(1, 4, 1, 0, 0, 0, 0, has_year_zero=True), ...,\n",
       "       cftime.DatetimeNoLeap(2000, 11, 1, 0, 0, 0, 0, has_year_zero=True),\n",
       "       cftime.DatetimeNoLeap(2000, 12, 1, 0, 0, 0, 0, has_year_zero=True),\n",
       "       cftime.DatetimeNoLeap(2001, 1, 1, 0, 0, 0, 0, has_year_zero=True)],\n",
       "      dtype=object)</pre></div></li><li class='xr-var-item'><div class='xr-var-name'><span>z_t</span></div><div class='xr-var-dims'>()</div><div class='xr-var-dtype'>float32</div><div class='xr-var-preview xr-preview'>500.0</div><input id='attrs-188c3024-f317-4055-8f19-12848ca2520c' class='xr-var-attrs-in' type='checkbox' disabled><label for='attrs-188c3024-f317-4055-8f19-12848ca2520c' title='Show/Hide attributes'><svg class='icon xr-icon-file-text2'><use xlink:href='#icon-file-text2'></use></svg></label><input id='data-dd37cd0b-223f-4f1a-91ed-d81596d794b8' class='xr-var-data-in' type='checkbox'><label for='data-dd37cd0b-223f-4f1a-91ed-d81596d794b8' title='Show/Hide data repr'><svg class='icon xr-icon-database'><use xlink:href='#icon-database'></use></svg></label><div class='xr-var-attrs'><dl class='xr-attrs'></dl></div><div class='xr-var-data'><pre>array(500., dtype=float32)</pre></div></li><li class='xr-var-item'><div class='xr-var-name'><span>month</span></div><div class='xr-var-dims'>(time)</div><div class='xr-var-dtype'>int64</div><div class='xr-var-preview xr-preview'>2 3 4 5 6 7 8 ... 7 8 9 10 11 12 1</div><input id='attrs-dae3f519-4702-4782-a1ad-ecc4e89dee9e' class='xr-var-attrs-in' type='checkbox' disabled><label for='attrs-dae3f519-4702-4782-a1ad-ecc4e89dee9e' title='Show/Hide attributes'><svg class='icon xr-icon-file-text2'><use xlink:href='#icon-file-text2'></use></svg></label><input id='data-dab58ff5-599b-4ca5-9f77-88591b2ebe96' class='xr-var-data-in' type='checkbox'><label for='data-dab58ff5-599b-4ca5-9f77-88591b2ebe96' title='Show/Hide data repr'><svg class='icon xr-icon-database'><use xlink:href='#icon-database'></use></svg></label><div class='xr-var-attrs'><dl class='xr-attrs'></dl></div><div class='xr-var-data'><pre>array([ 2,  3,  4, ..., 11, 12,  1])</pre></div></li></ul></div></li><li class='xr-section-item'><input id='section-78c202d8-01a7-41c1-b71d-a2614b50a44f' class='xr-section-summary-in' type='checkbox'  ><label for='section-78c202d8-01a7-41c1-b71d-a2614b50a44f' class='xr-section-summary' >Indexes: <span>(1)</span></label><div class='xr-section-inline-details'></div><div class='xr-section-details'><ul class='xr-var-list'><li class='xr-var-item'><div class='xr-index-name'><div>time</div></div><div class='xr-index-preview'>PandasIndex</div><div></div><input id='index-d4b4c99d-712c-485a-920c-f83e06ba409e' class='xr-index-data-in' type='checkbox'/><label for='index-d4b4c99d-712c-485a-920c-f83e06ba409e' title='Show/Hide index repr'><svg class='icon xr-icon-database'><use xlink:href='#icon-database'></use></svg></label><div class='xr-index-data'><pre>PandasIndex(CFTimeIndex([0001-02-01 00:00:00, 0001-03-01 00:00:00, 0001-04-01 00:00:00,\n",
       "             0001-05-01 00:00:00, 0001-06-01 00:00:00, 0001-07-01 00:00:00,\n",
       "             0001-08-01 00:00:00, 0001-09-01 00:00:00, 0001-10-01 00:00:00,\n",
       "             0001-11-01 00:00:00,\n",
       "             ...\n",
       "             2000-04-01 00:00:00, 2000-05-01 00:00:00, 2000-06-01 00:00:00,\n",
       "             2000-07-01 00:00:00, 2000-08-01 00:00:00, 2000-09-01 00:00:00,\n",
       "             2000-10-01 00:00:00, 2000-11-01 00:00:00, 2000-12-01 00:00:00,\n",
       "             2001-01-01 00:00:00],\n",
       "            dtype=&#x27;object&#x27;, length=24000, calendar=&#x27;noleap&#x27;, freq=&#x27;MS&#x27;))</pre></div></li></ul></div></li><li class='xr-section-item'><input id='section-3b29a0b7-dcd3-4b84-b59d-3433dc768801' class='xr-section-summary-in' type='checkbox' disabled ><label for='section-3b29a0b7-dcd3-4b84-b59d-3433dc768801' class='xr-section-summary'  title='Expand/collapse section'>Attributes: <span>(0)</span></label><div class='xr-section-inline-details'></div><div class='xr-section-details'><dl class='xr-attrs'></dl></div></li></ul></div></div>"
      ],
      "text/plain": [
       "<xarray.DataArray (time: 24000)>\n",
       "array([-0.07060546,  0.05650981,  0.28544343, ..., -0.9016017 ,\n",
       "       -0.9271781 , -0.89309406], dtype=float32)\n",
       "Coordinates:\n",
       "  * time     (time) object 0001-02-01 00:00:00 ... 2001-01-01 00:00:00\n",
       "    z_t      float32 500.0\n",
       "    month    (time) int64 2 3 4 5 6 7 8 9 10 11 12 ... 3 4 5 6 7 8 9 10 11 12 1"
      ]
     },
     "execution_count": 44,
     "metadata": {},
     "output_type": "execute_result"
    }
   ],
   "source": [
    "## Compute observations NON truncated to PCs\n",
    "Xindex=X_tos.A.unstack().sel(lat=slice(-5,5),lon=slice(170,220)).mean(dim=('lat','lon'))#[:-1]\n",
    "Xindex"
   ]
  },
  {
   "cell_type": "markdown",
   "id": "4687ba8c-a04a-4faf-aa29-87379a993723",
   "metadata": {},
   "source": [
    "### Load data"
   ]
  },
  {
   "cell_type": "code",
   "execution_count": 45,
   "id": "359ca460-bfae-4c21-85a5-373b9fb1a53e",
   "metadata": {},
   "outputs": [],
   "source": [
    "tot_for=np.zeros((20, 7, 30, 24, 1176))"
   ]
  },
  {
   "cell_type": "code",
   "execution_count": 46,
   "id": "2a8b04d4-05ef-4b3e-9b63-fbe7b305da69",
   "metadata": {},
   "outputs": [],
   "source": [
    "for n in range(len(periods)):\n",
    "    tot_for[n,:,:,:,:]= np.load(f'Forecasts 400/30EOFs_forecast_p{n}.npy')"
   ]
  },
  {
   "cell_type": "code",
   "execution_count": 47,
   "id": "70597c68-aa85-4ac4-b3ec-fb0b6e106777",
   "metadata": {},
   "outputs": [],
   "source": [
    "tot_for_union=np.empty((7, 30, 24, 24000))\n",
    "tot_for_union.fill(np.NaN)"
   ]
  },
  {
   "cell_type": "code",
   "execution_count": 48,
   "id": "0c75f9e7-ac0f-409b-8add-b0f53dc2b220",
   "metadata": {},
   "outputs": [],
   "source": [
    "for m in lead_times:\n",
    "    for n in periods:\n",
    "        tot_for_union[:,:,m, m + n*1200 : m + n*1200 +1176]=tot_for[n,:,:,m,:]"
   ]
  },
  {
   "cell_type": "code",
   "execution_count": 49,
   "id": "6247ff91-6869-4131-b487-8368f2bd6225",
   "metadata": {},
   "outputs": [
    {
     "data": {
      "text/plain": [
       "(4, 30, 24, 24000)"
      ]
     },
     "execution_count": 49,
     "metadata": {},
     "output_type": "execute_result"
    }
   ],
   "source": [
    "tot_for_union=tot_for_union[(0,2,4,6),:,:,:]\n",
    "tot_for_union.shape"
   ]
  },
  {
   "cell_type": "code",
   "execution_count": 50,
   "id": "640936d6-2824-4212-8f0c-4031ebd60427",
   "metadata": {},
   "outputs": [],
   "source": [
    "del(tot_for)"
   ]
  },
  {
   "cell_type": "markdown",
   "id": "9c4409ca-fc48-41ea-b598-b70cb97aad3c",
   "metadata": {},
   "source": [
    "### Correlations"
   ]
  },
  {
   "cell_type": "code",
   "execution_count": 51,
   "id": "2aed094e-36de-4e7b-a97c-261609cc9b6a",
   "metadata": {},
   "outputs": [],
   "source": [
    "mean_av=np.zeros(24)"
   ]
  },
  {
   "cell_type": "code",
   "execution_count": 52,
   "id": "c69a4c18-8e40-46ba-876b-d786f37a1b71",
   "metadata": {},
   "outputs": [],
   "source": [
    "import random"
   ]
  },
  {
   "cell_type": "code",
   "execution_count": 57,
   "id": "c03918da-4963-4666-b12b-2e490589a45b",
   "metadata": {},
   "outputs": [
    {
     "name": "stdout",
     "output_type": "stream",
     "text": [
      "0   1     0.0\n",
      "0   2     0.060172846079165176\n",
      "0   3     0.09150370067503955\n",
      "0   4     0.10833649068280565\n",
      "1   1     0.0\n",
      "1   2     0.061672752754127536\n",
      "1   3     0.09092820295580212\n",
      "1   4     0.10833649068280565\n",
      "2   1     0.0\n",
      "2   2     0.06104097923282292\n",
      "2   3     0.09150370067503955\n",
      "2   4     0.10833649068280565\n",
      "3   1     0.0\n",
      "3   2     0.061672752754127536\n",
      "3   3     0.09151499192194573\n",
      "3   4     0.10833649068280571\n",
      "4   1     0.0\n",
      "4   2     0.06101941824231588\n",
      "4   3     0.09150370067503955\n",
      "4   4     0.10833649068280571\n",
      "5   1     0.0\n",
      "5   2     0.06101941824231588\n",
      "5   3     0.09092820295580212\n",
      "5   4     0.10833649068280576\n",
      "6   1     0.0\n",
      "6   2     0.060172846079165176\n",
      "6   3     0.09150370067503949\n",
      "6   4     0.10833649068280571\n",
      "7   1     0.0\n",
      "7   2     0.06104097923282292\n",
      "7   3     0.09171526907507893\n",
      "7   4     0.10833649068280565\n",
      "8   1     0.0\n",
      "8   2     0.0647698558072794\n",
      "8   3     0.09092820295580212\n",
      "8   4     0.10833649068280571\n",
      "9   1     0.0\n",
      "9   2     0.061672752754127536\n",
      "9   3     0.09151499192194573\n",
      "9   4     0.10833649068280565\n"
     ]
    }
   ],
   "source": [
    "diff_gauss30_lead=np.zeros((7,10))\n",
    "lead=15\n",
    "\n",
    "\n",
    "for m in range(10):\n",
    "\n",
    "    for i in operators:\n",
    "        \n",
    "        num=i+1\n",
    "    \n",
    "        mean_av=np.zeros(24)\n",
    "        mean_ind=np.zeros((24,num))\n",
    "        \n",
    "        chosen=random.sample(operators, k=num)\n",
    "        tot_for_union_sel=tot_for_union[chosen, :,:,:]\n",
    "        \n",
    "        ## Compute average forecast\n",
    "        av_for=np.mean(tot_for_union_sel, axis=0)\n",
    "        av_for_geo_array=udat_sst @ av_for[0:20,lead,:]            \n",
    "        av_for_geo = xr.full_like(X_tos.A[:,:],0)\n",
    "        av_for_geo.data=av_for_geo_array.real\n",
    "        Avindex=av_for_geo.unstack().sel(lat=slice(-5,5),lon=slice(170,220)).mean(dim=('lat','lon'))\n",
    "        \n",
    "        #Correlation average forecast and observations\n",
    "        mean_av[lead]=np.corrcoef(Xindex[np.invert(np.isnan(Avindex))],Avindex[np.invert(np.isnan(Avindex))])[0,1]\n",
    "        #RMSE_mean_av[lead]=1-np.sqrt(np.square(np.subtract(Xindex[np.invert(np.isnan(Avindex))],Avindex[np.invert(np.isnan(Avindex))])).mean()) / np.std(Xindex[np.invert(np.isnan(Avindex))])\n",
    "        #print(mean_av[lead])\n",
    "        \n",
    "        #Average correlation between individual forecast and observations\n",
    "        for i in range(num):  \n",
    "            phix_geo_array=udat_sst @ tot_for_union_sel[i,0:20,lead,:]  \n",
    "            phix_geo = xr.full_like(X_tos.A[:,:],0)\n",
    "            phix_geo.data=phix_geo_array.real\n",
    "            Phiindex=phix_geo.unstack().sel(lat=slice(-5,5),lon=slice(170,220)).mean(dim=('lat','lon'))\n",
    "        \n",
    "            mean_ind[lead,i]=np.corrcoef(Xindex[np.invert(np.isnan(Phiindex))],Phiindex[np.invert(np.isnan(Phiindex))])[0,1]\n",
    "            #RMSE_mean_ind[lead,i]= 1-np.sqrt(np.square(np.subtract(Xindex[np.invert(np.isnan(Phiindex))],Phiindex[np.invert(np.isnan(Phiindex))])).mean()) / np.std(Xindex[np.invert(np.isnan(Phiindex))])\n",
    "            \n",
    "        av_corr=np.mean(mean_ind, axis=1)[lead]\n",
    "        diff_gauss30_lead[i,m]=mean_av[lead]-av_corr\n",
    "        print(m, \" \", num, \"   \", mean_av[lead]-av_corr)"
   ]
  },
  {
   "cell_type": "code",
   "execution_count": null,
   "id": "7e76b00a-2038-43d5-8fd8-ebfc5cf89c60",
   "metadata": {},
   "outputs": [],
   "source": []
  },
  {
   "cell_type": "code",
   "execution_count": 54,
   "id": "e9cfdc2b-4cec-46a2-8506-4a010ad9bb65",
   "metadata": {},
   "outputs": [],
   "source": [
    "np.save('Forecasts 400/Skill metrics/diff_gauss30_lead5.npy', diff_gauss30_lead, allow_pickle=True, fix_imports=True)"
   ]
  },
  {
   "cell_type": "code",
   "execution_count": 56,
   "id": "1b0838ab-7032-42cb-a31a-308d3af30689",
   "metadata": {},
   "outputs": [],
   "source": [
    "np.save('Forecasts 400/Skill metrics/diff_gauss30_lead10.npy', diff_gauss30_lead, allow_pickle=True, fix_imports=True)"
   ]
  },
  {
   "cell_type": "code",
   "execution_count": 58,
   "id": "4539cef0-66af-4dcb-a1c4-1415df123d42",
   "metadata": {},
   "outputs": [],
   "source": [
    "np.save('Forecasts 400/Skill metrics/diff_gauss30_lead15.npy', diff_gauss30_lead, allow_pickle=True, fix_imports=True)"
   ]
  },
  {
   "cell_type": "code",
   "execution_count": null,
   "id": "6a5cdd55-f24a-4e8a-af26-db0046bff7f9",
   "metadata": {},
   "outputs": [],
   "source": []
  },
  {
   "cell_type": "markdown",
   "id": "5cb74f74-9f87-4944-b740-91cf6d48e0eb",
   "metadata": {},
   "source": [
    "## 30 POLY"
   ]
  },
  {
   "cell_type": "code",
   "execution_count": 59,
   "id": "b62cee8a-7af2-4f19-93aa-8751582fe62e",
   "metadata": {},
   "outputs": [],
   "source": [
    "#Select EOFs\n",
    "udat_sst=EOFs[:,0:20]"
   ]
  },
  {
   "cell_type": "code",
   "execution_count": 60,
   "id": "45b43d08-8854-41e4-a8ad-e8427899f6b7",
   "metadata": {},
   "outputs": [
    {
     "data": {
      "text/html": [
       "<div><svg style=\"position: absolute; width: 0; height: 0; overflow: hidden\">\n",
       "<defs>\n",
       "<symbol id=\"icon-database\" viewBox=\"0 0 32 32\">\n",
       "<path d=\"M16 0c-8.837 0-16 2.239-16 5v4c0 2.761 7.163 5 16 5s16-2.239 16-5v-4c0-2.761-7.163-5-16-5z\"></path>\n",
       "<path d=\"M16 17c-8.837 0-16-2.239-16-5v6c0 2.761 7.163 5 16 5s16-2.239 16-5v-6c0 2.761-7.163 5-16 5z\"></path>\n",
       "<path d=\"M16 26c-8.837 0-16-2.239-16-5v6c0 2.761 7.163 5 16 5s16-2.239 16-5v-6c0 2.761-7.163 5-16 5z\"></path>\n",
       "</symbol>\n",
       "<symbol id=\"icon-file-text2\" viewBox=\"0 0 32 32\">\n",
       "<path d=\"M28.681 7.159c-0.694-0.947-1.662-2.053-2.724-3.116s-2.169-2.030-3.116-2.724c-1.612-1.182-2.393-1.319-2.841-1.319h-15.5c-1.378 0-2.5 1.121-2.5 2.5v27c0 1.378 1.122 2.5 2.5 2.5h23c1.378 0 2.5-1.122 2.5-2.5v-19.5c0-0.448-0.137-1.23-1.319-2.841zM24.543 5.457c0.959 0.959 1.712 1.825 2.268 2.543h-4.811v-4.811c0.718 0.556 1.584 1.309 2.543 2.268zM28 29.5c0 0.271-0.229 0.5-0.5 0.5h-23c-0.271 0-0.5-0.229-0.5-0.5v-27c0-0.271 0.229-0.5 0.5-0.5 0 0 15.499-0 15.5 0v7c0 0.552 0.448 1 1 1h7v19.5z\"></path>\n",
       "<path d=\"M23 26h-14c-0.552 0-1-0.448-1-1s0.448-1 1-1h14c0.552 0 1 0.448 1 1s-0.448 1-1 1z\"></path>\n",
       "<path d=\"M23 22h-14c-0.552 0-1-0.448-1-1s0.448-1 1-1h14c0.552 0 1 0.448 1 1s-0.448 1-1 1z\"></path>\n",
       "<path d=\"M23 18h-14c-0.552 0-1-0.448-1-1s0.448-1 1-1h14c0.552 0 1 0.448 1 1s-0.448 1-1 1z\"></path>\n",
       "</symbol>\n",
       "</defs>\n",
       "</svg>\n",
       "<style>/* CSS stylesheet for displaying xarray objects in jupyterlab.\n",
       " *\n",
       " */\n",
       "\n",
       ":root {\n",
       "  --xr-font-color0: var(--jp-content-font-color0, rgba(0, 0, 0, 1));\n",
       "  --xr-font-color2: var(--jp-content-font-color2, rgba(0, 0, 0, 0.54));\n",
       "  --xr-font-color3: var(--jp-content-font-color3, rgba(0, 0, 0, 0.38));\n",
       "  --xr-border-color: var(--jp-border-color2, #e0e0e0);\n",
       "  --xr-disabled-color: var(--jp-layout-color3, #bdbdbd);\n",
       "  --xr-background-color: var(--jp-layout-color0, white);\n",
       "  --xr-background-color-row-even: var(--jp-layout-color1, white);\n",
       "  --xr-background-color-row-odd: var(--jp-layout-color2, #eeeeee);\n",
       "}\n",
       "\n",
       "html[theme=dark],\n",
       "body[data-theme=dark],\n",
       "body.vscode-dark {\n",
       "  --xr-font-color0: rgba(255, 255, 255, 1);\n",
       "  --xr-font-color2: rgba(255, 255, 255, 0.54);\n",
       "  --xr-font-color3: rgba(255, 255, 255, 0.38);\n",
       "  --xr-border-color: #1F1F1F;\n",
       "  --xr-disabled-color: #515151;\n",
       "  --xr-background-color: #111111;\n",
       "  --xr-background-color-row-even: #111111;\n",
       "  --xr-background-color-row-odd: #313131;\n",
       "}\n",
       "\n",
       ".xr-wrap {\n",
       "  display: block !important;\n",
       "  min-width: 300px;\n",
       "  max-width: 700px;\n",
       "}\n",
       "\n",
       ".xr-text-repr-fallback {\n",
       "  /* fallback to plain text repr when CSS is not injected (untrusted notebook) */\n",
       "  display: none;\n",
       "}\n",
       "\n",
       ".xr-header {\n",
       "  padding-top: 6px;\n",
       "  padding-bottom: 6px;\n",
       "  margin-bottom: 4px;\n",
       "  border-bottom: solid 1px var(--xr-border-color);\n",
       "}\n",
       "\n",
       ".xr-header > div,\n",
       ".xr-header > ul {\n",
       "  display: inline;\n",
       "  margin-top: 0;\n",
       "  margin-bottom: 0;\n",
       "}\n",
       "\n",
       ".xr-obj-type,\n",
       ".xr-array-name {\n",
       "  margin-left: 2px;\n",
       "  margin-right: 10px;\n",
       "}\n",
       "\n",
       ".xr-obj-type {\n",
       "  color: var(--xr-font-color2);\n",
       "}\n",
       "\n",
       ".xr-sections {\n",
       "  padding-left: 0 !important;\n",
       "  display: grid;\n",
       "  grid-template-columns: 150px auto auto 1fr 20px 20px;\n",
       "}\n",
       "\n",
       ".xr-section-item {\n",
       "  display: contents;\n",
       "}\n",
       "\n",
       ".xr-section-item input {\n",
       "  display: none;\n",
       "}\n",
       "\n",
       ".xr-section-item input + label {\n",
       "  color: var(--xr-disabled-color);\n",
       "}\n",
       "\n",
       ".xr-section-item input:enabled + label {\n",
       "  cursor: pointer;\n",
       "  color: var(--xr-font-color2);\n",
       "}\n",
       "\n",
       ".xr-section-item input:enabled + label:hover {\n",
       "  color: var(--xr-font-color0);\n",
       "}\n",
       "\n",
       ".xr-section-summary {\n",
       "  grid-column: 1;\n",
       "  color: var(--xr-font-color2);\n",
       "  font-weight: 500;\n",
       "}\n",
       "\n",
       ".xr-section-summary > span {\n",
       "  display: inline-block;\n",
       "  padding-left: 0.5em;\n",
       "}\n",
       "\n",
       ".xr-section-summary-in:disabled + label {\n",
       "  color: var(--xr-font-color2);\n",
       "}\n",
       "\n",
       ".xr-section-summary-in + label:before {\n",
       "  display: inline-block;\n",
       "  content: '►';\n",
       "  font-size: 11px;\n",
       "  width: 15px;\n",
       "  text-align: center;\n",
       "}\n",
       "\n",
       ".xr-section-summary-in:disabled + label:before {\n",
       "  color: var(--xr-disabled-color);\n",
       "}\n",
       "\n",
       ".xr-section-summary-in:checked + label:before {\n",
       "  content: '▼';\n",
       "}\n",
       "\n",
       ".xr-section-summary-in:checked + label > span {\n",
       "  display: none;\n",
       "}\n",
       "\n",
       ".xr-section-summary,\n",
       ".xr-section-inline-details {\n",
       "  padding-top: 4px;\n",
       "  padding-bottom: 4px;\n",
       "}\n",
       "\n",
       ".xr-section-inline-details {\n",
       "  grid-column: 2 / -1;\n",
       "}\n",
       "\n",
       ".xr-section-details {\n",
       "  display: none;\n",
       "  grid-column: 1 / -1;\n",
       "  margin-bottom: 5px;\n",
       "}\n",
       "\n",
       ".xr-section-summary-in:checked ~ .xr-section-details {\n",
       "  display: contents;\n",
       "}\n",
       "\n",
       ".xr-array-wrap {\n",
       "  grid-column: 1 / -1;\n",
       "  display: grid;\n",
       "  grid-template-columns: 20px auto;\n",
       "}\n",
       "\n",
       ".xr-array-wrap > label {\n",
       "  grid-column: 1;\n",
       "  vertical-align: top;\n",
       "}\n",
       "\n",
       ".xr-preview {\n",
       "  color: var(--xr-font-color3);\n",
       "}\n",
       "\n",
       ".xr-array-preview,\n",
       ".xr-array-data {\n",
       "  padding: 0 5px !important;\n",
       "  grid-column: 2;\n",
       "}\n",
       "\n",
       ".xr-array-data,\n",
       ".xr-array-in:checked ~ .xr-array-preview {\n",
       "  display: none;\n",
       "}\n",
       "\n",
       ".xr-array-in:checked ~ .xr-array-data,\n",
       ".xr-array-preview {\n",
       "  display: inline-block;\n",
       "}\n",
       "\n",
       ".xr-dim-list {\n",
       "  display: inline-block !important;\n",
       "  list-style: none;\n",
       "  padding: 0 !important;\n",
       "  margin: 0;\n",
       "}\n",
       "\n",
       ".xr-dim-list li {\n",
       "  display: inline-block;\n",
       "  padding: 0;\n",
       "  margin: 0;\n",
       "}\n",
       "\n",
       ".xr-dim-list:before {\n",
       "  content: '(';\n",
       "}\n",
       "\n",
       ".xr-dim-list:after {\n",
       "  content: ')';\n",
       "}\n",
       "\n",
       ".xr-dim-list li:not(:last-child):after {\n",
       "  content: ',';\n",
       "  padding-right: 5px;\n",
       "}\n",
       "\n",
       ".xr-has-index {\n",
       "  font-weight: bold;\n",
       "}\n",
       "\n",
       ".xr-var-list,\n",
       ".xr-var-item {\n",
       "  display: contents;\n",
       "}\n",
       "\n",
       ".xr-var-item > div,\n",
       ".xr-var-item label,\n",
       ".xr-var-item > .xr-var-name span {\n",
       "  background-color: var(--xr-background-color-row-even);\n",
       "  margin-bottom: 0;\n",
       "}\n",
       "\n",
       ".xr-var-item > .xr-var-name:hover span {\n",
       "  padding-right: 5px;\n",
       "}\n",
       "\n",
       ".xr-var-list > li:nth-child(odd) > div,\n",
       ".xr-var-list > li:nth-child(odd) > label,\n",
       ".xr-var-list > li:nth-child(odd) > .xr-var-name span {\n",
       "  background-color: var(--xr-background-color-row-odd);\n",
       "}\n",
       "\n",
       ".xr-var-name {\n",
       "  grid-column: 1;\n",
       "}\n",
       "\n",
       ".xr-var-dims {\n",
       "  grid-column: 2;\n",
       "}\n",
       "\n",
       ".xr-var-dtype {\n",
       "  grid-column: 3;\n",
       "  text-align: right;\n",
       "  color: var(--xr-font-color2);\n",
       "}\n",
       "\n",
       ".xr-var-preview {\n",
       "  grid-column: 4;\n",
       "}\n",
       "\n",
       ".xr-index-preview {\n",
       "  grid-column: 2 / 5;\n",
       "  color: var(--xr-font-color2);\n",
       "}\n",
       "\n",
       ".xr-var-name,\n",
       ".xr-var-dims,\n",
       ".xr-var-dtype,\n",
       ".xr-preview,\n",
       ".xr-attrs dt {\n",
       "  white-space: nowrap;\n",
       "  overflow: hidden;\n",
       "  text-overflow: ellipsis;\n",
       "  padding-right: 10px;\n",
       "}\n",
       "\n",
       ".xr-var-name:hover,\n",
       ".xr-var-dims:hover,\n",
       ".xr-var-dtype:hover,\n",
       ".xr-attrs dt:hover {\n",
       "  overflow: visible;\n",
       "  width: auto;\n",
       "  z-index: 1;\n",
       "}\n",
       "\n",
       ".xr-var-attrs,\n",
       ".xr-var-data,\n",
       ".xr-index-data {\n",
       "  display: none;\n",
       "  background-color: var(--xr-background-color) !important;\n",
       "  padding-bottom: 5px !important;\n",
       "}\n",
       "\n",
       ".xr-var-attrs-in:checked ~ .xr-var-attrs,\n",
       ".xr-var-data-in:checked ~ .xr-var-data,\n",
       ".xr-index-data-in:checked ~ .xr-index-data {\n",
       "  display: block;\n",
       "}\n",
       "\n",
       ".xr-var-data > table {\n",
       "  float: right;\n",
       "}\n",
       "\n",
       ".xr-var-name span,\n",
       ".xr-var-data,\n",
       ".xr-index-name div,\n",
       ".xr-index-data,\n",
       ".xr-attrs {\n",
       "  padding-left: 25px !important;\n",
       "}\n",
       "\n",
       ".xr-attrs,\n",
       ".xr-var-attrs,\n",
       ".xr-var-data,\n",
       ".xr-index-data {\n",
       "  grid-column: 1 / -1;\n",
       "}\n",
       "\n",
       "dl.xr-attrs {\n",
       "  padding: 0;\n",
       "  margin: 0;\n",
       "  display: grid;\n",
       "  grid-template-columns: 125px auto;\n",
       "}\n",
       "\n",
       ".xr-attrs dt,\n",
       ".xr-attrs dd {\n",
       "  padding: 0;\n",
       "  margin: 0;\n",
       "  float: left;\n",
       "  padding-right: 10px;\n",
       "  width: auto;\n",
       "}\n",
       "\n",
       ".xr-attrs dt {\n",
       "  font-weight: normal;\n",
       "  grid-column: 1;\n",
       "}\n",
       "\n",
       ".xr-attrs dt:hover span {\n",
       "  display: inline-block;\n",
       "  background: var(--xr-background-color);\n",
       "  padding-right: 10px;\n",
       "}\n",
       "\n",
       ".xr-attrs dd {\n",
       "  grid-column: 2;\n",
       "  white-space: pre-wrap;\n",
       "  word-break: break-all;\n",
       "}\n",
       "\n",
       ".xr-icon-database,\n",
       ".xr-icon-file-text2,\n",
       ".xr-no-icon {\n",
       "  display: inline-block;\n",
       "  vertical-align: middle;\n",
       "  width: 1em;\n",
       "  height: 1.5em !important;\n",
       "  stroke-width: 0;\n",
       "  stroke: currentColor;\n",
       "  fill: currentColor;\n",
       "}\n",
       "</style><pre class='xr-text-repr-fallback'>&lt;xarray.DataArray (time: 24000)&gt;\n",
       "array([-0.07060546,  0.05650981,  0.28544343, ..., -0.9016017 ,\n",
       "       -0.9271781 , -0.89309406], dtype=float32)\n",
       "Coordinates:\n",
       "  * time     (time) object 0001-02-01 00:00:00 ... 2001-01-01 00:00:00\n",
       "    z_t      float32 500.0\n",
       "    month    (time) int64 2 3 4 5 6 7 8 9 10 11 12 ... 3 4 5 6 7 8 9 10 11 12 1</pre><div class='xr-wrap' style='display:none'><div class='xr-header'><div class='xr-obj-type'>xarray.DataArray</div><div class='xr-array-name'></div><ul class='xr-dim-list'><li><span class='xr-has-index'>time</span>: 24000</li></ul></div><ul class='xr-sections'><li class='xr-section-item'><div class='xr-array-wrap'><input id='section-c005357c-10ca-4837-8611-606d81e2b784' class='xr-array-in' type='checkbox' checked><label for='section-c005357c-10ca-4837-8611-606d81e2b784' title='Show/hide data repr'><svg class='icon xr-icon-database'><use xlink:href='#icon-database'></use></svg></label><div class='xr-array-preview xr-preview'><span>-0.07061 0.05651 0.2854 0.3252 0.6967 ... -1.1 -0.9016 -0.9272 -0.8931</span></div><div class='xr-array-data'><pre>array([-0.07060546,  0.05650981,  0.28544343, ..., -0.9016017 ,\n",
       "       -0.9271781 , -0.89309406], dtype=float32)</pre></div></div></li><li class='xr-section-item'><input id='section-d76595a1-a185-4176-b8a6-7f9a8bc48cf2' class='xr-section-summary-in' type='checkbox'  checked><label for='section-d76595a1-a185-4176-b8a6-7f9a8bc48cf2' class='xr-section-summary' >Coordinates: <span>(3)</span></label><div class='xr-section-inline-details'></div><div class='xr-section-details'><ul class='xr-var-list'><li class='xr-var-item'><div class='xr-var-name'><span class='xr-has-index'>time</span></div><div class='xr-var-dims'>(time)</div><div class='xr-var-dtype'>object</div><div class='xr-var-preview xr-preview'>0001-02-01 00:00:00 ... 2001-01-...</div><input id='attrs-d50b4faf-4332-4bb3-8d1d-3b616bb75ca7' class='xr-var-attrs-in' type='checkbox' disabled><label for='attrs-d50b4faf-4332-4bb3-8d1d-3b616bb75ca7' title='Show/Hide attributes'><svg class='icon xr-icon-file-text2'><use xlink:href='#icon-file-text2'></use></svg></label><input id='data-8a440300-8cfc-45c9-ae48-6b9d0f5af5ee' class='xr-var-data-in' type='checkbox'><label for='data-8a440300-8cfc-45c9-ae48-6b9d0f5af5ee' title='Show/Hide data repr'><svg class='icon xr-icon-database'><use xlink:href='#icon-database'></use></svg></label><div class='xr-var-attrs'><dl class='xr-attrs'></dl></div><div class='xr-var-data'><pre>array([cftime.DatetimeNoLeap(1, 2, 1, 0, 0, 0, 0, has_year_zero=True),\n",
       "       cftime.DatetimeNoLeap(1, 3, 1, 0, 0, 0, 0, has_year_zero=True),\n",
       "       cftime.DatetimeNoLeap(1, 4, 1, 0, 0, 0, 0, has_year_zero=True), ...,\n",
       "       cftime.DatetimeNoLeap(2000, 11, 1, 0, 0, 0, 0, has_year_zero=True),\n",
       "       cftime.DatetimeNoLeap(2000, 12, 1, 0, 0, 0, 0, has_year_zero=True),\n",
       "       cftime.DatetimeNoLeap(2001, 1, 1, 0, 0, 0, 0, has_year_zero=True)],\n",
       "      dtype=object)</pre></div></li><li class='xr-var-item'><div class='xr-var-name'><span>z_t</span></div><div class='xr-var-dims'>()</div><div class='xr-var-dtype'>float32</div><div class='xr-var-preview xr-preview'>500.0</div><input id='attrs-6cce41ab-1c12-4937-ae26-3f33a8e1127f' class='xr-var-attrs-in' type='checkbox' disabled><label for='attrs-6cce41ab-1c12-4937-ae26-3f33a8e1127f' title='Show/Hide attributes'><svg class='icon xr-icon-file-text2'><use xlink:href='#icon-file-text2'></use></svg></label><input id='data-76aab7cb-5955-4fab-abf8-866673c7ab1d' class='xr-var-data-in' type='checkbox'><label for='data-76aab7cb-5955-4fab-abf8-866673c7ab1d' title='Show/Hide data repr'><svg class='icon xr-icon-database'><use xlink:href='#icon-database'></use></svg></label><div class='xr-var-attrs'><dl class='xr-attrs'></dl></div><div class='xr-var-data'><pre>array(500., dtype=float32)</pre></div></li><li class='xr-var-item'><div class='xr-var-name'><span>month</span></div><div class='xr-var-dims'>(time)</div><div class='xr-var-dtype'>int64</div><div class='xr-var-preview xr-preview'>2 3 4 5 6 7 8 ... 7 8 9 10 11 12 1</div><input id='attrs-5301811f-e2fd-4cf6-9630-ac2ba1da5a2f' class='xr-var-attrs-in' type='checkbox' disabled><label for='attrs-5301811f-e2fd-4cf6-9630-ac2ba1da5a2f' title='Show/Hide attributes'><svg class='icon xr-icon-file-text2'><use xlink:href='#icon-file-text2'></use></svg></label><input id='data-2aac841e-ee0d-4eff-984b-d9956dbb70da' class='xr-var-data-in' type='checkbox'><label for='data-2aac841e-ee0d-4eff-984b-d9956dbb70da' title='Show/Hide data repr'><svg class='icon xr-icon-database'><use xlink:href='#icon-database'></use></svg></label><div class='xr-var-attrs'><dl class='xr-attrs'></dl></div><div class='xr-var-data'><pre>array([ 2,  3,  4, ..., 11, 12,  1])</pre></div></li></ul></div></li><li class='xr-section-item'><input id='section-d0fd8591-122e-4bb8-a8d4-a813bd71e48f' class='xr-section-summary-in' type='checkbox'  ><label for='section-d0fd8591-122e-4bb8-a8d4-a813bd71e48f' class='xr-section-summary' >Indexes: <span>(1)</span></label><div class='xr-section-inline-details'></div><div class='xr-section-details'><ul class='xr-var-list'><li class='xr-var-item'><div class='xr-index-name'><div>time</div></div><div class='xr-index-preview'>PandasIndex</div><div></div><input id='index-3ef49c7a-8264-46c7-a9cd-f5959656962f' class='xr-index-data-in' type='checkbox'/><label for='index-3ef49c7a-8264-46c7-a9cd-f5959656962f' title='Show/Hide index repr'><svg class='icon xr-icon-database'><use xlink:href='#icon-database'></use></svg></label><div class='xr-index-data'><pre>PandasIndex(CFTimeIndex([0001-02-01 00:00:00, 0001-03-01 00:00:00, 0001-04-01 00:00:00,\n",
       "             0001-05-01 00:00:00, 0001-06-01 00:00:00, 0001-07-01 00:00:00,\n",
       "             0001-08-01 00:00:00, 0001-09-01 00:00:00, 0001-10-01 00:00:00,\n",
       "             0001-11-01 00:00:00,\n",
       "             ...\n",
       "             2000-04-01 00:00:00, 2000-05-01 00:00:00, 2000-06-01 00:00:00,\n",
       "             2000-07-01 00:00:00, 2000-08-01 00:00:00, 2000-09-01 00:00:00,\n",
       "             2000-10-01 00:00:00, 2000-11-01 00:00:00, 2000-12-01 00:00:00,\n",
       "             2001-01-01 00:00:00],\n",
       "            dtype=&#x27;object&#x27;, length=24000, calendar=&#x27;noleap&#x27;, freq=&#x27;MS&#x27;))</pre></div></li></ul></div></li><li class='xr-section-item'><input id='section-2763527b-6a08-43dd-941e-d3396fa278f5' class='xr-section-summary-in' type='checkbox' disabled ><label for='section-2763527b-6a08-43dd-941e-d3396fa278f5' class='xr-section-summary'  title='Expand/collapse section'>Attributes: <span>(0)</span></label><div class='xr-section-inline-details'></div><div class='xr-section-details'><dl class='xr-attrs'></dl></div></li></ul></div></div>"
      ],
      "text/plain": [
       "<xarray.DataArray (time: 24000)>\n",
       "array([-0.07060546,  0.05650981,  0.28544343, ..., -0.9016017 ,\n",
       "       -0.9271781 , -0.89309406], dtype=float32)\n",
       "Coordinates:\n",
       "  * time     (time) object 0001-02-01 00:00:00 ... 2001-01-01 00:00:00\n",
       "    z_t      float32 500.0\n",
       "    month    (time) int64 2 3 4 5 6 7 8 9 10 11 12 ... 3 4 5 6 7 8 9 10 11 12 1"
      ]
     },
     "execution_count": 60,
     "metadata": {},
     "output_type": "execute_result"
    }
   ],
   "source": [
    "## Compute observations NON truncated to PCs\n",
    "Xindex=X_tos.A.unstack().sel(lat=slice(-5,5),lon=slice(170,220)).mean(dim=('lat','lon'))#[:-1]\n",
    "Xindex"
   ]
  },
  {
   "cell_type": "markdown",
   "id": "8b4a43f4-a9e3-4920-a08e-04bbfe7d0694",
   "metadata": {},
   "source": [
    "### Load data"
   ]
  },
  {
   "cell_type": "code",
   "execution_count": 61,
   "id": "c54105bb-1713-48e4-89bf-70fbb927f7c9",
   "metadata": {},
   "outputs": [],
   "source": [
    "tot_for=np.zeros((20, 7, 30, 24, 1176))"
   ]
  },
  {
   "cell_type": "code",
   "execution_count": 62,
   "id": "bb6f7cd0-a55e-4e3c-940a-857ceb288f5c",
   "metadata": {},
   "outputs": [],
   "source": [
    "for n in range(len(periods)):\n",
    "    tot_for[n,:,:,:,:]= np.load(f'Forecasts 400/POLY_forecast_p{n}.npy')"
   ]
  },
  {
   "cell_type": "code",
   "execution_count": 63,
   "id": "9b2c5fff-e1b6-49a7-97f8-d2de5285b858",
   "metadata": {},
   "outputs": [],
   "source": [
    "tot_for_union=np.empty((7, 30, 24, 24000))\n",
    "tot_for_union.fill(np.NaN)"
   ]
  },
  {
   "cell_type": "code",
   "execution_count": 64,
   "id": "c67a71ef-14b5-4ed6-b9b6-8518ac504d43",
   "metadata": {},
   "outputs": [],
   "source": [
    "for m in lead_times:\n",
    "    for n in periods:\n",
    "        tot_for_union[:,:,m, m + n*1200 : m + n*1200 +1176]=tot_for[n,:,:,m,:]"
   ]
  },
  {
   "cell_type": "code",
   "execution_count": 65,
   "id": "bcec28c9-e612-4672-af75-dff4c0dcce01",
   "metadata": {},
   "outputs": [
    {
     "data": {
      "text/plain": [
       "(4, 30, 24, 24000)"
      ]
     },
     "execution_count": 65,
     "metadata": {},
     "output_type": "execute_result"
    }
   ],
   "source": [
    "tot_for_union=tot_for_union[(0,2,4,6),:,:,:]\n",
    "tot_for_union.shape"
   ]
  },
  {
   "cell_type": "code",
   "execution_count": 66,
   "id": "10e6d775-0145-4561-9944-8e3809e52077",
   "metadata": {},
   "outputs": [],
   "source": [
    "del(tot_for)"
   ]
  },
  {
   "cell_type": "markdown",
   "id": "c038ceac-15de-431f-b9ef-77b343e61344",
   "metadata": {},
   "source": [
    "### Correlations"
   ]
  },
  {
   "cell_type": "code",
   "execution_count": 67,
   "id": "07b46b9d-639b-4bad-aed8-39ce2f31ba21",
   "metadata": {},
   "outputs": [],
   "source": [
    "mean_av=np.zeros(24)"
   ]
  },
  {
   "cell_type": "code",
   "execution_count": 68,
   "id": "3f30dc82-07a3-4acd-8f68-d7a934f51890",
   "metadata": {},
   "outputs": [],
   "source": [
    "import random"
   ]
  },
  {
   "cell_type": "code",
   "execution_count": 73,
   "id": "5ba5ee68-3715-49ed-a6cd-9aaea6aa6000",
   "metadata": {},
   "outputs": [
    {
     "name": "stdout",
     "output_type": "stream",
     "text": [
      "0   1     0.0    [3]\n",
      "0   2     0.0019953258756107983    [1, 0]\n",
      "0   3     0.005479150099017449    [2, 1, 0]\n",
      "0   4     0.00702154132063415    [1, 3, 2, 0]\n",
      "1   1     0.0    [2]\n",
      "1   2     0.004561185689858971    [3, 1]\n",
      "1   3     0.007701113085413214    [1, 3, 2]\n",
      "1   4     0.007021541320634206    [0, 3, 1, 2]\n",
      "2   1     0.0    [3]\n",
      "2   2     0.0019953258756107983    [1, 0]\n",
      "2   3     0.007701113085413214    [3, 1, 2]\n",
      "2   4     0.007021541320634206    [0, 3, 1, 2]\n",
      "3   1     0.0    [1]\n",
      "3   2     0.0036664045182152605    [0, 3]\n",
      "3   3     0.006967915664297497    [3, 0, 2]\n",
      "3   4     0.00702154132063415    [0, 1, 2, 3]\n",
      "4   1     0.0    [2]\n",
      "4   2     0.0019953258756107983    [0, 1]\n",
      "4   3     0.004609219285936161    [3, 0, 1]\n",
      "4   4     0.007021541320634206    [0, 3, 1, 2]\n",
      "5   1     0.0    [2]\n",
      "5   2     0.0046670940942852845    [0, 2]\n",
      "5   3     0.005479150099017449    [1, 2, 0]\n",
      "5   4     0.007021541320634206    [1, 2, 3, 0]\n",
      "6   1     0.0    [0]\n",
      "6   2     0.005393425380678163    [2, 1]\n",
      "6   3     0.005479150099017449    [1, 2, 0]\n",
      "6   4     0.00702154132063415    [0, 3, 2, 1]\n",
      "7   1     0.0    [2]\n",
      "7   2     0.005393425380678163    [1, 2]\n",
      "7   3     0.005479150099017449    [0, 1, 2]\n",
      "7   4     0.007021541320634206    [2, 0, 1, 3]\n",
      "8   1     0.0    [0]\n",
      "8   2     0.0046670940942852845    [2, 0]\n",
      "8   3     0.007701113085413214    [3, 1, 2]\n",
      "8   4     0.007021541320634206    [3, 0, 1, 2]\n",
      "9   1     0.0    [1]\n",
      "9   2     0.005393425380678163    [2, 1]\n",
      "9   3     0.007701113085413325    [3, 2, 1]\n",
      "9   4     0.00702154132063415    [0, 1, 2, 3]\n"
     ]
    }
   ],
   "source": [
    "diff_poly_lead=np.zeros((7,10))\n",
    "lead=15\n",
    "\n",
    "\n",
    "for m in range(10):\n",
    "\n",
    "    for i in operators:\n",
    "        \n",
    "        num=i+1\n",
    "    \n",
    "        mean_av=np.zeros(24)\n",
    "        mean_ind=np.zeros((24,num))\n",
    "        \n",
    "        chosen=random.sample(operators, k=num)\n",
    "        tot_for_union_sel=tot_for_union[chosen, :,:,:]\n",
    "        \n",
    "        ## Compute average forecast\n",
    "        av_for=np.mean(tot_for_union_sel, axis=0)\n",
    "        av_for_geo_array=udat_sst @ av_for[0:20,lead,:]            \n",
    "        av_for_geo = xr.full_like(X_tos.A[:,:],0)\n",
    "        av_for_geo.data=av_for_geo_array.real\n",
    "        Avindex=av_for_geo.unstack().sel(lat=slice(-5,5),lon=slice(170,220)).mean(dim=('lat','lon'))\n",
    "        \n",
    "        #Correlation average forecast and observations\n",
    "        mean_av[lead]=np.corrcoef(Xindex[np.invert(np.isnan(Avindex))],Avindex[np.invert(np.isnan(Avindex))])[0,1]\n",
    "        #RMSE_mean_av[lead]=1-np.sqrt(np.square(np.subtract(Xindex[np.invert(np.isnan(Avindex))],Avindex[np.invert(np.isnan(Avindex))])).mean()) / np.std(Xindex[np.invert(np.isnan(Avindex))])\n",
    "        #print(mean_av[lead])\n",
    "        \n",
    "        #Average correlation between individual forecast and observations\n",
    "        for i in range(num):  \n",
    "            phix_geo_array=udat_sst @ tot_for_union_sel[i,0:20,lead,:]  \n",
    "            phix_geo = xr.full_like(X_tos.A[:,:],0)\n",
    "            phix_geo.data=phix_geo_array.real\n",
    "            Phiindex=phix_geo.unstack().sel(lat=slice(-5,5),lon=slice(170,220)).mean(dim=('lat','lon'))\n",
    "        \n",
    "            mean_ind[lead,i]=np.corrcoef(Xindex[np.invert(np.isnan(Phiindex))],Phiindex[np.invert(np.isnan(Phiindex))])[0,1]\n",
    "            #RMSE_mean_ind[lead,i]= 1-np.sqrt(np.square(np.subtract(Xindex[np.invert(np.isnan(Phiindex))],Phiindex[np.invert(np.isnan(Phiindex))])).mean()) / np.std(Xindex[np.invert(np.isnan(Phiindex))])\n",
    "            \n",
    "        av_corr=np.mean(mean_ind, axis=1)[lead]\n",
    "        diff_poly_lead[i,m]=mean_av[lead]-av_corr\n",
    "        print(m, \" \", num, \"   \", mean_av[lead]-av_corr, \"  \", chosen)"
   ]
  },
  {
   "cell_type": "code",
   "execution_count": 70,
   "id": "79c26fa6-25da-4871-87a8-a491cd77462e",
   "metadata": {},
   "outputs": [],
   "source": [
    "np.save('Forecasts 400/Skill metrics/diff_poly_lead5.npy', diff_poly_lead, allow_pickle=True, fix_imports=True)"
   ]
  },
  {
   "cell_type": "code",
   "execution_count": 72,
   "id": "c518c8df-5208-4dc7-b790-cc857d2cd0ca",
   "metadata": {},
   "outputs": [],
   "source": [
    "np.save('Forecasts 400/Skill metrics/diff_poly_lead10.npy', diff_poly_lead, allow_pickle=True, fix_imports=True)"
   ]
  },
  {
   "cell_type": "code",
   "execution_count": 74,
   "id": "bf13647c-a968-4e5d-b30f-ec12af0671ed",
   "metadata": {},
   "outputs": [],
   "source": [
    "np.save('Forecasts 400/Skill metrics/diff_poly_lead15.npy', diff_poly_lead, allow_pickle=True, fix_imports=True)"
   ]
  }
 ],
 "metadata": {
  "kernelspec": {
   "display_name": "koopman",
   "language": "python",
   "name": "koopman"
  },
  "language_info": {
   "codemirror_mode": {
    "name": "ipython",
    "version": 3
   },
   "file_extension": ".py",
   "mimetype": "text/x-python",
   "name": "python",
   "nbconvert_exporter": "python",
   "pygments_lexer": "ipython3",
   "version": "3.11.5"
  }
 },
 "nbformat": 4,
 "nbformat_minor": 5
}
