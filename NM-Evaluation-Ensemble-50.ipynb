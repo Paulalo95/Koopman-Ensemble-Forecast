{
 "cells": [
  {
   "cell_type": "markdown",
   "id": "ffc5fd61-d456-43c3-8ae9-b3f39279e40a",
   "metadata": {},
   "source": [
    "# Libraries"
   ]
  },
  {
   "cell_type": "code",
   "execution_count": 1,
   "id": "984e34c3-e4df-4736-91ed-c7fe25de7ad3",
   "metadata": {},
   "outputs": [
    {
     "data": {
      "text/plain": [
       "svmem(total=540409159680, available=513718743040, percent=4.9, used=22559977472, free=515231088640, active=1203662848, inactive=15364128768, buffers=5447680, cached=2612645888, shared=1156972544, slab=1226559488)"
      ]
     },
     "execution_count": 1,
     "metadata": {},
     "output_type": "execute_result"
    }
   ],
   "source": [
    "import psutil\n",
    "psutil.virtual_memory() "
   ]
  },
  {
   "cell_type": "code",
   "execution_count": 2,
   "id": "119949cf-2dc3-4a4c-a98e-b6f7ce01b4e1",
   "metadata": {},
   "outputs": [],
   "source": [
    "from datetime import datetime\n",
    "\n",
    "import numpy as np\n",
    "import pandas as pd\n",
    "from numpy import array\n",
    "\n",
    "from os import listdir\n",
    "from os.path import isfile, join\n",
    "import glob\n",
    "\n",
    "import pickle\n",
    "\n",
    "import cartopy.crs as ccrs\n",
    "import cartopy.feature as cfeature\n",
    "from cartopy.mpl.ticker import LongitudeFormatter, LatitudeFormatter\n",
    "#import cmocean\n",
    "##from mpl_toolkits.basemap import Basemap\n",
    "\n",
    "from matplotlib import ticker\n",
    "import matplotlib.pyplot as plt\n",
    "%matplotlib inline\n",
    "import matplotlib.colors as colors\n",
    "import matplotlib.pyplot as plt\n",
    "\n",
    "from matplotlib.colors import LogNorm\n",
    "from matplotlib.lines import Line2D\n",
    "from cartopy.mpl.ticker import LongitudeFormatter\n",
    "\n",
    "\n",
    "import metpy.calc as mpcalc\n",
    "from metpy.units import units\n",
    "import numpy as np\n",
    "from scipy.ndimage import gaussian_filter\n",
    "import xarray as xr\n",
    "import scipy as _sp\n",
    "\n",
    "import random"
   ]
  },
  {
   "cell_type": "code",
   "execution_count": 3,
   "id": "16d07603-b772-4121-be14-ad3867441e03",
   "metadata": {},
   "outputs": [],
   "source": [
    "import klus.algorithms as al\n",
    "# import d3s.domain as domain\n",
    "import klus.kernels as kernels\n",
    "# import d3s.tools as tools\n",
    "\n",
    "import zapata.computation as zcom\n",
    "import zapata.data as zdat\n",
    "import zapata.lib as zlib\n",
    "import zapata.mapping as zmap\n",
    "import zapata.koopman as zkop\n",
    "\n",
    "from scipy.spatial import distance\n",
    "\n",
    "from scipy.signal import argrelextrema\n",
    "from sklearn.model_selection import GridSearchCV\n",
    "from sklearn.neighbors import KernelDensity\n",
    "\n",
    "#%pdb\n",
    "%load_ext autoreload\n",
    "%autoreload 2\n",
    "%matplotlib inline\n"
   ]
  },
  {
   "cell_type": "code",
   "execution_count": 4,
   "id": "d9560f4b-d1a2-4d44-9686-7293b8acc503",
   "metadata": {},
   "outputs": [],
   "source": [
    "import scipy.linalg as sc\n",
    "import numpy.linalg as lin"
   ]
  },
  {
   "cell_type": "markdown",
   "id": "5d14974a-0d1f-475e-aefc-b360830e9f68",
   "metadata": {
    "jp-MarkdownHeadingCollapsed": true,
    "tags": []
   },
   "source": [
    "# Definition of functions"
   ]
  },
  {
   "cell_type": "markdown",
   "id": "cad10e11-bc64-413c-9166-0cf67d0ed34b",
   "metadata": {
    "tags": []
   },
   "source": [
    "## Definition order_w"
   ]
  },
  {
   "cell_type": "code",
   "execution_count": null,
   "id": "3e259a6a-a960-4c8c-a277-914dd99d1162",
   "metadata": {},
   "outputs": [],
   "source": [
    "def order_w(w,option='magnitude',direction='up'):\n",
    "    '''\n",
    "    Order Eigenvalues according to \n",
    "    option\n",
    "    'magnitude'         abs(w)\n",
    "    'frequency'         w.imag\n",
    "    'growth'            w.real\n",
    "    'ones'              abs(w) closest to 1.0\n",
    "    \n",
    "    direction\n",
    "    'up'               descending\n",
    "    'down'             ascending\n",
    "    \n",
    "    '''\n",
    "    print(' Ordering Eigenvalues as ', option, ' with direction ',direction)\n",
    "    w_cont = np.log(w)\n",
    "    if option == 'magnitude':\n",
    "        ind=abs(w).argsort()\n",
    "    elif option == 'frequency':\n",
    "        ind=abs(w_cont.imag).argsort()\n",
    "    elif option == 'growth':\n",
    "        ind=np.abs(w_cont.real - 0.0).argsort()\n",
    "    elif option == 'one':\n",
    "        ind=np.abs(np.abs(w) - 1.0).argsort()\n",
    "    else:\n",
    "        print(' Error in oder_w', option, direction)\n",
    "# Choose direction\n",
    "    if direction == 'up':\n",
    "        indu=ind[::-1]\n",
    "    else:\n",
    "        indu=ind\n",
    "\n",
    "    w0=w[indu]\n",
    "    w1=w_cont[indu]\n",
    "    return w0,w1,indu\n"
   ]
  },
  {
   "cell_type": "markdown",
   "id": "3f945469-9a4f-480b-83cc-46d180d5e84a",
   "metadata": {},
   "source": [
    "## Definition function evolve and verify"
   ]
  },
  {
   "cell_type": "code",
   "execution_count": null,
   "id": "d9991af2-d130-4a88-979e-f25462cd7cae",
   "metadata": {},
   "outputs": [],
   "source": [
    "def evolve(tim_level,tstep,init_date):\n",
    "    #tim_level=[0,1,2,3,4,5,6]\n",
    "    #cases =  216,228,240, 36,48,60,  360,372,384\n",
    "    #tstep=3\n",
    "    #nstart=360\n",
    "    x0=PsiX[:,init_date]\n",
    "    ht=np.zeros([x0.shape[0],len(tim_level)],dtype='complex')\n",
    "    for j in tim_level:\n",
    "        D = np.diag(vw_s[:nmode]**(j*tstep))                  # w --> vw_s\n",
    "        ht[:,j]=alpha@D@vcut.T@Gxx[init_date,:] \n",
    "    return ht\n",
    "\n",
    "#verify to EOF expansion  (spatial correlation)\n",
    "def verify(tim_level,tstep,init_date,PCs,ht,verbose=False):\n",
    "    sstcor=np.zeros([len(tim_level)])\n",
    "    sstlab=np.zeros([len(tim_level)],dtype='int')\n",
    "    for neig in range(len(tim_level)):\n",
    "        kaz1=ht[:,neig].real \n",
    "        kaz2=PCs[:,int(init_date+neig*tstep)]\n",
    "        ytmp = np.expand_dims(udat_tot[:,0:nEOF_SST]@kaz1, axis=1)\n",
    "        ztmp = np.expand_dims(udat_tot[:,0:nEOF_SST]@kaz2, axis=1)\n",
    "        #ICcase=lib.year2date(years,nstart)\n",
    "        #ICdat=lib.year2date(years,tstep*neig+nstart)\n",
    "        #label1 = ' at {}, IC at {}'.format(ICdat,ICcase)\n",
    "        val=np.corrcoef(ytmp[:,0],ztmp[:,0])[0,1]\n",
    "        if verbose : print(' Correlation at {}    {}'.format(label1,val))\n",
    "        sstcor[neig]=val\n",
    "        sstlab[neig]=int(tstep*neig+init_date)\n",
    "    return sstcor,sstlab\n",
    "\n",
    "\n",
    "#verify to total data\n",
    "def verify_tot(tim_level,tstep,init_date,X,ht,verbose=False):\n",
    "    sstcor=np.zeros([len(tim_level)])\n",
    "    sstlab=np.zeros([len(tim_level)],dtype='int')\n",
    "    for neig in range(len(tim_level)):\n",
    "        kaz1=ht[:,neig].real \n",
    "        ytmp = np.expand_dims(udat_tot[:,0:nEOF_SST]@kaz1, axis=1)\n",
    "        ztmp = X.A.data[:, int(init_date+neig*tstep)]\n",
    "        #ICcase=lib.year2date(years,nstart)\n",
    "        #ICdat=lib.year2date(years,tstep*neig+nstart)\n",
    "        #label1 = ' at {}, IC at {}'.format(ICdat,ICcase)\n",
    "        val=np.corrcoef(ytmp[:,0],ztmp)[0,1]\n",
    "        if verbose : print(' Correlation at {}    {}'.format(label1,val))\n",
    "        sstcor[neig]=val\n",
    "        sstlab[neig]=int(tstep*neig+init_date)\n",
    "    return sstcor,sstlab"
   ]
  },
  {
   "cell_type": "markdown",
   "id": "3819b7d5-c9c6-46e6-a020-9a444826d498",
   "metadata": {},
   "source": [
    "## Definition dates2years"
   ]
  },
  {
   "cell_type": "code",
   "execution_count": null,
   "id": "3e279dad-3e5c-4c3c-9879-7fee9fd61a15",
   "metadata": {},
   "outputs": [],
   "source": [
    "def date2year(years,init_year,date):\n",
    "    \"\"\"Transform index date ['Jan' '1989' ] in index i.\n",
    "    \n",
    "    Years are from np.arange(1960,2020, 1/12)\n",
    "    \"\"\"\n",
    "    mon=['JAN','FEB','MAR','APR','MAY','JUN','JUL','AUG','SEP','OCT','NOV','DEC']\n",
    "    y=float(date[4:8])\n",
    "    m=mon.index(str(date[0:3]))\n",
    "    index = (y-init_year)*12 + m\n",
    "    return int(index)"
   ]
  },
  {
   "cell_type": "code",
   "execution_count": null,
   "id": "dd5b598b-6748-41de-9e2d-08acda0aff16",
   "metadata": {},
   "outputs": [],
   "source": [
    "def year2date(years,i):\n",
    "    \"\"\" Transform index i in string date yy/mm.\n",
    "    \n",
    "    Rounding requires the small shift\n",
    "    Years are obtained from np.arange(1920,2018, 1/12)\n",
    "    \"\"\"\n",
    "    mon=['JAN','FEB','MAR','APR','MAY','JUN','JUL','AUG','SEP','OCT','NOV','DEC']\n",
    "    y=str(int(years[i]+0.001))\n",
    "    m=np.mod(int(round((years[i]-int(years[i]))*12)),12)\n",
    "    date = mon[m] + ' ' + y\n",
    "    return date"
   ]
  },
  {
   "cell_type": "markdown",
   "id": "0a016492-a4a6-4665-8f2a-238ee235164e",
   "metadata": {},
   "source": [
    "## Definition eigenvalues on points"
   ]
  },
  {
   "cell_type": "code",
   "execution_count": null,
   "id": "9b662ccf-53c7-4a22-8a44-028a2c1aa197",
   "metadata": {},
   "outputs": [],
   "source": [
    "def eigenfunction_value(cc, KK_tot, x, mode ):\n",
    "    '''\n",
    "    Compute eigenfunction value at point x\n",
    "\n",
    "    Parameters\n",
    "    ----------\n",
    "    x: Point at which eigenfunction is computed\n",
    "    mode: Mode number\n",
    "\n",
    "    Returns\n",
    "    -------\n",
    "    eigenfunction value\n",
    "    '''\n",
    "    k = KK_tot.ker\n",
    "    f = 0\n",
    "    for i in range(KK_tot.ntime):\n",
    "        f +=  cc[i,mode]*k(x, KK_tot.PsiX[:, i])       #somma per tutti i tempo: componente del modo (colonna) per kernel(initial condition x, fila PsiX)\n",
    "    return f"
   ]
  },
  {
   "cell_type": "code",
   "execution_count": null,
   "id": "f43799f9-fac1-49c0-a73f-0994707bbd1d",
   "metadata": {},
   "outputs": [],
   "source": [
    "def eigenfunction_value_opt(cc, KK_tot, x, mode):\n",
    "    '''\n",
    "    Compute eigenfunction value at point x\n",
    "\n",
    "    Parameters\n",
    "    ----------\n",
    "    x: Point at which eigenfunction is computed\n",
    "    mode: Mode number\n",
    "\n",
    "    Returns\n",
    "    -------\n",
    "    eigenfunction value\n",
    "    '''\n",
    "    k = KK_tot.ker\n",
    "    ntime = KK_tot.ntime\n",
    "    PsiX = KK_tot.PsiX\n",
    "    mode_cc = cc[:, mode]  # Extract the mode component once\n",
    "\n",
    "    # Precompute k(x, PsiX) to avoid redundant calculations\n",
    "    k_values = np.array([k(x, PsiX[:, i]) for i in range(ntime)])\n",
    "\n",
    "    f = np.dot(mode_cc, k_values)  # Use NumPy dot product for summation\n",
    "    return f"
   ]
  },
  {
   "cell_type": "markdown",
   "id": "9d368da2-fc1e-4831-9ad2-f20c5a736c05",
   "metadata": {},
   "source": [
    "## Definition sigma cost function"
   ]
  },
  {
   "cell_type": "code",
   "execution_count": null,
   "id": "bfb7ef2b-6110-4c0a-bf15-d3f2ebc1249a",
   "metadata": {},
   "outputs": [],
   "source": [
    "from scipy.optimize import minimize_scalar"
   ]
  },
  {
   "cell_type": "code",
   "execution_count": null,
   "id": "5897734e-aaf9-4454-8000-fa2b1fb1be5c",
   "metadata": {},
   "outputs": [],
   "source": [
    "def cost(x):\n",
    "    ss = str(x)\n",
    "    KK_tot.fit(bandwidth=ss)\n",
    "    KMM = sc.pinv(KK_tot.vv)@(KK_tot.PsiX.T)\n",
    "    return sum(lin.norm(KK_tot.vv@KMM-KK_tot.PsiX.T, axis=0))"
   ]
  },
  {
   "cell_type": "markdown",
   "id": "31ec7d7c-3ebe-44d9-b8e0-a15ef0ef4cdf",
   "metadata": {
    "jp-MarkdownHeadingCollapsed": true,
    "tags": []
   },
   "source": [
    "# Load and regrid data"
   ]
  },
  {
   "cell_type": "code",
   "execution_count": 37,
   "id": "e4f4b41d-99c4-4754-a690-901ab86dd42c",
   "metadata": {},
   "outputs": [],
   "source": [
    "#CMIP Jakob\n",
    "ds_tos = xr.open_dataarray(\"CESM_data/regridded_tos.nc\")\n",
    "ds_ssh = xr.open_dataarray(\"CESM_data/regridded_ssh.nc\")"
   ]
  },
  {
   "cell_type": "code",
   "execution_count": 38,
   "id": "241727ed-8a01-4a6b-81ca-3f4668c5da4e",
   "metadata": {},
   "outputs": [
    {
     "data": {
      "text/plain": [
       "<matplotlib.collections.QuadMesh at 0x14f03b731f90>"
      ]
     },
     "execution_count": 38,
     "metadata": {},
     "output_type": "execute_result"
    },
    {
     "data": {
      "image/png": "[encoded data removed]",
      "text/plain": [
       "<Figure size 640x480 with 2 Axes>"
      ]
     },
     "metadata": {},
     "output_type": "display_data"
    }
   ],
   "source": [
    "ds_tos.isel(time=0).plot()"
   ]
  },
  {
   "cell_type": "raw",
   "id": "550f410d-a477-4239-bc5e-8d24cc2f253f",
   "metadata": {},
   "source": [
    "ds_ssh.isel(time=0).plot()"
   ]
  },
  {
   "cell_type": "markdown",
   "id": "ccebe9b6-b5ae-493c-befe-c1716135fe1a",
   "metadata": {},
   "source": [
    "## Subset data"
   ]
  },
  {
   "cell_type": "code",
   "execution_count": 39,
   "id": "4aa7cb82-7cb9-4722-8c1a-7f3abcea6efc",
   "metadata": {},
   "outputs": [],
   "source": [
    "#  Read Variable\n",
    "area='Jakob'\n",
    "if area == 'TROPIC':\n",
    "    # central pacific coordinates\n",
    "    arealat=(35,-35)\n",
    "    arealon=[-180, 180.]\n",
    "elif area == 'GLOBAL':\n",
    "    arealat=(60,-60)\n",
    "    arealon=[-160,110.]\n",
    "elif area == 'WORLD':\n",
    "    arealat=(60,-60)\n",
    "    arealon=[-180,180.]\n",
    "elif area == 'NAVARRA_2021':\n",
    "    arealat=(-15,15)\n",
    "    arealon=[140,290.]\n",
    "elif area == 'Jakob':\n",
    "    arealat=(-31,32)\n",
    "    arealon=[130,290.]\n",
    "else:\n",
    "    Print(f'No area ')\n",
    "    \n",
    "case = 'UNIT'    \n",
    "data_name= 'CESM'\n",
    "variable='SST'\n",
    "lev = 'SURF'\n",
    "shift = 'ERA5'\n",
    "period = 'ANN'\n",
    "normalization = 'anom'\n",
    "\n",
    "# Use SVD encoding\n",
    "encode_svd = True\n",
    "#Choose number of SVD to ratain\n",
    "var_retained = None #None# Variance retained or None for full rank\n",
    "#Option to write files\n",
    "write_files = False"
   ]
  },
  {
   "cell_type": "code",
   "execution_count": 40,
   "id": "e065fdbe-4d7b-4a0d-9b08-b698fee58a81",
   "metadata": {},
   "outputs": [],
   "source": [
    "S_tos = ds_tos.sel(lat=slice(arealat[0],arealat[1]),lon=slice(arealon[0],arealon[1]))\n",
    "S_ssh = ds_ssh.sel(lat=slice(arealat[0],arealat[1]),lon=slice(arealon[0],arealon[1]))"
   ]
  },
  {
   "cell_type": "code",
   "execution_count": 41,
   "id": "706e1aa8-846f-4a0e-a254-3ed431febff0",
   "metadata": {},
   "outputs": [
    {
     "data": {
      "text/plain": [
       "<matplotlib.collections.QuadMesh at 0x14f03ab31590>"
      ]
     },
     "execution_count": 41,
     "metadata": {},
     "output_type": "execute_result"
    },
    {
     "data": {
      "image/png": "[encoded data removed]",
      "text/plain": [
       "<Figure size 640x480 with 2 Axes>"
      ]
     },
     "metadata": {},
     "output_type": "display_data"
    }
   ],
   "source": [
    "S_tos.isel(time=0).plot()"
   ]
  },
  {
   "cell_type": "code",
   "execution_count": 42,
   "id": "99ef3d65-6817-45fb-abf3-0818dfa1a6f1",
   "metadata": {},
   "outputs": [],
   "source": [
    "del(ds_tos, ds_ssh)"
   ]
  },
  {
   "cell_type": "code",
   "execution_count": 43,
   "id": "392a4776-bcff-46b9-9c3d-d682e66431de",
   "metadata": {},
   "outputs": [
    {
     "data": {
      "text/plain": [
       "svmem(total=540408913920, available=479569080320, percent=11.3, used=56646729728, free=480984768512, active=1132163072, inactive=49523548160, buffers=3805184, cached=2773610496, shared=1143083008, slab=1229639680)"
      ]
     },
     "execution_count": 43,
     "metadata": {},
     "output_type": "execute_result"
    }
   ],
   "source": [
    "import psutil\n",
    "psutil.virtual_memory() "
   ]
  },
  {
   "cell_type": "markdown",
   "id": "d1bd008a-8b9c-4535-a18c-b52ec5abf9e9",
   "metadata": {},
   "source": [
    "## Create matrices, de-trending data and anomalies"
   ]
  },
  {
   "cell_type": "code",
   "execution_count": 44,
   "id": "bef88f8d-fc26-4ffc-8fc8-9a2fe3b2190c",
   "metadata": {},
   "outputs": [
    {
     "name": "stdout",
     "output_type": "stream",
     "text": [
      " Created mathematical matrix A, \n",
      "                 stacked along dimensions ('lat', 'lon') \n"
     ]
    }
   ],
   "source": [
    "#Create Xmats\n",
    "X_tos=zcom.Xmat(S_tos,dims=('lat','lon'))\n",
    "X_tos.A = X_tos.A.dropna(dim='z')"
   ]
  },
  {
   "cell_type": "code",
   "execution_count": 45,
   "id": "0d6d56aa-ce85-4534-8c8a-34a68386c802",
   "metadata": {},
   "outputs": [
    {
     "name": "stdout",
     "output_type": "stream",
     "text": [
      " Created mathematical matrix A, \n",
      "                 stacked along dimensions ('lat', 'lon') \n"
     ]
    }
   ],
   "source": [
    "X_ssh=zcom.Xmat(S_ssh,dims=('lat','lon'))\n",
    "X_ssh.A = X_ssh.A.dropna(dim='z')"
   ]
  },
  {
   "cell_type": "code",
   "execution_count": 46,
   "id": "5740919d-2332-4b9c-8051-b11c126f5441",
   "metadata": {},
   "outputs": [],
   "source": [
    "del(S_tos,S_ssh)"
   ]
  },
  {
   "cell_type": "code",
   "execution_count": 47,
   "id": "af3d2d2c-a7bf-42a7-bdfc-7874407349e2",
   "metadata": {},
   "outputs": [
    {
     "name": "stdout",
     "output_type": "stream",
     "text": [
      "Detrending data with options -->  {'axis': 1}\n",
      "Detrending data with options -->  {'axis': 1}\n"
     ]
    }
   ],
   "source": [
    "#Detrending\n",
    "X_tos.detrend(axis=1)\n",
    "X_ssh.detrend(axis=1)"
   ]
  },
  {
   "cell_type": "code",
   "execution_count": 48,
   "id": "d9c66dcb-b811-43e1-b23b-f9788e55e368",
   "metadata": {},
   "outputs": [],
   "source": [
    "#Anomalies\n",
    "X_tos.anom(option='anomstd',freq='month')\n",
    "X_ssh.anom(option='anomstd',freq='month')"
   ]
  },
  {
   "cell_type": "code",
   "execution_count": 49,
   "id": "41ab427e-0dcb-4701-8dec-acabe9a0e556",
   "metadata": {},
   "outputs": [],
   "source": [
    "del(X_ssh)"
   ]
  },
  {
   "cell_type": "markdown",
   "id": "06d9edd4-43f3-487a-895b-b7f57aa8a294",
   "metadata": {
    "jp-MarkdownHeadingCollapsed": true
   },
   "source": [
    "# Evaluation"
   ]
  },
  {
   "cell_type": "markdown",
   "id": "a6964acb-75be-4283-bf3d-bab76206e342",
   "metadata": {},
   "source": [
    "### Tools for the plots"
   ]
  },
  {
   "cell_type": "code",
   "execution_count": 18,
   "id": "84ead5bf-61ba-422b-b872-a89b96706184",
   "metadata": {},
   "outputs": [],
   "source": [
    "import nc_time_axis"
   ]
  },
  {
   "cell_type": "code",
   "execution_count": 19,
   "id": "9c134dc8-a881-4abe-bb53-eca6d363cecd",
   "metadata": {},
   "outputs": [],
   "source": [
    "flabel = {'fontsize':14,'fontweight':'bold'}   #,'fontfamily':'Futura'\n",
    "ftitle = {'fontsize':18,'fontweight':'bold'}   #,'fontfamily':'Futura',"
   ]
  },
  {
   "cell_type": "code",
   "execution_count": 20,
   "id": "e8289440-876c-46b2-ac1d-5406a03c2ace",
   "metadata": {},
   "outputs": [],
   "source": [
    "from pylab import *\n",
    "\n",
    "cmap = cm.get_cmap('plasma', 19)\n",
    "color_list = [matplotlib.colors.rgb2hex(cmap(i)[:3]) for i in range(cmap.N)]"
   ]
  },
  {
   "cell_type": "code",
   "execution_count": 21,
   "id": "a80e0199-111b-4eaf-8a70-42db24c0a63c",
   "metadata": {},
   "outputs": [
    {
     "data": {
      "image/png": "[encoded data removed]",
      "text/html": [
       "<div style=\"vertical-align: middle;\"><strong>plasma</strong> </div><div class=\"cmap\"><img alt=\"plasma colormap\" title=\"plasma\" style=\"border: 1px solid #555;\" src=\"data:image/png;base64,iVBORw0KGgoAAAANSUhEUgAAAgAAAABACAYAAABsv8+/AAAAFXRFWHRUaXRsZQBwbGFzbWEgY29sb3JtYXBGwe5cAAAAG3RFWHREZXNjcmlwdGlvbgBwbGFzbWEgY29sb3JtYXAPVva4AAAAMHRFWHRBdXRob3IATWF0cGxvdGxpYiB2My44LjAsIGh0dHBzOi8vbWF0cGxvdGxpYi5vcmefc/hPAAAAMnRFWHRTb2Z0d2FyZQBNYXRwbG90bGliIHYzLjguMCwgaHR0cHM6Ly9tYXRwbG90bGliLm9yZ7HVZ2gAAAGGSURBVHic7dZdSgJAGIZRS8gKyZ9KvW2zLbi6MMJsFx/Bc84GXmYYhudmvXq/Loa8XZ6mphan6+PY1vGyGts6LJZzW6vL2Nbz9ntsa7/5GtvabD/ntnYfIzvr7dz9TW497Oa27vdzW3evc29w+TJ3ruvhPLb1c/wd2zqf5v7d27ElAODfEAAAECQAACBIAABAkAAAgCABAABBAgAAggQAAAQJAAAIEgAAECQAACBIAABAkAAAgCABAABBAgAAggQAAAQJAAAIEgAAECQAACBIAABAkAAAgCABAABBAgAAggQAAAQJAAAIEgAAECQAACBIAABAkAAAgCABAABBAgAAggQAAAQJAAAIEgAAECQAACBIAABAkAAAgCABAABBAgAAggQAAAQJAAAIEgAAECQAACBIAABAkAAAgCABAABBAgAAggQAAAQJAAAIEgAAECQAACBIAABAkAAAgCABAABBAgAAggQAAAQJAAAIEgAAECQAACBIAABAkAAAgCABAABBAgAAgv4A6HMXh0uD1qIAAAAASUVORK5CYII=\"></div><div style=\"vertical-align: middle; max-width: 514px; display: flex; justify-content: space-between;\"><div style=\"float: left;\"><div title=\"#0d0887ff\" style=\"display: inline-block; width: 1em; height: 1em; margin: 0; vertical-align: middle; border: 1px solid #555; background-color: #0d0887ff;\"></div> under</div><div style=\"margin: 0 auto; display: inline-block;\">bad <div title=\"#00000000\" style=\"display: inline-block; width: 1em; height: 1em; margin: 0; vertical-align: middle; border: 1px solid #555; background-color: #00000000;\"></div></div><div style=\"float: right;\">over <div title=\"#f0f921ff\" style=\"display: inline-block; width: 1em; height: 1em; margin: 0; vertical-align: middle; border: 1px solid #555; background-color: #f0f921ff;\"></div></div>"
      ],
      "text/plain": [
       "<matplotlib.colors.ListedColormap at 0x14f042c0ea50>"
      ]
     },
     "execution_count": 21,
     "metadata": {},
     "output_type": "execute_result"
    }
   ],
   "source": [
    "cmap   # First forecasts purple,    last forecasts yellow"
   ]
  },
  {
   "cell_type": "code",
   "execution_count": null,
   "id": "5a373ab9-c13a-4b23-af72-cfa3dbc4e92b",
   "metadata": {},
   "outputs": [],
   "source": []
  },
  {
   "cell_type": "markdown",
   "id": "5de1003b-bac3-4562-a10d-794ffd4e0252",
   "metadata": {},
   "source": [
    "### Data preparation"
   ]
  },
  {
   "cell_type": "code",
   "execution_count": 33,
   "id": "ed41ff9b-c3df-4a48-9472-d963e9c64c41",
   "metadata": {},
   "outputs": [],
   "source": [
    "## Load EOFs\n",
    "PCs=np.load('Processed_data/PCs_CESM_845SST_1000SSH.npy')\n",
    "EOFs=np.load('Processed_data/EOFs_CESM_845SST_1000SSH.npy')"
   ]
  },
  {
   "cell_type": "code",
   "execution_count": 34,
   "id": "bb2aaf83-326a-40a0-b8a7-b1a07c667c8d",
   "metadata": {},
   "outputs": [],
   "source": [
    "operators=[0,1,2,3,4,5,6,7,8,9,10,11,12,13,14,15,16,17,18,19,20,21,22,23,24,25,26,27,28,29,30,31,32,33,34,35,36,37]\n",
    "for_levels=[0,2,4,6,8,10,12,14,16,18,20,22,24,26,28,30,32,34,36]\n",
    "periods=[0,1,2,3,4,5,6,7,8,9,10,11,12,13,14,15,16,17,18,19]\n",
    "lead_times=[0,1,2,3,4,5,6,7,8,9,10,11,12,13,14,15,16,17,18,19,20,21,22,23]"
   ]
  },
  {
   "cell_type": "markdown",
   "id": "a976d81b-ab1a-4615-a184-5fae24e09f70",
   "metadata": {},
   "source": [
    "## ALL GAUSS"
   ]
  },
  {
   "cell_type": "code",
   "execution_count": 51,
   "id": "004ada75-6cb3-439c-b86c-3acd0a039784",
   "metadata": {},
   "outputs": [],
   "source": [
    "#Select EOFs\n",
    "udat_sst=EOFs[:,0:845]"
   ]
  },
  {
   "cell_type": "code",
   "execution_count": 52,
   "id": "862d4834-e56e-4907-981d-3f2439e260bd",
   "metadata": {},
   "outputs": [],
   "source": [
    "#Vector with all correlations (First ensemble then member)\n",
    "ALLGAUSS_corr_tot=np.zeros((24,20,2))"
   ]
  },
  {
   "cell_type": "code",
   "execution_count": 53,
   "id": "5cda4eb9-36a3-4fa6-acb3-98c3fe955780",
   "metadata": {},
   "outputs": [
    {
     "data": {
      "text/html": [
       "<div><svg style=\"position: absolute; width: 0; height: 0; overflow: hidden\">\n",
       "<defs>\n",
       "<symbol id=\"icon-database\" viewBox=\"0 0 32 32\">\n",
       "<path d=\"M16 0c-8.837 0-16 2.239-16 5v4c0 2.761 7.163 5 16 5s16-2.239 16-5v-4c0-2.761-7.163-5-16-5z\"></path>\n",
       "<path d=\"M16 17c-8.837 0-16-2.239-16-5v6c0 2.761 7.163 5 16 5s16-2.239 16-5v-6c0 2.761-7.163 5-16 5z\"></path>\n",
       "<path d=\"M16 26c-8.837 0-16-2.239-16-5v6c0 2.761 7.163 5 16 5s16-2.239 16-5v-6c0 2.761-7.163 5-16 5z\"></path>\n",
       "</symbol>\n",
       "<symbol id=\"icon-file-text2\" viewBox=\"0 0 32 32\">\n",
       "<path d=\"M28.681 7.159c-0.694-0.947-1.662-2.053-2.724-3.116s-2.169-2.030-3.116-2.724c-1.612-1.182-2.393-1.319-2.841-1.319h-15.5c-1.378 0-2.5 1.121-2.5 2.5v27c0 1.378 1.122 2.5 2.5 2.5h23c1.378 0 2.5-1.122 2.5-2.5v-19.5c0-0.448-0.137-1.23-1.319-2.841zM24.543 5.457c0.959 0.959 1.712 1.825 2.268 2.543h-4.811v-4.811c0.718 0.556 1.584 1.309 2.543 2.268zM28 29.5c0 0.271-0.229 0.5-0.5 0.5h-23c-0.271 0-0.5-0.229-0.5-0.5v-27c0-0.271 0.229-0.5 0.5-0.5 0 0 15.499-0 15.5 0v7c0 0.552 0.448 1 1 1h7v19.5z\"></path>\n",
       "<path d=\"M23 26h-14c-0.552 0-1-0.448-1-1s0.448-1 1-1h14c0.552 0 1 0.448 1 1s-0.448 1-1 1z\"></path>\n",
       "<path d=\"M23 22h-14c-0.552 0-1-0.448-1-1s0.448-1 1-1h14c0.552 0 1 0.448 1 1s-0.448 1-1 1z\"></path>\n",
       "<path d=\"M23 18h-14c-0.552 0-1-0.448-1-1s0.448-1 1-1h14c0.552 0 1 0.448 1 1s-0.448 1-1 1z\"></path>\n",
       "</symbol>\n",
       "</defs>\n",
       "</svg>\n",
       "<style>/* CSS stylesheet for displaying xarray objects in jupyterlab.\n",
       " *\n",
       " */\n",
       "\n",
       ":root {\n",
       "  --xr-font-color0: var(--jp-content-font-color0, rgba(0, 0, 0, 1));\n",
       "  --xr-font-color2: var(--jp-content-font-color2, rgba(0, 0, 0, 0.54));\n",
       "  --xr-font-color3: var(--jp-content-font-color3, rgba(0, 0, 0, 0.38));\n",
       "  --xr-border-color: var(--jp-border-color2, #e0e0e0);\n",
       "  --xr-disabled-color: var(--jp-layout-color3, #bdbdbd);\n",
       "  --xr-background-color: var(--jp-layout-color0, white);\n",
       "  --xr-background-color-row-even: var(--jp-layout-color1, white);\n",
       "  --xr-background-color-row-odd: var(--jp-layout-color2, #eeeeee);\n",
       "}\n",
       "\n",
       "html[theme=dark],\n",
       "body[data-theme=dark],\n",
       "body.vscode-dark {\n",
       "  --xr-font-color0: rgba(255, 255, 255, 1);\n",
       "  --xr-font-color2: rgba(255, 255, 255, 0.54);\n",
       "  --xr-font-color3: rgba(255, 255, 255, 0.38);\n",
       "  --xr-border-color: #1F1F1F;\n",
       "  --xr-disabled-color: #515151;\n",
       "  --xr-background-color: #111111;\n",
       "  --xr-background-color-row-even: #111111;\n",
       "  --xr-background-color-row-odd: #313131;\n",
       "}\n",
       "\n",
       ".xr-wrap {\n",
       "  display: block !important;\n",
       "  min-width: 300px;\n",
       "  max-width: 700px;\n",
       "}\n",
       "\n",
       ".xr-text-repr-fallback {\n",
       "  /* fallback to plain text repr when CSS is not injected (untrusted notebook) */\n",
       "  display: none;\n",
       "}\n",
       "\n",
       ".xr-header {\n",
       "  padding-top: 6px;\n",
       "  padding-bottom: 6px;\n",
       "  margin-bottom: 4px;\n",
       "  border-bottom: solid 1px var(--xr-border-color);\n",
       "}\n",
       "\n",
       ".xr-header > div,\n",
       ".xr-header > ul {\n",
       "  display: inline;\n",
       "  margin-top: 0;\n",
       "  margin-bottom: 0;\n",
       "}\n",
       "\n",
       ".xr-obj-type,\n",
       ".xr-array-name {\n",
       "  margin-left: 2px;\n",
       "  margin-right: 10px;\n",
       "}\n",
       "\n",
       ".xr-obj-type {\n",
       "  color: var(--xr-font-color2);\n",
       "}\n",
       "\n",
       ".xr-sections {\n",
       "  padding-left: 0 !important;\n",
       "  display: grid;\n",
       "  grid-template-columns: 150px auto auto 1fr 20px 20px;\n",
       "}\n",
       "\n",
       ".xr-section-item {\n",
       "  display: contents;\n",
       "}\n",
       "\n",
       ".xr-section-item input {\n",
       "  display: none;\n",
       "}\n",
       "\n",
       ".xr-section-item input + label {\n",
       "  color: var(--xr-disabled-color);\n",
       "}\n",
       "\n",
       ".xr-section-item input:enabled + label {\n",
       "  cursor: pointer;\n",
       "  color: var(--xr-font-color2);\n",
       "}\n",
       "\n",
       ".xr-section-item input:enabled + label:hover {\n",
       "  color: var(--xr-font-color0);\n",
       "}\n",
       "\n",
       ".xr-section-summary {\n",
       "  grid-column: 1;\n",
       "  color: var(--xr-font-color2);\n",
       "  font-weight: 500;\n",
       "}\n",
       "\n",
       ".xr-section-summary > span {\n",
       "  display: inline-block;\n",
       "  padding-left: 0.5em;\n",
       "}\n",
       "\n",
       ".xr-section-summary-in:disabled + label {\n",
       "  color: var(--xr-font-color2);\n",
       "}\n",
       "\n",
       ".xr-section-summary-in + label:before {\n",
       "  display: inline-block;\n",
       "  content: '►';\n",
       "  font-size: 11px;\n",
       "  width: 15px;\n",
       "  text-align: center;\n",
       "}\n",
       "\n",
       ".xr-section-summary-in:disabled + label:before {\n",
       "  color: var(--xr-disabled-color);\n",
       "}\n",
       "\n",
       ".xr-section-summary-in:checked + label:before {\n",
       "  content: '▼';\n",
       "}\n",
       "\n",
       ".xr-section-summary-in:checked + label > span {\n",
       "  display: none;\n",
       "}\n",
       "\n",
       ".xr-section-summary,\n",
       ".xr-section-inline-details {\n",
       "  padding-top: 4px;\n",
       "  padding-bottom: 4px;\n",
       "}\n",
       "\n",
       ".xr-section-inline-details {\n",
       "  grid-column: 2 / -1;\n",
       "}\n",
       "\n",
       ".xr-section-details {\n",
       "  display: none;\n",
       "  grid-column: 1 / -1;\n",
       "  margin-bottom: 5px;\n",
       "}\n",
       "\n",
       ".xr-section-summary-in:checked ~ .xr-section-details {\n",
       "  display: contents;\n",
       "}\n",
       "\n",
       ".xr-array-wrap {\n",
       "  grid-column: 1 / -1;\n",
       "  display: grid;\n",
       "  grid-template-columns: 20px auto;\n",
       "}\n",
       "\n",
       ".xr-array-wrap > label {\n",
       "  grid-column: 1;\n",
       "  vertical-align: top;\n",
       "}\n",
       "\n",
       ".xr-preview {\n",
       "  color: var(--xr-font-color3);\n",
       "}\n",
       "\n",
       ".xr-array-preview,\n",
       ".xr-array-data {\n",
       "  padding: 0 5px !important;\n",
       "  grid-column: 2;\n",
       "}\n",
       "\n",
       ".xr-array-data,\n",
       ".xr-array-in:checked ~ .xr-array-preview {\n",
       "  display: none;\n",
       "}\n",
       "\n",
       ".xr-array-in:checked ~ .xr-array-data,\n",
       ".xr-array-preview {\n",
       "  display: inline-block;\n",
       "}\n",
       "\n",
       ".xr-dim-list {\n",
       "  display: inline-block !important;\n",
       "  list-style: none;\n",
       "  padding: 0 !important;\n",
       "  margin: 0;\n",
       "}\n",
       "\n",
       ".xr-dim-list li {\n",
       "  display: inline-block;\n",
       "  padding: 0;\n",
       "  margin: 0;\n",
       "}\n",
       "\n",
       ".xr-dim-list:before {\n",
       "  content: '(';\n",
       "}\n",
       "\n",
       ".xr-dim-list:after {\n",
       "  content: ')';\n",
       "}\n",
       "\n",
       ".xr-dim-list li:not(:last-child):after {\n",
       "  content: ',';\n",
       "  padding-right: 5px;\n",
       "}\n",
       "\n",
       ".xr-has-index {\n",
       "  font-weight: bold;\n",
       "}\n",
       "\n",
       ".xr-var-list,\n",
       ".xr-var-item {\n",
       "  display: contents;\n",
       "}\n",
       "\n",
       ".xr-var-item > div,\n",
       ".xr-var-item label,\n",
       ".xr-var-item > .xr-var-name span {\n",
       "  background-color: var(--xr-background-color-row-even);\n",
       "  margin-bottom: 0;\n",
       "}\n",
       "\n",
       ".xr-var-item > .xr-var-name:hover span {\n",
       "  padding-right: 5px;\n",
       "}\n",
       "\n",
       ".xr-var-list > li:nth-child(odd) > div,\n",
       ".xr-var-list > li:nth-child(odd) > label,\n",
       ".xr-var-list > li:nth-child(odd) > .xr-var-name span {\n",
       "  background-color: var(--xr-background-color-row-odd);\n",
       "}\n",
       "\n",
       ".xr-var-name {\n",
       "  grid-column: 1;\n",
       "}\n",
       "\n",
       ".xr-var-dims {\n",
       "  grid-column: 2;\n",
       "}\n",
       "\n",
       ".xr-var-dtype {\n",
       "  grid-column: 3;\n",
       "  text-align: right;\n",
       "  color: var(--xr-font-color2);\n",
       "}\n",
       "\n",
       ".xr-var-preview {\n",
       "  grid-column: 4;\n",
       "}\n",
       "\n",
       ".xr-index-preview {\n",
       "  grid-column: 2 / 5;\n",
       "  color: var(--xr-font-color2);\n",
       "}\n",
       "\n",
       ".xr-var-name,\n",
       ".xr-var-dims,\n",
       ".xr-var-dtype,\n",
       ".xr-preview,\n",
       ".xr-attrs dt {\n",
       "  white-space: nowrap;\n",
       "  overflow: hidden;\n",
       "  text-overflow: ellipsis;\n",
       "  padding-right: 10px;\n",
       "}\n",
       "\n",
       ".xr-var-name:hover,\n",
       ".xr-var-dims:hover,\n",
       ".xr-var-dtype:hover,\n",
       ".xr-attrs dt:hover {\n",
       "  overflow: visible;\n",
       "  width: auto;\n",
       "  z-index: 1;\n",
       "}\n",
       "\n",
       ".xr-var-attrs,\n",
       ".xr-var-data,\n",
       ".xr-index-data {\n",
       "  display: none;\n",
       "  background-color: var(--xr-background-color) !important;\n",
       "  padding-bottom: 5px !important;\n",
       "}\n",
       "\n",
       ".xr-var-attrs-in:checked ~ .xr-var-attrs,\n",
       ".xr-var-data-in:checked ~ .xr-var-data,\n",
       ".xr-index-data-in:checked ~ .xr-index-data {\n",
       "  display: block;\n",
       "}\n",
       "\n",
       ".xr-var-data > table {\n",
       "  float: right;\n",
       "}\n",
       "\n",
       ".xr-var-name span,\n",
       ".xr-var-data,\n",
       ".xr-index-name div,\n",
       ".xr-index-data,\n",
       ".xr-attrs {\n",
       "  padding-left: 25px !important;\n",
       "}\n",
       "\n",
       ".xr-attrs,\n",
       ".xr-var-attrs,\n",
       ".xr-var-data,\n",
       ".xr-index-data {\n",
       "  grid-column: 1 / -1;\n",
       "}\n",
       "\n",
       "dl.xr-attrs {\n",
       "  padding: 0;\n",
       "  margin: 0;\n",
       "  display: grid;\n",
       "  grid-template-columns: 125px auto;\n",
       "}\n",
       "\n",
       ".xr-attrs dt,\n",
       ".xr-attrs dd {\n",
       "  padding: 0;\n",
       "  margin: 0;\n",
       "  float: left;\n",
       "  padding-right: 10px;\n",
       "  width: auto;\n",
       "}\n",
       "\n",
       ".xr-attrs dt {\n",
       "  font-weight: normal;\n",
       "  grid-column: 1;\n",
       "}\n",
       "\n",
       ".xr-attrs dt:hover span {\n",
       "  display: inline-block;\n",
       "  background: var(--xr-background-color);\n",
       "  padding-right: 10px;\n",
       "}\n",
       "\n",
       ".xr-attrs dd {\n",
       "  grid-column: 2;\n",
       "  white-space: pre-wrap;\n",
       "  word-break: break-all;\n",
       "}\n",
       "\n",
       ".xr-icon-database,\n",
       ".xr-icon-file-text2,\n",
       ".xr-no-icon {\n",
       "  display: inline-block;\n",
       "  vertical-align: middle;\n",
       "  width: 1em;\n",
       "  height: 1.5em !important;\n",
       "  stroke-width: 0;\n",
       "  stroke: currentColor;\n",
       "  fill: currentColor;\n",
       "}\n",
       "</style><pre class='xr-text-repr-fallback'>&lt;xarray.DataArray (time: 24000)&gt;\n",
       "array([-0.07060546,  0.05650981,  0.28544343, ..., -0.9016017 ,\n",
       "       -0.9271781 , -0.89309406], dtype=float32)\n",
       "Coordinates:\n",
       "  * time     (time) object 0001-02-01 00:00:00 ... 2001-01-01 00:00:00\n",
       "    z_t      float32 500.0\n",
       "    month    (time) int64 2 3 4 5 6 7 8 9 10 11 12 ... 3 4 5 6 7 8 9 10 11 12 1</pre><div class='xr-wrap' style='display:none'><div class='xr-header'><div class='xr-obj-type'>xarray.DataArray</div><div class='xr-array-name'></div><ul class='xr-dim-list'><li><span class='xr-has-index'>time</span>: 24000</li></ul></div><ul class='xr-sections'><li class='xr-section-item'><div class='xr-array-wrap'><input id='section-a4024f06-f9f7-48a0-a41f-03e96214dda4' class='xr-array-in' type='checkbox' checked><label for='section-a4024f06-f9f7-48a0-a41f-03e96214dda4' title='Show/hide data repr'><svg class='icon xr-icon-database'><use xlink:href='#icon-database'></use></svg></label><div class='xr-array-preview xr-preview'><span>-0.07061 0.05651 0.2854 0.3252 0.6967 ... -1.1 -0.9016 -0.9272 -0.8931</span></div><div class='xr-array-data'><pre>array([-0.07060546,  0.05650981,  0.28544343, ..., -0.9016017 ,\n",
       "       -0.9271781 , -0.89309406], dtype=float32)</pre></div></div></li><li class='xr-section-item'><input id='section-2045a513-2290-4550-9e7f-a09b24ea82e0' class='xr-section-summary-in' type='checkbox'  checked><label for='section-2045a513-2290-4550-9e7f-a09b24ea82e0' class='xr-section-summary' >Coordinates: <span>(3)</span></label><div class='xr-section-inline-details'></div><div class='xr-section-details'><ul class='xr-var-list'><li class='xr-var-item'><div class='xr-var-name'><span class='xr-has-index'>time</span></div><div class='xr-var-dims'>(time)</div><div class='xr-var-dtype'>object</div><div class='xr-var-preview xr-preview'>0001-02-01 00:00:00 ... 2001-01-...</div><input id='attrs-0cec2323-ab6d-45fd-a965-bd8c00ba15bb' class='xr-var-attrs-in' type='checkbox' disabled><label for='attrs-0cec2323-ab6d-45fd-a965-bd8c00ba15bb' title='Show/Hide attributes'><svg class='icon xr-icon-file-text2'><use xlink:href='#icon-file-text2'></use></svg></label><input id='data-2061f65d-1b40-4a1c-8b26-b9d7c8f0e9bb' class='xr-var-data-in' type='checkbox'><label for='data-2061f65d-1b40-4a1c-8b26-b9d7c8f0e9bb' title='Show/Hide data repr'><svg class='icon xr-icon-database'><use xlink:href='#icon-database'></use></svg></label><div class='xr-var-attrs'><dl class='xr-attrs'></dl></div><div class='xr-var-data'><pre>array([cftime.DatetimeNoLeap(1, 2, 1, 0, 0, 0, 0, has_year_zero=True),\n",
       "       cftime.DatetimeNoLeap(1, 3, 1, 0, 0, 0, 0, has_year_zero=True),\n",
       "       cftime.DatetimeNoLeap(1, 4, 1, 0, 0, 0, 0, has_year_zero=True), ...,\n",
       "       cftime.DatetimeNoLeap(2000, 11, 1, 0, 0, 0, 0, has_year_zero=True),\n",
       "       cftime.DatetimeNoLeap(2000, 12, 1, 0, 0, 0, 0, has_year_zero=True),\n",
       "       cftime.DatetimeNoLeap(2001, 1, 1, 0, 0, 0, 0, has_year_zero=True)],\n",
       "      dtype=object)</pre></div></li><li class='xr-var-item'><div class='xr-var-name'><span>z_t</span></div><div class='xr-var-dims'>()</div><div class='xr-var-dtype'>float32</div><div class='xr-var-preview xr-preview'>500.0</div><input id='attrs-4886554c-5c86-4979-af82-6df199e9bf60' class='xr-var-attrs-in' type='checkbox' disabled><label for='attrs-4886554c-5c86-4979-af82-6df199e9bf60' title='Show/Hide attributes'><svg class='icon xr-icon-file-text2'><use xlink:href='#icon-file-text2'></use></svg></label><input id='data-513cd17d-6335-41bc-8f4b-ab3a54ee0f7e' class='xr-var-data-in' type='checkbox'><label for='data-513cd17d-6335-41bc-8f4b-ab3a54ee0f7e' title='Show/Hide data repr'><svg class='icon xr-icon-database'><use xlink:href='#icon-database'></use></svg></label><div class='xr-var-attrs'><dl class='xr-attrs'></dl></div><div class='xr-var-data'><pre>array(500., dtype=float32)</pre></div></li><li class='xr-var-item'><div class='xr-var-name'><span>month</span></div><div class='xr-var-dims'>(time)</div><div class='xr-var-dtype'>int64</div><div class='xr-var-preview xr-preview'>2 3 4 5 6 7 8 ... 7 8 9 10 11 12 1</div><input id='attrs-6d250441-923b-44ed-88da-feb9ede52e38' class='xr-var-attrs-in' type='checkbox' disabled><label for='attrs-6d250441-923b-44ed-88da-feb9ede52e38' title='Show/Hide attributes'><svg class='icon xr-icon-file-text2'><use xlink:href='#icon-file-text2'></use></svg></label><input id='data-dab431d9-2190-4c2f-94a4-bb40ae24c723' class='xr-var-data-in' type='checkbox'><label for='data-dab431d9-2190-4c2f-94a4-bb40ae24c723' title='Show/Hide data repr'><svg class='icon xr-icon-database'><use xlink:href='#icon-database'></use></svg></label><div class='xr-var-attrs'><dl class='xr-attrs'></dl></div><div class='xr-var-data'><pre>array([ 2,  3,  4, ..., 11, 12,  1])</pre></div></li></ul></div></li><li class='xr-section-item'><input id='section-375324f4-b46a-49cf-a8b0-814062edcc36' class='xr-section-summary-in' type='checkbox'  ><label for='section-375324f4-b46a-49cf-a8b0-814062edcc36' class='xr-section-summary' >Indexes: <span>(1)</span></label><div class='xr-section-inline-details'></div><div class='xr-section-details'><ul class='xr-var-list'><li class='xr-var-item'><div class='xr-index-name'><div>time</div></div><div class='xr-index-preview'>PandasIndex</div><div></div><input id='index-96dc10d1-cdc0-4ff1-8db7-6871ca2478d8' class='xr-index-data-in' type='checkbox'/><label for='index-96dc10d1-cdc0-4ff1-8db7-6871ca2478d8' title='Show/Hide index repr'><svg class='icon xr-icon-database'><use xlink:href='#icon-database'></use></svg></label><div class='xr-index-data'><pre>PandasIndex(CFTimeIndex([0001-02-01 00:00:00, 0001-03-01 00:00:00, 0001-04-01 00:00:00,\n",
       "             0001-05-01 00:00:00, 0001-06-01 00:00:00, 0001-07-01 00:00:00,\n",
       "             0001-08-01 00:00:00, 0001-09-01 00:00:00, 0001-10-01 00:00:00,\n",
       "             0001-11-01 00:00:00,\n",
       "             ...\n",
       "             2000-04-01 00:00:00, 2000-05-01 00:00:00, 2000-06-01 00:00:00,\n",
       "             2000-07-01 00:00:00, 2000-08-01 00:00:00, 2000-09-01 00:00:00,\n",
       "             2000-10-01 00:00:00, 2000-11-01 00:00:00, 2000-12-01 00:00:00,\n",
       "             2001-01-01 00:00:00],\n",
       "            dtype=&#x27;object&#x27;, length=24000, calendar=&#x27;noleap&#x27;, freq=&#x27;MS&#x27;))</pre></div></li></ul></div></li><li class='xr-section-item'><input id='section-e20ebb9f-34d0-41f9-b0cf-1cfa4b959833' class='xr-section-summary-in' type='checkbox' disabled ><label for='section-e20ebb9f-34d0-41f9-b0cf-1cfa4b959833' class='xr-section-summary'  title='Expand/collapse section'>Attributes: <span>(0)</span></label><div class='xr-section-inline-details'></div><div class='xr-section-details'><dl class='xr-attrs'></dl></div></li></ul></div></div>"
      ],
      "text/plain": [
       "<xarray.DataArray (time: 24000)>\n",
       "array([-0.07060546,  0.05650981,  0.28544343, ..., -0.9016017 ,\n",
       "       -0.9271781 , -0.89309406], dtype=float32)\n",
       "Coordinates:\n",
       "  * time     (time) object 0001-02-01 00:00:00 ... 2001-01-01 00:00:00\n",
       "    z_t      float32 500.0\n",
       "    month    (time) int64 2 3 4 5 6 7 8 9 10 11 12 ... 3 4 5 6 7 8 9 10 11 12 1"
      ]
     },
     "execution_count": 53,
     "metadata": {},
     "output_type": "execute_result"
    }
   ],
   "source": [
    "## Compute observations NON truncated to PCs\n",
    "Xindex=X_tos.A.unstack().sel(lat=slice(-5,5),lon=slice(170,220)).mean(dim=('lat','lon'))#[:-1]\n",
    "Xindex"
   ]
  },
  {
   "cell_type": "markdown",
   "id": "3ea71ed2-acb5-4748-9c98-63935c6ee478",
   "metadata": {},
   "source": [
    "### Load data"
   ]
  },
  {
   "cell_type": "code",
   "execution_count": 24,
   "id": "da82bec7-cf1c-4b64-a72c-91cdc9c15d4d",
   "metadata": {},
   "outputs": [],
   "source": [
    "tot_for_union=np.empty((38, 1845, 24, 24000))\n",
    "tot_for_union.fill(np.NaN)"
   ]
  },
  {
   "cell_type": "code",
   "execution_count": null,
   "id": "7d4853cd-8d3b-4ca8-9a7e-dcafe778374e",
   "metadata": {},
   "outputs": [],
   "source": [
    "for m in lead_times:\n",
    "    for n in periods:\n",
    "        tot_for_union[:,:,m, m + n*1200 : m + n*1200 +1176]=np.load(f'Forecasts 50/ALLEOFs_forecast_p{n}.npy')[:,:,m,:]"
   ]
  },
  {
   "cell_type": "code",
   "execution_count": 37,
   "id": "0a1e7396-9771-4997-833c-53715e38e1cc",
   "metadata": {},
   "outputs": [
    {
     "data": {
      "text/plain": [
       "svmem(total=540408950784, available=482848137216, percent=10.7, used=53588008960, free=484219977728, active=1036668928, inactive=46451687424, buffers=3805184, cached=2597158912, shared=925274112, slab=1181593600)"
      ]
     },
     "execution_count": 37,
     "metadata": {},
     "output_type": "execute_result"
    }
   ],
   "source": [
    "import psutil\n",
    "psutil.virtual_memory()"
   ]
  },
  {
   "cell_type": "code",
   "execution_count": null,
   "id": "5a9bf939-de5f-4764-96b4-e2554c8be582",
   "metadata": {},
   "outputs": [],
   "source": []
  },
  {
   "cell_type": "code",
   "execution_count": null,
   "id": "84803e3d-c86a-45a0-9e3a-77d8499e12e0",
   "metadata": {},
   "outputs": [],
   "source": []
  },
  {
   "cell_type": "code",
   "execution_count": 25,
   "id": "f292e668-a812-4965-be50-84b95fa7b771",
   "metadata": {},
   "outputs": [],
   "source": [
    "lead_times=[5,10,15]"
   ]
  },
  {
   "cell_type": "code",
   "execution_count": 28,
   "id": "5ef38106-e149-49e6-a3d3-8e0c61f988c4",
   "metadata": {},
   "outputs": [],
   "source": [
    "tot_for_union=np.empty((38, 1845, 24, 24000))\n",
    "tot_for_union.fill(np.NaN)"
   ]
  },
  {
   "cell_type": "code",
   "execution_count": 26,
   "id": "1e21ccfe-bf17-4baf-a1a0-0f464019bd03",
   "metadata": {},
   "outputs": [],
   "source": [
    "for m in lead_times:\n",
    "    for n in periods:\n",
    "        tot_for_union[:,:,m, m + n*1200 : m + n*1200 +1176]=np.load(f'Forecasts 50/ALLEOFs_forecast_p{n}.npy')[:,:,m,:]"
   ]
  },
  {
   "cell_type": "code",
   "execution_count": null,
   "id": "c650817e-960e-4460-a22c-eaaf07941591",
   "metadata": {},
   "outputs": [],
   "source": []
  },
  {
   "cell_type": "markdown",
   "id": "4f7b44e4-672c-4aca-844b-55f36aa9a3d0",
   "metadata": {},
   "source": [
    "### Correlations"
   ]
  },
  {
   "cell_type": "code",
   "execution_count": 27,
   "id": "d8089c3d-e5ba-4216-904f-5908ad53708e",
   "metadata": {},
   "outputs": [],
   "source": [
    "mean_av=np.zeros(24)\n",
    "diff_gaussALL_lead=np.zeros((19,10))"
   ]
  },
  {
   "cell_type": "code",
   "execution_count": 28,
   "id": "efa9dc4e-c5fd-4ae7-8352-868cda54d7e1",
   "metadata": {},
   "outputs": [],
   "source": [
    "import random"
   ]
  },
  {
   "cell_type": "code",
   "execution_count": 29,
   "id": "b90352da-2f72-46af-a161-e076b67a99a2",
   "metadata": {},
   "outputs": [],
   "source": [
    "tot_for_union_sel=tot_for_union[:,:,(5,10,15),:]"
   ]
  },
  {
   "cell_type": "code",
   "execution_count": 30,
   "id": "086ee123-862a-457f-8ac8-65313f75906b",
   "metadata": {},
   "outputs": [
    {
     "data": {
      "text/plain": [
       "(38, 1845, 3, 24000)"
      ]
     },
     "execution_count": 30,
     "metadata": {},
     "output_type": "execute_result"
    }
   ],
   "source": [
    "tot_for_union_sel.shape"
   ]
  },
  {
   "cell_type": "code",
   "execution_count": 31,
   "id": "5b33b77e-822a-4147-bf30-5d02a635e221",
   "metadata": {},
   "outputs": [],
   "source": [
    "del(tot_for_union)"
   ]
  },
  {
   "cell_type": "code",
   "execution_count": 54,
   "id": "03a79b08-0e6c-4c0b-824c-8215e7f41ae4",
   "metadata": {},
   "outputs": [
    {
     "name": "stdout",
     "output_type": "stream",
     "text": [
      "0   1     0.0\n",
      "0   3     0.07444049323570312\n",
      "0   5     0.09949118221447723\n",
      "0   7     0.1027806387452121\n",
      "0   9     0.1079651033556085\n",
      "0   11     0.10732745309301234\n",
      "0   13     0.11652049036813195\n",
      "0   15     0.10981858224082636\n",
      "0   17     0.1278582832512708\n",
      "0   19     0.11967671680433034\n",
      "0   21     0.12434608366302186\n",
      "0   23     0.12481428000127232\n",
      "0   25     0.1283707962593345\n",
      "0   27     0.13348737658831172\n",
      "0   29     0.11881393670456103\n",
      "0   31     0.12481066276831632\n",
      "0   33     0.13066244076987504\n",
      "0   35     0.129247324242468\n",
      "0   37     0.12861124150719827\n",
      "1   1     0.0\n",
      "1   3     0.07778598263545605\n",
      "1   5     0.09720255173507625\n",
      "1   7     0.10649187090798162\n",
      "1   9     0.1430426825966568\n",
      "1   11     0.12323792934166378\n",
      "1   13     0.09695581022178179\n",
      "1   15     0.129514369788243\n",
      "1   17     0.1259310760092786\n",
      "1   19     0.12838715128210387\n",
      "1   21     0.1288494767151665\n",
      "1   23     0.13002913456466225\n",
      "1   25     0.11613084495096865\n",
      "1   27     0.13128603345229306\n",
      "1   29     0.12310527134120774\n",
      "1   31     0.12931909847520218\n",
      "1   33     0.12313570290656767\n",
      "1   35     0.12344679524041086\n",
      "1   37     0.1293868451040524\n",
      "2   1     0.0\n",
      "2   3     0.08038718978671039\n",
      "2   5     0.11807306541174967\n",
      "2   7     0.09293579276052949\n",
      "2   9     0.09878176311417841\n",
      "2   11     0.12043872309335768\n",
      "2   13     0.10638237628654945\n",
      "2   15     0.12746282992637703\n",
      "2   17     0.11636713695968809\n",
      "2   19     0.12586335399203358\n",
      "2   21     0.1289642895174526\n",
      "2   23     0.11106067861592611\n",
      "2   25     0.12443695155546397\n",
      "2   27     0.1307887142705747\n",
      "2   29     0.11965653569780943\n",
      "2   31     0.13185791969891858\n",
      "2   33     0.1271243648721878\n",
      "2   35     0.13035367399419473\n",
      "2   37     0.12947886848494583\n",
      "3   1     0.0\n",
      "3   3     0.06264649040659653\n",
      "3   5     0.1329101541204108\n",
      "3   7     0.11665072067320792\n",
      "3   9     0.11867452886355867\n",
      "3   11     0.11758680739402477\n",
      "3   13     0.13789874360946025\n",
      "3   15     0.12525523803143923\n",
      "3   17     0.1260922797083019\n",
      "3   19     0.12421617372440003\n",
      "3   21     0.1247332109035107\n",
      "3   23     0.12107762739903088\n",
      "3   25     0.12788220681307677\n",
      "3   27     0.12351917147114361\n",
      "3   29     0.12392835017655424\n",
      "3   31     0.12356217161247862\n",
      "3   33     0.12658827847759152\n",
      "3   35     0.12486024637949111\n",
      "3   37     0.12788272765459446\n",
      "4   1     0.0\n",
      "4   3     0.07713587647061332\n",
      "4   5     0.08509640919393835\n",
      "4   7     0.12163444326641942\n",
      "4   9     0.10443734566656948\n",
      "4   11     0.11459474984008222\n",
      "4   13     0.13207782361990678\n",
      "4   15     0.11761165399753076\n",
      "4   17     0.11636198756636712\n",
      "4   19     0.12530739055379425\n",
      "4   21     0.12481195474658197\n",
      "4   23     0.12816745817945013\n",
      "4   25     0.1259818629642797\n",
      "4   27     0.1282934358764255\n",
      "4   29     0.12435005083369699\n",
      "4   31     0.13108003787012962\n",
      "4   33     0.1309846977581191\n",
      "4   35     0.12375752380720817\n",
      "4   37     0.12433601840222974\n",
      "5   1     0.0\n",
      "5   3     0.10003503170514477\n",
      "5   5     0.11239615514170487\n",
      "5   7     0.08474585055597872\n",
      "5   9     0.10446603643156271\n",
      "5   11     0.12712708877209283\n",
      "5   13     0.11891919045202054\n",
      "5   15     0.11791698065848649\n",
      "5   17     0.11538441620745327\n",
      "5   19     0.11745444413234285\n",
      "5   21     0.12944799991440797\n",
      "5   23     0.12490511931079745\n",
      "5   25     0.12493864678212213\n",
      "5   27     0.12561382546466032\n",
      "5   29     0.12526713166711445\n",
      "5   31     0.12744685998947952\n",
      "5   33     0.127452176160042\n",
      "5   35     0.1278984342918153\n",
      "5   37     0.1285088659148002\n",
      "6   1     0.0\n",
      "6   3     0.09118906966751578\n",
      "6   5     0.10080972298755642\n",
      "6   7     0.09767234630385546\n",
      "6   9     0.10799669753922975\n",
      "6   11     0.12776653581134156\n",
      "6   13     0.13187547814926076\n",
      "6   15     0.11210258137380419\n",
      "6   17     0.1265698682690053\n",
      "6   19     0.12096171131911898\n",
      "6   21     0.12040537268756074\n",
      "6   23     0.11968968525244866\n",
      "6   25     0.1307687434623691\n",
      "6   27     0.1282236005492336\n",
      "6   29     0.12256063673553058\n",
      "6   31     0.12191717699858201\n",
      "6   33     0.12576593678571413\n",
      "6   35     0.12492396510511555\n",
      "6   37     0.1282006303507056\n",
      "7   1     0.0\n",
      "7   3     0.08157631707455415\n",
      "7   5     0.1235435197901501\n",
      "7   7     0.11051745833936716\n",
      "7   9     0.11521070685757717\n",
      "7   11     0.10670297509966015\n",
      "7   13     0.11286775432854479\n",
      "7   15     0.1145574978849147\n",
      "7   17     0.11309732809067014\n",
      "7   19     0.11641016850501601\n",
      "7   21     0.12920362726666518\n",
      "7   23     0.11888299418457715\n",
      "7   25     0.12895234886723306\n",
      "7   27     0.12608364111246467\n",
      "7   29     0.1263293899005371\n",
      "7   31     0.12851119102633246\n",
      "7   33     0.12805968570397586\n",
      "7   35     0.1265679226609842\n",
      "7   37     0.1292648892615823\n",
      "8   1     0.0\n",
      "8   3     0.06936074109745055\n",
      "8   5     0.09812685876171395\n",
      "8   7     0.09430411765205787\n",
      "8   9     0.11491282599292785\n",
      "8   11     0.10239199774959118\n",
      "8   13     0.11106944502760768\n",
      "8   15     0.13160819747850577\n",
      "8   17     0.13243915995886407\n",
      "8   19     0.1351488384389125\n",
      "8   21     0.12637715681923828\n",
      "8   23     0.12110212092434502\n",
      "8   25     0.12199832634901564\n",
      "8   27     0.13114534835305508\n",
      "8   29     0.12495748762522396\n",
      "8   31     0.12621942859054902\n",
      "8   33     0.12712024154325546\n",
      "8   35     0.12793529676862292\n",
      "8   37     0.12636091393679344\n",
      "9   1     0.0\n",
      "9   3     0.06333753404480508\n",
      "9   5     0.09399631396204366\n",
      "9   7     0.10783487474494002\n",
      "9   9     0.11998959992231029\n",
      "9   11     0.11097234631417457\n",
      "9   13     0.1308312336783407\n",
      "9   15     0.10664309568000635\n",
      "9   17     0.12506032407941636\n",
      "9   19     0.1367334776406729\n",
      "9   21     0.12266137618623468\n",
      "9   23     0.12957872497577488\n",
      "9   25     0.11869985175447995\n",
      "9   27     0.12320601304416506\n",
      "9   29     0.13536770946483856\n",
      "9   31     0.12620428734368078\n",
      "9   33     0.12282609719997711\n",
      "9   35     0.12884785497999207\n",
      "9   37     0.12783965414233167\n"
     ]
    }
   ],
   "source": [
    "#lead=0   #5\n",
    "#lead=1   #10\n",
    "lead=2   #15\n",
    "\n",
    "for m in range(10):\n",
    "\n",
    "    for i in for_levels:\n",
    "        \n",
    "        num=i+1\n",
    "\n",
    "        mean_av=np.zeros(24)\n",
    "        mean_ind=np.zeros((24,num))\n",
    "        \n",
    "        chosen=random.sample(operators, k=num)\n",
    "        \n",
    "        ## Compute average forecast\n",
    "        av_for=np.mean(tot_for_union_sel[chosen, :,:,:], axis=0)\n",
    "        av_for_geo_array=udat_sst @ av_for[0:845,lead,:]            \n",
    "        av_for_geo = xr.full_like(X_tos.A[:,:],0)\n",
    "        av_for_geo.data=av_for_geo_array.real\n",
    "        Avindex=av_for_geo.unstack().sel(lat=slice(-5,5),lon=slice(170,220)).mean(dim=('lat','lon'))\n",
    "        \n",
    "        #Correlation average forecast and observations\n",
    "        mean_av[lead]=np.corrcoef(Xindex[np.invert(np.isnan(Avindex))],Avindex[np.invert(np.isnan(Avindex))])[0,1]\n",
    "        #RMSE_mean_av[lead]=1-np.sqrt(np.square(np.subtract(Xindex[np.invert(np.isnan(Avindex))],Avindex[np.invert(np.isnan(Avindex))])).mean()) / np.std(Xindex[np.invert(np.isnan(Avindex))])\n",
    "        #print(mean_av[lead])\n",
    "        \n",
    "        #Average correlation between individual forecast and observations\n",
    "        for j in range(num):  \n",
    "            phix_geo_array=udat_sst @ tot_for_union_sel[chosen[j],0:845,lead,:]  \n",
    "            phix_geo = xr.full_like(X_tos.A[:,:],0)\n",
    "            phix_geo.data=phix_geo_array.real\n",
    "            Phiindex=phix_geo.unstack().sel(lat=slice(-5,5),lon=slice(170,220)).mean(dim=('lat','lon'))\n",
    "        \n",
    "            mean_ind[lead,j]=np.corrcoef(Xindex[np.invert(np.isnan(Phiindex))],Phiindex[np.invert(np.isnan(Phiindex))])[0,1]\n",
    "            #RMSE_mean_ind[lead,i]= 1-np.sqrt(np.square(np.subtract(Xindex[np.invert(np.isnan(Phiindex))],Phiindex[np.invert(np.isnan(Phiindex))])).mean()) / np.std(Xindex[np.invert(np.isnan(Phiindex))])\n",
    "            \n",
    "        av_corr=np.mean(mean_ind, axis=1)[lead]\n",
    "        save=int(i/2)\n",
    "        diff_gaussALL_lead[save,m]=mean_av[lead]-av_corr\n",
    "        print(m, \" \", num, \"   \", mean_av[lead]-av_corr)"
   ]
  },
  {
   "cell_type": "code",
   "execution_count": null,
   "id": "6b5426b3-1447-401a-921e-b4a4f7914847",
   "metadata": {},
   "outputs": [],
   "source": []
  },
  {
   "cell_type": "code",
   "execution_count": 41,
   "id": "8d848781-43e3-49c5-a48a-e57eb5f74a2f",
   "metadata": {},
   "outputs": [],
   "source": [
    "np.save('Forecasts 50/Skill metrics/diff_gaussALL_lead5.npy', diff_gaussALL_lead, allow_pickle=True, fix_imports=True)"
   ]
  },
  {
   "cell_type": "code",
   "execution_count": 43,
   "id": "76927ae8-a9a5-493d-b974-4d493a22a509",
   "metadata": {},
   "outputs": [],
   "source": [
    "np.save('Forecasts 50/Skill metrics/diff_gaussALL_lead10.npy', diff_gaussALL_lead, allow_pickle=True, fix_imports=True)"
   ]
  },
  {
   "cell_type": "code",
   "execution_count": 55,
   "id": "d9264f13-cecf-4f5c-8f3d-3ebd0e4904fa",
   "metadata": {},
   "outputs": [],
   "source": [
    "np.save('Forecasts 50/Skill metrics/diff_gaussALL_lead15.npy', diff_gaussALL_lead, allow_pickle=True, fix_imports=True)"
   ]
  },
  {
   "cell_type": "markdown",
   "id": "5f89f326-0855-4547-9383-80689d5c2d58",
   "metadata": {
    "jp-MarkdownHeadingCollapsed": true
   },
   "source": [
    "## 30 GAUSS"
   ]
  },
  {
   "cell_type": "code",
   "execution_count": null,
   "id": "969ea5d8-df75-4a19-a4b3-426bcd14abc1",
   "metadata": {},
   "outputs": [],
   "source": [
    "#Select EOFs\n",
    "udat_sst=EOFs[:,0:20]"
   ]
  },
  {
   "cell_type": "code",
   "execution_count": null,
   "id": "770cd646-be50-4ed3-ad91-a08b307a2597",
   "metadata": {},
   "outputs": [],
   "source": [
    "#Vector with all correlations (First ensemble then member)\n",
    "GAUSS_corr_tot=np.zeros((24,20,2))"
   ]
  },
  {
   "cell_type": "code",
   "execution_count": null,
   "id": "a1dd7f35-d355-4e50-a2e4-287085ac59bc",
   "metadata": {},
   "outputs": [],
   "source": [
    "## Compute observations NON truncated to PCs\n",
    "Xindex=X_tos.A.unstack().sel(lat=slice(-5,5),lon=slice(170,220)).mean(dim=('lat','lon'))#[:-1]\n",
    "Xindex"
   ]
  },
  {
   "cell_type": "markdown",
   "id": "95bc717e-e26f-4682-8801-33983e52c37a",
   "metadata": {},
   "source": [
    "### Load data"
   ]
  },
  {
   "cell_type": "code",
   "execution_count": null,
   "id": "627022d9-307a-4c77-b34f-75d3cddaeea2",
   "metadata": {},
   "outputs": [],
   "source": [
    "tot_for_union=np.empty((38, 30, 24, 24000))\n",
    "tot_for_union.fill(np.NaN)"
   ]
  },
  {
   "cell_type": "code",
   "execution_count": null,
   "id": "abddfd14-7790-41e9-9644-d74caaff3bb3",
   "metadata": {},
   "outputs": [],
   "source": [
    "for m in lead_times:\n",
    "    for n in periods:\n",
    "        tot_for_union[:,:,m, m + n*1200 : m + n*1200 +1176]=np.load(f'Forecasts 50/30EOFs_forecast_p{n}.npy')[:,:,m,:]"
   ]
  },
  {
   "cell_type": "code",
   "execution_count": null,
   "id": "20c711ae-ffcc-4074-a10a-12d533eacdfa",
   "metadata": {},
   "outputs": [],
   "source": [
    "import psutil\n",
    "psutil.virtual_memory()"
   ]
  },
  {
   "cell_type": "markdown",
   "id": "c8a83aef-b7e6-4ab3-ba80-1178f365fb55",
   "metadata": {},
   "source": [
    "### Correlations"
   ]
  },
  {
   "cell_type": "code",
   "execution_count": null,
   "id": "a093abd6-a762-4231-84c9-732ee0606c21",
   "metadata": {},
   "outputs": [],
   "source": [
    "mean_av=np.zeros(24)"
   ]
  },
  {
   "cell_type": "code",
   "execution_count": null,
   "id": "a970c716-ce48-42bb-9af5-88397294741e",
   "metadata": {},
   "outputs": [],
   "source": [
    "import random"
   ]
  },
  {
   "cell_type": "code",
   "execution_count": null,
   "id": "4f264b88-3433-430c-a910-460be7d5654e",
   "metadata": {},
   "outputs": [],
   "source": [
    "diff_gauss30_lead=np.zeros((19,10))\n",
    "lead=10\n",
    "\n",
    "for m in range(10):\n",
    "\n",
    "    for i in for_levels:\n",
    "        \n",
    "        num=i+1\n",
    "\n",
    "        mean_av=np.zeros(24)\n",
    "        mean_ind=np.zeros((24,num))\n",
    "        \n",
    "        chosen=random.sample(operators, k=num)\n",
    "        \n",
    "        ## Compute average forecast\n",
    "        av_for=np.mean(tot_for_union[chosen, :,:,:], axis=0)\n",
    "        av_for_geo_array=udat_sst @ av_for[0:20,lead,:]            \n",
    "        av_for_geo = xr.full_like(X_tos.A[:,:],0)\n",
    "        av_for_geo.data=av_for_geo_array.real\n",
    "        Avindex=av_for_geo.unstack().sel(lat=slice(-5,5),lon=slice(170,220)).mean(dim=('lat','lon'))\n",
    "        \n",
    "        #Correlation average forecast and observations\n",
    "        mean_av[lead]=np.corrcoef(Xindex[np.invert(np.isnan(Avindex))],Avindex[np.invert(np.isnan(Avindex))])[0,1]\n",
    "        #RMSE_mean_av[lead]=1-np.sqrt(np.square(np.subtract(Xindex[np.invert(np.isnan(Avindex))],Avindex[np.invert(np.isnan(Avindex))])).mean()) / np.std(Xindex[np.invert(np.isnan(Avindex))])\n",
    "        #print(mean_av[lead])\n",
    "        \n",
    "        #Average correlation between individual forecast and observations\n",
    "        for j in range(num):  \n",
    "            phix_geo_array=udat_sst @ tot_for_union[chosen[j],0:20,lead,:]  \n",
    "            phix_geo = xr.full_like(X_tos.A[:,:],0)\n",
    "            phix_geo.data=phix_geo_array.real\n",
    "            Phiindex=phix_geo.unstack().sel(lat=slice(-5,5),lon=slice(170,220)).mean(dim=('lat','lon'))\n",
    "        \n",
    "            mean_ind[lead,j]=np.corrcoef(Xindex[np.invert(np.isnan(Phiindex))],Phiindex[np.invert(np.isnan(Phiindex))])[0,1]\n",
    "            #RMSE_mean_ind[lead,i]= 1-np.sqrt(np.square(np.subtract(Xindex[np.invert(np.isnan(Phiindex))],Phiindex[np.invert(np.isnan(Phiindex))])).mean()) / np.std(Xindex[np.invert(np.isnan(Phiindex))])\n",
    "            \n",
    "        av_corr=np.mean(mean_ind, axis=1)[lead]\n",
    "        save=int(i/2)\n",
    "        diff_gauss30_lead[save,m]=mean_av[lead]-av_corr\n",
    "        print(m, \" \", num, \"   \", mean_av[lead]-av_corr)"
   ]
  },
  {
   "cell_type": "code",
   "execution_count": null,
   "id": "65ddb634-db2c-438c-b0fb-7b42ccc2b44b",
   "metadata": {},
   "outputs": [],
   "source": []
  },
  {
   "cell_type": "code",
   "execution_count": null,
   "id": "7b63476e-c3a8-45c5-8d66-195e5b1366dd",
   "metadata": {},
   "outputs": [],
   "source": [
    "np.save('Forecasts 50/Skill metrics/diff_gauss30_lead5.npy', diff_gauss30_lead, allow_pickle=True, fix_imports=True)"
   ]
  },
  {
   "cell_type": "code",
   "execution_count": null,
   "id": "f95d7be4-e40f-4ba0-a1a8-cb89de1aafe9",
   "metadata": {},
   "outputs": [],
   "source": [
    "np.save('Forecasts 50/Skill metrics/diff_gauss30_lead10.npy', diff_gauss30_lead, allow_pickle=True, fix_imports=True)"
   ]
  },
  {
   "cell_type": "code",
   "execution_count": null,
   "id": "76ecd57a-bdfe-430f-a7b7-f38c8173963e",
   "metadata": {},
   "outputs": [],
   "source": [
    "np.save('Forecasts 50/Skill metrics/diff_gauss30_lead15.npy', diff_gauss30_lead, allow_pickle=True, fix_imports=True)"
   ]
  },
  {
   "cell_type": "code",
   "execution_count": null,
   "id": "8198821c-668a-415d-b82e-6f8b38ef24c3",
   "metadata": {},
   "outputs": [],
   "source": []
  },
  {
   "cell_type": "markdown",
   "id": "3f58a30c-636b-4af8-a116-04b34535d9ee",
   "metadata": {},
   "source": [
    "## 30 POLY"
   ]
  },
  {
   "cell_type": "code",
   "execution_count": null,
   "id": "74836f65-698b-40fd-92dd-dcb23b6cd09f",
   "metadata": {},
   "outputs": [],
   "source": [
    "#Select EOFs\n",
    "udat_sst=EOFs[:,0:20]"
   ]
  },
  {
   "cell_type": "code",
   "execution_count": null,
   "id": "64fa0942-85af-457f-b21c-0b4c4c4f8500",
   "metadata": {},
   "outputs": [],
   "source": [
    "## Compute observations NON truncated to PCs\n",
    "Xindex=X_tos.A.unstack().sel(lat=slice(-5,5),lon=slice(170,220)).mean(dim=('lat','lon'))#[:-1]\n",
    "Xindex"
   ]
  },
  {
   "cell_type": "markdown",
   "id": "56650225-2130-4057-a0c8-4ae67da5fcb5",
   "metadata": {},
   "source": [
    "### Load data"
   ]
  },
  {
   "cell_type": "code",
   "execution_count": null,
   "id": "1a6d85a2-7cdf-49d9-891d-0ffe10c9952d",
   "metadata": {},
   "outputs": [],
   "source": [
    "tot_for_union=np.empty((38, 30, 24, 24000))\n",
    "tot_for_union.fill(np.NaN)"
   ]
  },
  {
   "cell_type": "code",
   "execution_count": null,
   "id": "e4c954a5-cde8-4a98-ae97-9e96fce4ede4",
   "metadata": {},
   "outputs": [],
   "source": [
    "for m in lead_times:\n",
    "    for n in periods:\n",
    "        tot_for_union[:,:,m, m + n*1200 : m + n*1200 +1176]=np.load(f'Forecasts 50/Poly_forecast_p{n}.npy')[:,:,m,:]"
   ]
  },
  {
   "cell_type": "code",
   "execution_count": null,
   "id": "9515774e-f407-4fa9-8a15-22c3867241e0",
   "metadata": {},
   "outputs": [],
   "source": [
    "import psutil\n",
    "psutil.virtual_memory()"
   ]
  },
  {
   "cell_type": "markdown",
   "id": "b34cffa5-8481-464a-9928-186e75c3616c",
   "metadata": {},
   "source": [
    "### Correlations"
   ]
  },
  {
   "cell_type": "code",
   "execution_count": null,
   "id": "f87d1725-e0ff-43f5-ba13-771b8d87d5a4",
   "metadata": {},
   "outputs": [],
   "source": [
    "mean_av=np.zeros(24)"
   ]
  },
  {
   "cell_type": "code",
   "execution_count": null,
   "id": "d4060338-7f12-4ac1-ab4e-805033b3e455",
   "metadata": {},
   "outputs": [],
   "source": [
    "import random"
   ]
  },
  {
   "cell_type": "code",
   "execution_count": null,
   "id": "2ba7e663-a2d6-47e2-87b8-473245fa4c7f",
   "metadata": {},
   "outputs": [],
   "source": [
    "diff_poly_lead=np.zeros((19,10))\n",
    "lead=15\n",
    "\n",
    "for m in range(10):\n",
    "\n",
    "    for i in for_levels:\n",
    "        \n",
    "        num=i+1\n",
    "\n",
    "        mean_av=np.zeros(24)\n",
    "        mean_ind=np.zeros((24,num))\n",
    "        \n",
    "        chosen=random.sample(operators, k=num)\n",
    "        \n",
    "        ## Compute average forecast\n",
    "        av_for=np.mean(tot_for_union[chosen, :,:,:], axis=0)\n",
    "        av_for_geo_array=udat_sst @ av_for[0:20,lead,:]            \n",
    "        av_for_geo = xr.full_like(X_tos.A[:,:],0)\n",
    "        av_for_geo.data=av_for_geo_array.real\n",
    "        Avindex=av_for_geo.unstack().sel(lat=slice(-5,5),lon=slice(170,220)).mean(dim=('lat','lon'))\n",
    "        \n",
    "        #Correlation average forecast and observations\n",
    "        mean_av[lead]=np.corrcoef(Xindex[np.invert(np.isnan(Avindex))],Avindex[np.invert(np.isnan(Avindex))])[0,1]\n",
    "        #RMSE_mean_av[lead]=1-np.sqrt(np.square(np.subtract(Xindex[np.invert(np.isnan(Avindex))],Avindex[np.invert(np.isnan(Avindex))])).mean()) / np.std(Xindex[np.invert(np.isnan(Avindex))])\n",
    "        #print(mean_av[lead])\n",
    "        \n",
    "        #Average correlation between individual forecast and observations\n",
    "        for j in range(num):  \n",
    "            phix_geo_array=udat_sst @ tot_for_union[chosen[j],0:20,lead,:]  \n",
    "            phix_geo = xr.full_like(X_tos.A[:,:],0)\n",
    "            phix_geo.data=phix_geo_array.real\n",
    "            Phiindex=phix_geo.unstack().sel(lat=slice(-5,5),lon=slice(170,220)).mean(dim=('lat','lon'))\n",
    "        \n",
    "            mean_ind[lead,j]=np.corrcoef(Xindex[np.invert(np.isnan(Phiindex))],Phiindex[np.invert(np.isnan(Phiindex))])[0,1]\n",
    "            #RMSE_mean_ind[lead,i]= 1-np.sqrt(np.square(np.subtract(Xindex[np.invert(np.isnan(Phiindex))],Phiindex[np.invert(np.isnan(Phiindex))])).mean()) / np.std(Xindex[np.invert(np.isnan(Phiindex))])\n",
    "            \n",
    "        av_corr=np.mean(mean_ind, axis=1)[lead]\n",
    "        save=int(i/2)\n",
    "        diff_poly_lead[save,m]=mean_av[lead]-av_corr\n",
    "        print(m, \" \", num, \"   \", mean_av[lead]-av_corr)\n"
   ]
  },
  {
   "cell_type": "code",
   "execution_count": null,
   "id": "f79acbd7-8e08-49de-a447-2dec3e1a4db3",
   "metadata": {},
   "outputs": [],
   "source": [
    "np.save('Forecasts 50/Skill metrics/diff_poly_lead5.npy', diff_poly_lead, allow_pickle=True, fix_imports=True)"
   ]
  },
  {
   "cell_type": "code",
   "execution_count": null,
   "id": "4ccebd41-615a-4bb5-8314-70120fced248",
   "metadata": {},
   "outputs": [],
   "source": [
    "np.save('Forecasts 50/Skill metrics/diff_poly_lead10.npy', diff_poly_lead, allow_pickle=True, fix_imports=True)"
   ]
  },
  {
   "cell_type": "code",
   "execution_count": null,
   "id": "1dda46f0-dd0e-42e3-a7c6-b87b764be91d",
   "metadata": {},
   "outputs": [],
   "source": [
    "np.save('Forecasts 50/Skill metrics/diff_poly_lead15.npy', diff_poly_lead, allow_pickle=True, fix_imports=True)"
   ]
  },
  {
   "cell_type": "code",
   "execution_count": null,
   "id": "f02dbd6b-b510-4225-8d7c-ea7cf9566df4",
   "metadata": {},
   "outputs": [],
   "source": []
  },
  {
   "cell_type": "markdown",
   "id": "fb51b0b1-04b8-442c-9eba-0114b20303bf",
   "metadata": {},
   "source": [
    "# TOT GRAPH"
   ]
  },
  {
   "cell_type": "code",
   "execution_count": 5,
   "id": "ce8dbbb3-55a0-4af6-b699-f98bc0e682de",
   "metadata": {},
   "outputs": [],
   "source": [
    "diff_gauss30_lead5=np.load('Forecasts 50/Skill metrics/diff_gauss30_lead5.npy')\n",
    "diff_gauss30_lead10=np.load('Forecasts 50/Skill metrics/diff_gauss30_lead10.npy')\n",
    "diff_gauss30_lead15=np.load('Forecasts 50/Skill metrics/diff_gauss30_lead15.npy')"
   ]
  },
  {
   "cell_type": "code",
   "execution_count": 16,
   "id": "4dfdf984-9b0c-4ecc-9698-e60a493f8964",
   "metadata": {},
   "outputs": [],
   "source": [
    "diff_gaussALL_lead5=np.load('Forecasts 50/Skill metrics/diff_gaussALL_lead5.npy')\n",
    "diff_gaussALL_lead10=np.load('Forecasts 50/Skill metrics/diff_gaussALL_lead10.npy')\n",
    "diff_gaussALL_lead15=np.load('Forecasts 50/Skill metrics/diff_gaussALL_lead15.npy')"
   ]
  },
  {
   "cell_type": "code",
   "execution_count": 7,
   "id": "39e66aff-77b2-48a9-b5a3-c6ab53054bb2",
   "metadata": {},
   "outputs": [],
   "source": [
    "diff_poly_lead5=np.load('Forecasts 50/Skill metrics/diff_poly_lead5.npy')\n",
    "diff_poly_lead10=np.load('Forecasts 50/Skill metrics/diff_poly_lead10.npy')\n",
    "diff_poly_lead15=np.load('Forecasts 50/Skill metrics/diff_poly_lead15.npy')"
   ]
  },
  {
   "cell_type": "code",
   "execution_count": 17,
   "id": "1e191317-8013-448c-8baa-b9d827978258",
   "metadata": {},
   "outputs": [
    {
     "data": {
      "image/png": "[encoded data removed]",
      "text/plain": [
       "<Figure size 800x600 with 1 Axes>"
      ]
     },
     "metadata": {},
     "output_type": "display_data"
    }
   ],
   "source": [
    "fig, ax = plt.subplots(nrows=1, ncols=1,figsize=(8,6))\n",
    "\n",
    "xval=np.arange(0, 38, 2)\n",
    "\n",
    "ax.axhline(0.6, linestyle='--',color='black')\n",
    "ax.set_xlabel('Number of members')\n",
    "ax.set_ylabel('Diff.')\n",
    "ax.set_ylim([0,0.2])\n",
    "ax.set_title('',loc='left')\n",
    "\n",
    "ax.plot(xval, np.mean(diff_gaussALL_lead5, axis=1), lw=1.5, label='Gauss ALL Lead 5', linestyle='dotted', color='green')\n",
    "ax.plot(xval, np.mean(diff_gaussALL_lead10, axis=1), lw=1.5, label='Gauss ALL Lead 10', linestyle='dashed', color='green')\n",
    "ax.plot(xval, np.mean(diff_gaussALL_lead15, axis=1), lw=1.5, label='Gauss ALL Lead 15', color='green')\n",
    "\n",
    "ax.plot(xval, np.mean(diff_gauss30_lead5, axis=1), lw=1.5, label='Gauss 30 Lead 5', linestyle='dotted', color='orange')\n",
    "ax.plot(xval, np.mean(diff_gauss30_lead10, axis=1), lw=1.5, label='Gauss 30 Lead 10', linestyle='dashed', color='orange')\n",
    "ax.plot(xval, np.mean(diff_gauss30_lead15, axis=1), lw=1.5, label='Gauss 30 Lead 15', color='orange')\n",
    "\n",
    "ax.plot(xval, np.mean(diff_poly_lead5, axis=1), lw=1.5, label='Poly Lead 5', linestyle='dotted', color='blue')\n",
    "ax.plot(xval, np.mean(diff_poly_lead10, axis=1), lw=1.5, label='Poly Lead 10', linestyle='dashed', color='blue')\n",
    "ax.plot(xval, np.mean(diff_poly_lead15, axis=1), lw=1.5, label='Poly 30 Lead 15', color='blue')\n",
    "\n",
    "\n",
    "\n",
    "bigtitle = 'Niño 3.4 Evaluation' \n",
    "ax.set_title(bigtitle,fontsize=16)\n",
    "ax.yaxis.grid(color='gray', linestyle='dashed')\n",
    "ax.xaxis.grid(color='gray', linestyle='dashed')\n",
    "\n",
    "plt.legend()\n",
    "plt.suptitle('',fontsize='xx-large')\n",
    "labfile = 'due metodi forecasting MONTHS' + '.pdf'\n",
    "#plt.savefig(labfile, orientation='landscape',  format='pdf')\n",
    "plt.show() "
   ]
  },
  {
   "cell_type": "code",
   "execution_count": null,
   "id": "c5482ece-4b7d-4e8d-be49-43eafd8268d5",
   "metadata": {},
   "outputs": [],
   "source": []
  }
 ],
 "metadata": {
  "kernelspec": {
   "display_name": "koopman",
   "language": "python",
   "name": "koopman"
  },
  "language_info": {
   "codemirror_mode": {
    "name": "ipython",
    "version": 3
   },
   "file_extension": ".py",
   "mimetype": "text/x-python",
   "name": "python",
   "nbconvert_exporter": "python",
   "pygments_lexer": "ipython3",
   "version": "3.11.5"
  }
 },
 "nbformat": 4,
 "nbformat_minor": 5
}
